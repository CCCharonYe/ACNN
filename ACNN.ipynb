{
 "cells": [
  {
   "cell_type": "code",
   "execution_count": 1,
   "metadata": {
    "ExecuteTime": {
     "end_time": "2024-04-15T01:30:45.669714Z",
     "start_time": "2024-04-15T01:30:45.640843Z"
    }
   },
   "outputs": [],
   "source": [
    "import matplotlib\n",
    "import matplotlib.pyplot as plt\n",
    "import numpy as np\n",
    "import pandas as pd\n",
    "import tensorflow as tf\n",
    "from keras.optimizers import Adam\n",
    "from keras.regularizers import l2\n",
    "from imblearn.over_sampling import RandomOverSampler,SMOTE\n",
    "from sklearn.model_selection import train_test_split\n",
    "from keras.utils import to_categorical\n",
    "from keras import regularizers\n",
    "from tensorflow.python.keras import backend as K\n",
    "from keras.models import Model\n",
    "from keras.models import Sequential\n",
    "from keras.layers import Dense\n",
    "from keras.layers import Dropout\n",
    "from keras.layers import Flatten\n",
    "from keras.layers import Reshape\n",
    "from keras.layers import MultiHeadAttention\n",
    "from keras.layers import Input\n",
    "from keras.layers import Lambda\n",
    "from keras.layers import Concatenate,GlobalAveragePooling1D\n",
    "from keras.layers import Masking, LSTM, TimeDistributed\n",
    "from keras.layers import Conv1D\n",
    "from keras.layers import MaxPooling1D\n",
    "import smote_variants as sv"
   ]
  },
  {
   "cell_type": "code",
   "execution_count": 2,
   "metadata": {},
   "outputs": [],
   "source": [
    "data1 = pd.read_csv(\"dataset/camel14.csv\")\n",
    "(row, cell) = data1.values.shape\n",
    "data2=data1.values\n",
    "X=np.array(data2).astype(float)  \n",
    "#X =  sv.CURE_SMOTE()"
   ]
  },
  {
   "cell_type": "code",
   "execution_count": 3,
   "metadata": {},
   "outputs": [],
   "source": [
    "y=X[:,cell-1]\n",
    "X=X[:,0:cell-1]\n",
    "X_res, y_res = X, y\n",
    "X_res.shape,y_res.shape\n",
    "X_res.shape\n",
    "X_res=X_res.reshape(row,cell-1,1)\n",
    "X_train, y_train = X_res, y_res"
   ]
  },
  {
   "cell_type": "code",
   "execution_count": 6,
   "metadata": {
    "scrolled": true
   },
   "outputs": [],
   "source": [
    "data1 = pd.read_csv(\"dataset/camel16.csv\")\n",
    "(row1, cell1) = data1.values.shape\n",
    "data1.values.shape\n",
    "data2=data1.values\n",
    "X=np.array(data2).astype(float)  \n",
    "#X =  sv.CURE_SMOTE()\n"
   ]
  },
  {
   "cell_type": "code",
   "execution_count": 7,
   "metadata": {},
   "outputs": [],
   "source": [
    "y=X[:,cell-1]\n",
    "X=X[:,0:cell-1]\n",
    "X_res, y_res = X, y\n",
    "X_res.shape,y_res.shape\n",
    "X_res.shape\n",
    "X_res=X_res.reshape(row1,cell-1,1)\n",
    "X_test, y_test = X_res, y_res"
   ]
  },
  {
   "cell_type": "code",
   "execution_count": 8,
   "metadata": {},
   "outputs": [
    {
     "data": {
      "text/plain": [
       "((1429, 20, 1), (934, 20, 1), (1429, 2), (934, 2))"
      ]
     },
     "execution_count": 8,
     "metadata": {},
     "output_type": "execute_result"
    }
   ],
   "source": [
    "# 转换标签为独热编码\n",
    "y_train = to_categorical(y_train)\n",
    "y_test = to_categorical(y_test)\n",
    "X_train.shape, X_test.shape, y_train.shape, y_test.shape"
   ]
  },
  {
   "cell_type": "code",
   "execution_count": 12,
   "metadata": {},
   "outputs": [],
   "source": [
    "# Define the search space\n",
    "lb = [8, 2, 1, 1, 0.0001]  # Lower bounds for the hyperparameters\n",
    "ub = [64, 5, 4, 4, 0.01]   # Upper bounds for the hyperparameters"
   ]
  },
  {
   "cell_type": "code",
   "execution_count": 13,
   "metadata": {},
   "outputs": [],
   "source": [
    "def recall_m(y_true, y_pred):\n",
    "        true_positives = K.sum(K.round(K.clip(y_true * y_pred, 0, 1)))\n",
    "        possible_positives = K.sum(K.round(K.clip(y_true, 0, 1)))\n",
    "        recall = true_positives / (possible_positives + K.epsilon())\n",
    "        return recall\n",
    "\n",
    "def precision_m(y_true, y_pred):\n",
    "        true_positives = K.sum(K.round(K.clip(y_true * y_pred, 0, 1)))\n",
    "        predicted_positives = K.sum(K.round(K.clip(y_pred, 0, 1)))\n",
    "        precision = true_positives / (predicted_positives + K.epsilon())\n",
    "        return precision\n",
    "\n",
    "def f1_m(y_true, y_pred):\n",
    "    precision = precision_m(y_true, y_pred)\n",
    "    recall = recall_m(y_true, y_pred)\n",
    "    return 2*((precision*recall)/(precision+recall+K.epsilon()))\n",
    "threshold = 0.5  \n",
    "\n",
    "def mcc_metric(y_true, y_pred):\n",
    "    predicted = tf.cast(tf.greater(y_pred, threshold), tf.float32)\n",
    "    true_pos = tf.math.count_nonzero(predicted * y_true)\n",
    "    true_neg = tf.math.count_nonzero((predicted - 1) * (y_true - 1))\n",
    "    false_pos = tf.math.count_nonzero(predicted * (y_true - 1))\n",
    "    false_neg = tf.math.count_nonzero((predicted - 1) * y_true)\n",
    "    x = tf.cast((true_pos + false_pos) * (true_pos + false_neg) \n",
    "        * (true_neg + false_pos) * (true_neg + false_neg), tf.float32)\n",
    "    return tf.cast((true_pos * true_neg) - (false_pos * false_neg), tf.float32) / tf.sqrt(x)"
   ]
  },
  {
   "cell_type": "code",
   "execution_count": 14,
   "metadata": {},
   "outputs": [],
   "source": [
    "num_classes=2\n",
    "\n",
    "def baseline_model(filters, kernel_size, num_heads, key_dim):\n",
    "    inputs = Input(shape=(cell-1, 1))\n",
    "    print(inputs.shape)\n",
    "    conv = Conv1D(filters=filters, kernel_size=int(kernel_size), activation='relu', kernel_regularizer='l2')(inputs)\n",
    "    pool = MaxPooling1D(pool_size=2)(conv)\n",
    "    multi_attention = MultiHeadAttention(num_heads=int(num_heads), key_dim=int(key_dim))(pool, pool)\n",
    "    masked = Masking(mask_value=0.0)(multi_attention)\n",
    "    lstm = LSTM(64, return_sequences=True)(masked)\n",
    "    self_supervised_task = TimeDistributed(Dense(1))(lstm)\n",
    "    flattened_self_supervised_task = Flatten()(self_supervised_task)\n",
    "    flattened_multi_attention = Flatten()(multi_attention)\n",
    "    concatenated = Concatenate()([flattened_multi_attention, flattened_self_supervised_task])\n",
    "    fc = Dense(21, activation='relu', kernel_regularizer='l2')(concatenated)\n",
    "    outputs = Dense(num_classes, activation='sigmoid', kernel_regularizer='l2')(fc)\n",
    "    model = Model(inputs=inputs, outputs=outputs)\n",
    "    return model"
   ]
  },
  {
   "cell_type": "code",
   "execution_count": 15,
   "metadata": {},
   "outputs": [],
   "source": [
    "def fitness_function(hyperparameters):\n",
    "    filters, kernel_size, num_heads, key_dim, learning_rate = hyperparameters\n",
    "    filters = int(filters)  # Ensure filters is an integer\n",
    "    kernel_size = int(kernel_size)  # Ensure kernel_size is an integer\n",
    "    num_heads = int(num_heads)  # Ensure num_heads is an integer\n",
    "    key_dim = int(key_dim)  # Ensure key_dim is an integer\n",
    "    model = baseline_model(filters, kernel_size, num_heads, key_dim)\n",
    "    model.compile(loss='binary_crossentropy', optimizer=Adam(learning_rate), metrics=['accuracy', f1_m, recall_m, mcc_metric])\n",
    "    history = model.fit(X_train, y_train, validation_data=(X_test, y_test), epochs=64, batch_size=64,verbose=0)\n",
    "    mcc = history.history['val_mcc_metric'][-1]  \n",
    "    return -mcc "
   ]
  },
  {
   "cell_type": "code",
   "execution_count": 16,
   "metadata": {},
   "outputs": [],
   "source": [
    "def pso(objective_function, lb, ub, swarmsize=10, maxiter=20, wmax=0.9,wmin=0.4, cmin=0, cmax=4.0):\n",
    "    \"\"\"\n",
    "    Particle Swarm Optimization (PSO) algorithm.\n",
    "\n",
    "    Parameters:\n",
    "        objective_function: The objective function to be minimized. This function should take a single argument representing the particle's position and return the corresponding fitness value.\n",
    "        lb: Lower bounds for each dimension of the search space.\n",
    "        ub: Upper bounds for each dimension of the search space.\n",
    "        swarmsize: Number of particles in the swarm (default=10).\n",
    "        maxiter: Maximum number of iterations (default=100).\n",
    "        w: Inertia weight (default=0.5).\n",
    "        c1: Cognitive parameter (default=2.0).\n",
    "        c2: Social parameter (default=2.0).\n",
    "\n",
    "    Returns:\n",
    "        global_best_position: The best solution found by the algorithm.\n",
    "        global_best_fitness: The fitness value of the best solution found.\n",
    "    \"\"\"\n",
    "\n",
    "    num_dimensions = len(lb)\n",
    "    position = np.random.uniform(lb, ub, size=(swarmsize, num_dimensions))\n",
    "    velocity = np.zeros_like(position)\n",
    "    personal_best_position = position.copy()\n",
    "    personal_best_fitness = np.array([np.inf] * swarmsize)\n",
    "    global_best_fitness = np.inf\n",
    "    global_best_position = np.zeros(num_dimensions)\n",
    "\n",
    "    for iter in range(maxiter):\n",
    "        w = wmax - (wmax - wmin) * iter / maxiter\n",
    "        t = w + 0.1\n",
    "        c1 = cmin + (cmax - cmin) / (1 + np.exp(maxiter / 2 - iter))\n",
    "        c2 = cmin + (cmax - cmin) / (1 + np.exp(iter - maxiter / 2))\n",
    "        for i in range(swarmsize):\n",
    "            fitness = objective_function(position[i])\n",
    "            if fitness < personal_best_fitness[i]:\n",
    "                personal_best_fitness[i] = fitness\n",
    "                personal_best_position[i] = position[i].copy()\n",
    "            if fitness < global_best_fitness:\n",
    "                global_best_fitness = fitness\n",
    "                global_best_position = position[i].copy()\n",
    "\n",
    "        print(\"Iteration:\", iter+1)\n",
    "        print(\"Global best position:\", global_best_position)\n",
    "        print(\"Global best fitness:\", global_best_fitness)\n",
    "\n",
    "        for i in range(swarmsize):\n",
    "            velocity[i] = w * velocity[i] + c1 * np.random.rand() * (personal_best_position[i] - position[i]) \\\n",
    "                           + c2 * np.random.rand() * (global_best_position - position[i])\n",
    "            position[i] += (t * velocity[i])\n",
    "            position[i] = np.clip(position[i], lb, ub)\n",
    "\n",
    "    return global_best_position, global_best_fitness\n"
   ]
  },
  {
   "cell_type": "code",
   "execution_count": 17,
   "metadata": {},
   "outputs": [],
   "source": [
    "# Enable eager execution\n",
    "tf.config.run_functions_eagerly(True)"
   ]
  },
  {
   "cell_type": "code",
   "execution_count": 18,
   "metadata": {},
   "outputs": [
    {
     "name": "stdout",
     "output_type": "stream",
     "text": [
      "Start PSO optimization...\n",
      "(None, 20, 1)\n"
     ]
    },
    {
     "name": "stderr",
     "output_type": "stream",
     "text": [
      "G:\\anaconda3\\Lib\\site-packages\\keras\\src\\layers\\layer.py:915: UserWarning: Layer 'flatten' (of type Flatten) was passed an input with a mask attached to it. However, this layer does not support masking and will therefore destroy the mask information. Downstream layers will not see the mask.\n",
      "  warnings.warn(\n",
      "G:\\anaconda3\\Lib\\site-packages\\tensorflow\\python\\data\\ops\\structured_function.py:258: UserWarning: Even though the `tf.config.experimental_run_functions_eagerly` option is set, this option does not apply to tf.data functions. To force eager execution of tf.data functions, please use `tf.data.experimental.enable_debug_mode()`.\n",
      "  warnings.warn(\n"
     ]
    },
    {
     "name": "stdout",
     "output_type": "stream",
     "text": [
      "(None, 20, 1)\n"
     ]
    },
    {
     "name": "stderr",
     "output_type": "stream",
     "text": [
      "G:\\anaconda3\\Lib\\site-packages\\keras\\src\\layers\\layer.py:915: UserWarning: Layer 'flatten_2' (of type Flatten) was passed an input with a mask attached to it. However, this layer does not support masking and will therefore destroy the mask information. Downstream layers will not see the mask.\n",
      "  warnings.warn(\n"
     ]
    },
    {
     "name": "stdout",
     "output_type": "stream",
     "text": [
      "(None, 20, 1)\n"
     ]
    },
    {
     "name": "stderr",
     "output_type": "stream",
     "text": [
      "G:\\anaconda3\\Lib\\site-packages\\keras\\src\\layers\\layer.py:915: UserWarning: Layer 'flatten_4' (of type Flatten) was passed an input with a mask attached to it. However, this layer does not support masking and will therefore destroy the mask information. Downstream layers will not see the mask.\n",
      "  warnings.warn(\n"
     ]
    },
    {
     "name": "stdout",
     "output_type": "stream",
     "text": [
      "(None, 20, 1)\n"
     ]
    },
    {
     "name": "stderr",
     "output_type": "stream",
     "text": [
      "G:\\anaconda3\\Lib\\site-packages\\keras\\src\\layers\\layer.py:915: UserWarning: Layer 'flatten_6' (of type Flatten) was passed an input with a mask attached to it. However, this layer does not support masking and will therefore destroy the mask information. Downstream layers will not see the mask.\n",
      "  warnings.warn(\n"
     ]
    },
    {
     "name": "stdout",
     "output_type": "stream",
     "text": [
      "(None, 20, 1)\n"
     ]
    },
    {
     "name": "stderr",
     "output_type": "stream",
     "text": [
      "G:\\anaconda3\\Lib\\site-packages\\keras\\src\\layers\\layer.py:915: UserWarning: Layer 'flatten_8' (of type Flatten) was passed an input with a mask attached to it. However, this layer does not support masking and will therefore destroy the mask information. Downstream layers will not see the mask.\n",
      "  warnings.warn(\n"
     ]
    },
    {
     "name": "stdout",
     "output_type": "stream",
     "text": [
      "(None, 20, 1)\n"
     ]
    },
    {
     "name": "stderr",
     "output_type": "stream",
     "text": [
      "G:\\anaconda3\\Lib\\site-packages\\keras\\src\\layers\\layer.py:915: UserWarning: Layer 'flatten_10' (of type Flatten) was passed an input with a mask attached to it. However, this layer does not support masking and will therefore destroy the mask information. Downstream layers will not see the mask.\n",
      "  warnings.warn(\n"
     ]
    },
    {
     "name": "stdout",
     "output_type": "stream",
     "text": [
      "(None, 20, 1)\n"
     ]
    },
    {
     "name": "stderr",
     "output_type": "stream",
     "text": [
      "G:\\anaconda3\\Lib\\site-packages\\keras\\src\\layers\\layer.py:915: UserWarning: Layer 'flatten_12' (of type Flatten) was passed an input with a mask attached to it. However, this layer does not support masking and will therefore destroy the mask information. Downstream layers will not see the mask.\n",
      "  warnings.warn(\n"
     ]
    },
    {
     "name": "stdout",
     "output_type": "stream",
     "text": [
      "(None, 20, 1)\n"
     ]
    },
    {
     "name": "stderr",
     "output_type": "stream",
     "text": [
      "G:\\anaconda3\\Lib\\site-packages\\keras\\src\\layers\\layer.py:915: UserWarning: Layer 'flatten_14' (of type Flatten) was passed an input with a mask attached to it. However, this layer does not support masking and will therefore destroy the mask information. Downstream layers will not see the mask.\n",
      "  warnings.warn(\n"
     ]
    },
    {
     "name": "stdout",
     "output_type": "stream",
     "text": [
      "(None, 20, 1)\n"
     ]
    },
    {
     "name": "stderr",
     "output_type": "stream",
     "text": [
      "G:\\anaconda3\\Lib\\site-packages\\keras\\src\\layers\\layer.py:915: UserWarning: Layer 'flatten_16' (of type Flatten) was passed an input with a mask attached to it. However, this layer does not support masking and will therefore destroy the mask information. Downstream layers will not see the mask.\n",
      "  warnings.warn(\n"
     ]
    },
    {
     "name": "stdout",
     "output_type": "stream",
     "text": [
      "(None, 20, 1)\n"
     ]
    },
    {
     "name": "stderr",
     "output_type": "stream",
     "text": [
      "G:\\anaconda3\\Lib\\site-packages\\keras\\src\\layers\\layer.py:915: UserWarning: Layer 'flatten_18' (of type Flatten) was passed an input with a mask attached to it. However, this layer does not support masking and will therefore destroy the mask information. Downstream layers will not see the mask.\n",
      "  warnings.warn(\n"
     ]
    },
    {
     "name": "stdout",
     "output_type": "stream",
     "text": [
      "Iteration: 1\n",
      "Global best position: [2.83759210e+01 3.30484183e+00 3.86922261e+00 2.14119844e+00\n",
      " 2.47773046e-03]\n",
      "Global best fitness: -0.4644573926925659\n",
      "(None, 20, 1)\n"
     ]
    },
    {
     "name": "stderr",
     "output_type": "stream",
     "text": [
      "G:\\anaconda3\\Lib\\site-packages\\keras\\src\\layers\\layer.py:915: UserWarning: Layer 'flatten_20' (of type Flatten) was passed an input with a mask attached to it. However, this layer does not support masking and will therefore destroy the mask information. Downstream layers will not see the mask.\n",
      "  warnings.warn(\n"
     ]
    },
    {
     "name": "stdout",
     "output_type": "stream",
     "text": [
      "(None, 20, 1)\n"
     ]
    },
    {
     "name": "stderr",
     "output_type": "stream",
     "text": [
      "G:\\anaconda3\\Lib\\site-packages\\keras\\src\\layers\\layer.py:915: UserWarning: Layer 'flatten_22' (of type Flatten) was passed an input with a mask attached to it. However, this layer does not support masking and will therefore destroy the mask information. Downstream layers will not see the mask.\n",
      "  warnings.warn(\n"
     ]
    },
    {
     "name": "stdout",
     "output_type": "stream",
     "text": [
      "(None, 20, 1)\n"
     ]
    },
    {
     "name": "stderr",
     "output_type": "stream",
     "text": [
      "G:\\anaconda3\\Lib\\site-packages\\keras\\src\\layers\\layer.py:915: UserWarning: Layer 'flatten_24' (of type Flatten) was passed an input with a mask attached to it. However, this layer does not support masking and will therefore destroy the mask information. Downstream layers will not see the mask.\n",
      "  warnings.warn(\n"
     ]
    },
    {
     "name": "stdout",
     "output_type": "stream",
     "text": [
      "(None, 20, 1)\n"
     ]
    },
    {
     "name": "stderr",
     "output_type": "stream",
     "text": [
      "G:\\anaconda3\\Lib\\site-packages\\keras\\src\\layers\\layer.py:915: UserWarning: Layer 'flatten_26' (of type Flatten) was passed an input with a mask attached to it. However, this layer does not support masking and will therefore destroy the mask information. Downstream layers will not see the mask.\n",
      "  warnings.warn(\n"
     ]
    },
    {
     "name": "stdout",
     "output_type": "stream",
     "text": [
      "(None, 20, 1)\n"
     ]
    },
    {
     "name": "stderr",
     "output_type": "stream",
     "text": [
      "G:\\anaconda3\\Lib\\site-packages\\keras\\src\\layers\\layer.py:915: UserWarning: Layer 'flatten_28' (of type Flatten) was passed an input with a mask attached to it. However, this layer does not support masking and will therefore destroy the mask information. Downstream layers will not see the mask.\n",
      "  warnings.warn(\n"
     ]
    },
    {
     "name": "stdout",
     "output_type": "stream",
     "text": [
      "(None, 20, 1)\n"
     ]
    },
    {
     "name": "stderr",
     "output_type": "stream",
     "text": [
      "G:\\anaconda3\\Lib\\site-packages\\keras\\src\\layers\\layer.py:915: UserWarning: Layer 'flatten_30' (of type Flatten) was passed an input with a mask attached to it. However, this layer does not support masking and will therefore destroy the mask information. Downstream layers will not see the mask.\n",
      "  warnings.warn(\n"
     ]
    },
    {
     "name": "stdout",
     "output_type": "stream",
     "text": [
      "(None, 20, 1)\n"
     ]
    },
    {
     "name": "stderr",
     "output_type": "stream",
     "text": [
      "G:\\anaconda3\\Lib\\site-packages\\keras\\src\\layers\\layer.py:915: UserWarning: Layer 'flatten_32' (of type Flatten) was passed an input with a mask attached to it. However, this layer does not support masking and will therefore destroy the mask information. Downstream layers will not see the mask.\n",
      "  warnings.warn(\n"
     ]
    },
    {
     "name": "stdout",
     "output_type": "stream",
     "text": [
      "(None, 20, 1)\n"
     ]
    },
    {
     "name": "stderr",
     "output_type": "stream",
     "text": [
      "G:\\anaconda3\\Lib\\site-packages\\keras\\src\\layers\\layer.py:915: UserWarning: Layer 'flatten_34' (of type Flatten) was passed an input with a mask attached to it. However, this layer does not support masking and will therefore destroy the mask information. Downstream layers will not see the mask.\n",
      "  warnings.warn(\n"
     ]
    },
    {
     "name": "stdout",
     "output_type": "stream",
     "text": [
      "(None, 20, 1)\n"
     ]
    },
    {
     "name": "stderr",
     "output_type": "stream",
     "text": [
      "G:\\anaconda3\\Lib\\site-packages\\keras\\src\\layers\\layer.py:915: UserWarning: Layer 'flatten_36' (of type Flatten) was passed an input with a mask attached to it. However, this layer does not support masking and will therefore destroy the mask information. Downstream layers will not see the mask.\n",
      "  warnings.warn(\n"
     ]
    },
    {
     "name": "stdout",
     "output_type": "stream",
     "text": [
      "(None, 20, 1)\n"
     ]
    },
    {
     "name": "stderr",
     "output_type": "stream",
     "text": [
      "G:\\anaconda3\\Lib\\site-packages\\keras\\src\\layers\\layer.py:915: UserWarning: Layer 'flatten_38' (of type Flatten) was passed an input with a mask attached to it. However, this layer does not support masking and will therefore destroy the mask information. Downstream layers will not see the mask.\n",
      "  warnings.warn(\n"
     ]
    },
    {
     "name": "stdout",
     "output_type": "stream",
     "text": [
      "Iteration: 2\n",
      "Global best position: [2.61073572e+01 2.74895218e+00 4.00000000e+00 3.59059912e+00\n",
      " 3.29127638e-03]\n",
      "Global best fitness: -0.5099780559539795\n",
      "(None, 20, 1)\n"
     ]
    },
    {
     "name": "stderr",
     "output_type": "stream",
     "text": [
      "G:\\anaconda3\\Lib\\site-packages\\keras\\src\\layers\\layer.py:915: UserWarning: Layer 'flatten_40' (of type Flatten) was passed an input with a mask attached to it. However, this layer does not support masking and will therefore destroy the mask information. Downstream layers will not see the mask.\n",
      "  warnings.warn(\n"
     ]
    },
    {
     "name": "stdout",
     "output_type": "stream",
     "text": [
      "(None, 20, 1)\n"
     ]
    },
    {
     "name": "stderr",
     "output_type": "stream",
     "text": [
      "G:\\anaconda3\\Lib\\site-packages\\keras\\src\\layers\\layer.py:915: UserWarning: Layer 'flatten_42' (of type Flatten) was passed an input with a mask attached to it. However, this layer does not support masking and will therefore destroy the mask information. Downstream layers will not see the mask.\n",
      "  warnings.warn(\n"
     ]
    },
    {
     "name": "stdout",
     "output_type": "stream",
     "text": [
      "(None, 20, 1)\n"
     ]
    },
    {
     "name": "stderr",
     "output_type": "stream",
     "text": [
      "G:\\anaconda3\\Lib\\site-packages\\keras\\src\\layers\\layer.py:915: UserWarning: Layer 'flatten_44' (of type Flatten) was passed an input with a mask attached to it. However, this layer does not support masking and will therefore destroy the mask information. Downstream layers will not see the mask.\n",
      "  warnings.warn(\n"
     ]
    },
    {
     "name": "stdout",
     "output_type": "stream",
     "text": [
      "(None, 20, 1)\n"
     ]
    },
    {
     "name": "stderr",
     "output_type": "stream",
     "text": [
      "G:\\anaconda3\\Lib\\site-packages\\keras\\src\\layers\\layer.py:915: UserWarning: Layer 'flatten_46' (of type Flatten) was passed an input with a mask attached to it. However, this layer does not support masking and will therefore destroy the mask information. Downstream layers will not see the mask.\n",
      "  warnings.warn(\n"
     ]
    },
    {
     "name": "stdout",
     "output_type": "stream",
     "text": [
      "(None, 20, 1)\n"
     ]
    },
    {
     "name": "stderr",
     "output_type": "stream",
     "text": [
      "G:\\anaconda3\\Lib\\site-packages\\keras\\src\\layers\\layer.py:915: UserWarning: Layer 'flatten_48' (of type Flatten) was passed an input with a mask attached to it. However, this layer does not support masking and will therefore destroy the mask information. Downstream layers will not see the mask.\n",
      "  warnings.warn(\n"
     ]
    },
    {
     "name": "stdout",
     "output_type": "stream",
     "text": [
      "(None, 20, 1)\n"
     ]
    },
    {
     "name": "stderr",
     "output_type": "stream",
     "text": [
      "G:\\anaconda3\\Lib\\site-packages\\keras\\src\\layers\\layer.py:915: UserWarning: Layer 'flatten_50' (of type Flatten) was passed an input with a mask attached to it. However, this layer does not support masking and will therefore destroy the mask information. Downstream layers will not see the mask.\n",
      "  warnings.warn(\n"
     ]
    },
    {
     "name": "stdout",
     "output_type": "stream",
     "text": [
      "(None, 20, 1)\n"
     ]
    },
    {
     "name": "stderr",
     "output_type": "stream",
     "text": [
      "G:\\anaconda3\\Lib\\site-packages\\keras\\src\\layers\\layer.py:915: UserWarning: Layer 'flatten_52' (of type Flatten) was passed an input with a mask attached to it. However, this layer does not support masking and will therefore destroy the mask information. Downstream layers will not see the mask.\n",
      "  warnings.warn(\n"
     ]
    },
    {
     "name": "stdout",
     "output_type": "stream",
     "text": [
      "(None, 20, 1)\n"
     ]
    },
    {
     "name": "stderr",
     "output_type": "stream",
     "text": [
      "G:\\anaconda3\\Lib\\site-packages\\keras\\src\\layers\\layer.py:915: UserWarning: Layer 'flatten_54' (of type Flatten) was passed an input with a mask attached to it. However, this layer does not support masking and will therefore destroy the mask information. Downstream layers will not see the mask.\n",
      "  warnings.warn(\n"
     ]
    },
    {
     "name": "stdout",
     "output_type": "stream",
     "text": [
      "(None, 20, 1)\n"
     ]
    },
    {
     "name": "stderr",
     "output_type": "stream",
     "text": [
      "G:\\anaconda3\\Lib\\site-packages\\keras\\src\\layers\\layer.py:915: UserWarning: Layer 'flatten_56' (of type Flatten) was passed an input with a mask attached to it. However, this layer does not support masking and will therefore destroy the mask information. Downstream layers will not see the mask.\n",
      "  warnings.warn(\n"
     ]
    },
    {
     "name": "stdout",
     "output_type": "stream",
     "text": [
      "(None, 20, 1)\n"
     ]
    },
    {
     "name": "stderr",
     "output_type": "stream",
     "text": [
      "G:\\anaconda3\\Lib\\site-packages\\keras\\src\\layers\\layer.py:915: UserWarning: Layer 'flatten_58' (of type Flatten) was passed an input with a mask attached to it. However, this layer does not support masking and will therefore destroy the mask information. Downstream layers will not see the mask.\n",
      "  warnings.warn(\n"
     ]
    },
    {
     "name": "stdout",
     "output_type": "stream",
     "text": [
      "Iteration: 3\n",
      "Global best position: [2.61073572e+01 2.74895218e+00 4.00000000e+00 3.59059912e+00\n",
      " 3.29127638e-03]\n",
      "Global best fitness: -0.5099780559539795\n",
      "(None, 20, 1)\n"
     ]
    },
    {
     "name": "stderr",
     "output_type": "stream",
     "text": [
      "G:\\anaconda3\\Lib\\site-packages\\keras\\src\\layers\\layer.py:915: UserWarning: Layer 'flatten_60' (of type Flatten) was passed an input with a mask attached to it. However, this layer does not support masking and will therefore destroy the mask information. Downstream layers will not see the mask.\n",
      "  warnings.warn(\n"
     ]
    },
    {
     "name": "stdout",
     "output_type": "stream",
     "text": [
      "(None, 20, 1)\n"
     ]
    },
    {
     "name": "stderr",
     "output_type": "stream",
     "text": [
      "G:\\anaconda3\\Lib\\site-packages\\keras\\src\\layers\\layer.py:915: UserWarning: Layer 'flatten_62' (of type Flatten) was passed an input with a mask attached to it. However, this layer does not support masking and will therefore destroy the mask information. Downstream layers will not see the mask.\n",
      "  warnings.warn(\n"
     ]
    },
    {
     "name": "stdout",
     "output_type": "stream",
     "text": [
      "(None, 20, 1)\n"
     ]
    },
    {
     "name": "stderr",
     "output_type": "stream",
     "text": [
      "G:\\anaconda3\\Lib\\site-packages\\keras\\src\\layers\\layer.py:915: UserWarning: Layer 'flatten_64' (of type Flatten) was passed an input with a mask attached to it. However, this layer does not support masking and will therefore destroy the mask information. Downstream layers will not see the mask.\n",
      "  warnings.warn(\n"
     ]
    },
    {
     "name": "stdout",
     "output_type": "stream",
     "text": [
      "(None, 20, 1)\n"
     ]
    },
    {
     "name": "stderr",
     "output_type": "stream",
     "text": [
      "G:\\anaconda3\\Lib\\site-packages\\keras\\src\\layers\\layer.py:915: UserWarning: Layer 'flatten_66' (of type Flatten) was passed an input with a mask attached to it. However, this layer does not support masking and will therefore destroy the mask information. Downstream layers will not see the mask.\n",
      "  warnings.warn(\n"
     ]
    },
    {
     "name": "stdout",
     "output_type": "stream",
     "text": [
      "(None, 20, 1)\n"
     ]
    },
    {
     "name": "stderr",
     "output_type": "stream",
     "text": [
      "G:\\anaconda3\\Lib\\site-packages\\keras\\src\\layers\\layer.py:915: UserWarning: Layer 'flatten_68' (of type Flatten) was passed an input with a mask attached to it. However, this layer does not support masking and will therefore destroy the mask information. Downstream layers will not see the mask.\n",
      "  warnings.warn(\n"
     ]
    },
    {
     "name": "stdout",
     "output_type": "stream",
     "text": [
      "(None, 20, 1)\n"
     ]
    },
    {
     "name": "stderr",
     "output_type": "stream",
     "text": [
      "G:\\anaconda3\\Lib\\site-packages\\keras\\src\\layers\\layer.py:915: UserWarning: Layer 'flatten_70' (of type Flatten) was passed an input with a mask attached to it. However, this layer does not support masking and will therefore destroy the mask information. Downstream layers will not see the mask.\n",
      "  warnings.warn(\n"
     ]
    },
    {
     "name": "stdout",
     "output_type": "stream",
     "text": [
      "(None, 20, 1)\n"
     ]
    },
    {
     "name": "stderr",
     "output_type": "stream",
     "text": [
      "G:\\anaconda3\\Lib\\site-packages\\keras\\src\\layers\\layer.py:915: UserWarning: Layer 'flatten_72' (of type Flatten) was passed an input with a mask attached to it. However, this layer does not support masking and will therefore destroy the mask information. Downstream layers will not see the mask.\n",
      "  warnings.warn(\n"
     ]
    },
    {
     "name": "stdout",
     "output_type": "stream",
     "text": [
      "(None, 20, 1)\n"
     ]
    },
    {
     "name": "stderr",
     "output_type": "stream",
     "text": [
      "G:\\anaconda3\\Lib\\site-packages\\keras\\src\\layers\\layer.py:915: UserWarning: Layer 'flatten_74' (of type Flatten) was passed an input with a mask attached to it. However, this layer does not support masking and will therefore destroy the mask information. Downstream layers will not see the mask.\n",
      "  warnings.warn(\n"
     ]
    },
    {
     "name": "stdout",
     "output_type": "stream",
     "text": [
      "(None, 20, 1)\n"
     ]
    },
    {
     "name": "stderr",
     "output_type": "stream",
     "text": [
      "G:\\anaconda3\\Lib\\site-packages\\keras\\src\\layers\\layer.py:915: UserWarning: Layer 'flatten_76' (of type Flatten) was passed an input with a mask attached to it. However, this layer does not support masking and will therefore destroy the mask information. Downstream layers will not see the mask.\n",
      "  warnings.warn(\n"
     ]
    },
    {
     "name": "stdout",
     "output_type": "stream",
     "text": [
      "(None, 20, 1)\n"
     ]
    },
    {
     "name": "stderr",
     "output_type": "stream",
     "text": [
      "G:\\anaconda3\\Lib\\site-packages\\keras\\src\\layers\\layer.py:915: UserWarning: Layer 'flatten_78' (of type Flatten) was passed an input with a mask attached to it. However, this layer does not support masking and will therefore destroy the mask information. Downstream layers will not see the mask.\n",
      "  warnings.warn(\n"
     ]
    },
    {
     "name": "stdout",
     "output_type": "stream",
     "text": [
      "Iteration: 4\n",
      "Global best position: [2.61073572e+01 2.74895218e+00 4.00000000e+00 3.59059912e+00\n",
      " 3.29127638e-03]\n",
      "Global best fitness: -0.5099780559539795\n",
      "(None, 20, 1)\n"
     ]
    },
    {
     "name": "stderr",
     "output_type": "stream",
     "text": [
      "G:\\anaconda3\\Lib\\site-packages\\keras\\src\\layers\\layer.py:915: UserWarning: Layer 'flatten_80' (of type Flatten) was passed an input with a mask attached to it. However, this layer does not support masking and will therefore destroy the mask information. Downstream layers will not see the mask.\n",
      "  warnings.warn(\n"
     ]
    },
    {
     "name": "stdout",
     "output_type": "stream",
     "text": [
      "(None, 20, 1)\n"
     ]
    },
    {
     "name": "stderr",
     "output_type": "stream",
     "text": [
      "G:\\anaconda3\\Lib\\site-packages\\keras\\src\\layers\\layer.py:915: UserWarning: Layer 'flatten_82' (of type Flatten) was passed an input with a mask attached to it. However, this layer does not support masking and will therefore destroy the mask information. Downstream layers will not see the mask.\n",
      "  warnings.warn(\n"
     ]
    },
    {
     "name": "stdout",
     "output_type": "stream",
     "text": [
      "(None, 20, 1)\n"
     ]
    },
    {
     "name": "stderr",
     "output_type": "stream",
     "text": [
      "G:\\anaconda3\\Lib\\site-packages\\keras\\src\\layers\\layer.py:915: UserWarning: Layer 'flatten_84' (of type Flatten) was passed an input with a mask attached to it. However, this layer does not support masking and will therefore destroy the mask information. Downstream layers will not see the mask.\n",
      "  warnings.warn(\n"
     ]
    },
    {
     "name": "stdout",
     "output_type": "stream",
     "text": [
      "(None, 20, 1)\n"
     ]
    },
    {
     "name": "stderr",
     "output_type": "stream",
     "text": [
      "G:\\anaconda3\\Lib\\site-packages\\keras\\src\\layers\\layer.py:915: UserWarning: Layer 'flatten_86' (of type Flatten) was passed an input with a mask attached to it. However, this layer does not support masking and will therefore destroy the mask information. Downstream layers will not see the mask.\n",
      "  warnings.warn(\n"
     ]
    },
    {
     "name": "stdout",
     "output_type": "stream",
     "text": [
      "(None, 20, 1)\n"
     ]
    },
    {
     "name": "stderr",
     "output_type": "stream",
     "text": [
      "G:\\anaconda3\\Lib\\site-packages\\keras\\src\\layers\\layer.py:915: UserWarning: Layer 'flatten_88' (of type Flatten) was passed an input with a mask attached to it. However, this layer does not support masking and will therefore destroy the mask information. Downstream layers will not see the mask.\n",
      "  warnings.warn(\n"
     ]
    },
    {
     "name": "stdout",
     "output_type": "stream",
     "text": [
      "(None, 20, 1)\n"
     ]
    },
    {
     "name": "stderr",
     "output_type": "stream",
     "text": [
      "G:\\anaconda3\\Lib\\site-packages\\keras\\src\\layers\\layer.py:915: UserWarning: Layer 'flatten_90' (of type Flatten) was passed an input with a mask attached to it. However, this layer does not support masking and will therefore destroy the mask information. Downstream layers will not see the mask.\n",
      "  warnings.warn(\n"
     ]
    },
    {
     "name": "stdout",
     "output_type": "stream",
     "text": [
      "(None, 20, 1)\n"
     ]
    },
    {
     "name": "stderr",
     "output_type": "stream",
     "text": [
      "G:\\anaconda3\\Lib\\site-packages\\keras\\src\\layers\\layer.py:915: UserWarning: Layer 'flatten_92' (of type Flatten) was passed an input with a mask attached to it. However, this layer does not support masking and will therefore destroy the mask information. Downstream layers will not see the mask.\n",
      "  warnings.warn(\n"
     ]
    },
    {
     "name": "stdout",
     "output_type": "stream",
     "text": [
      "(None, 20, 1)\n"
     ]
    },
    {
     "name": "stderr",
     "output_type": "stream",
     "text": [
      "G:\\anaconda3\\Lib\\site-packages\\keras\\src\\layers\\layer.py:915: UserWarning: Layer 'flatten_94' (of type Flatten) was passed an input with a mask attached to it. However, this layer does not support masking and will therefore destroy the mask information. Downstream layers will not see the mask.\n",
      "  warnings.warn(\n"
     ]
    },
    {
     "name": "stdout",
     "output_type": "stream",
     "text": [
      "(None, 20, 1)\n"
     ]
    },
    {
     "name": "stderr",
     "output_type": "stream",
     "text": [
      "G:\\anaconda3\\Lib\\site-packages\\keras\\src\\layers\\layer.py:915: UserWarning: Layer 'flatten_96' (of type Flatten) was passed an input with a mask attached to it. However, this layer does not support masking and will therefore destroy the mask information. Downstream layers will not see the mask.\n",
      "  warnings.warn(\n"
     ]
    },
    {
     "name": "stdout",
     "output_type": "stream",
     "text": [
      "(None, 20, 1)\n"
     ]
    },
    {
     "name": "stderr",
     "output_type": "stream",
     "text": [
      "G:\\anaconda3\\Lib\\site-packages\\keras\\src\\layers\\layer.py:915: UserWarning: Layer 'flatten_98' (of type Flatten) was passed an input with a mask attached to it. However, this layer does not support masking and will therefore destroy the mask information. Downstream layers will not see the mask.\n",
      "  warnings.warn(\n"
     ]
    },
    {
     "name": "stdout",
     "output_type": "stream",
     "text": [
      "Iteration: 5\n",
      "Global best position: [2.61073572e+01 2.74895218e+00 4.00000000e+00 3.59059912e+00\n",
      " 3.29127638e-03]\n",
      "Global best fitness: -0.5099780559539795\n",
      "(None, 20, 1)\n"
     ]
    },
    {
     "name": "stderr",
     "output_type": "stream",
     "text": [
      "G:\\anaconda3\\Lib\\site-packages\\keras\\src\\layers\\layer.py:915: UserWarning: Layer 'flatten_100' (of type Flatten) was passed an input with a mask attached to it. However, this layer does not support masking and will therefore destroy the mask information. Downstream layers will not see the mask.\n",
      "  warnings.warn(\n"
     ]
    },
    {
     "name": "stdout",
     "output_type": "stream",
     "text": [
      "(None, 20, 1)\n"
     ]
    },
    {
     "name": "stderr",
     "output_type": "stream",
     "text": [
      "G:\\anaconda3\\Lib\\site-packages\\keras\\src\\layers\\layer.py:915: UserWarning: Layer 'flatten_102' (of type Flatten) was passed an input with a mask attached to it. However, this layer does not support masking and will therefore destroy the mask information. Downstream layers will not see the mask.\n",
      "  warnings.warn(\n"
     ]
    },
    {
     "name": "stdout",
     "output_type": "stream",
     "text": [
      "(None, 20, 1)\n"
     ]
    },
    {
     "name": "stderr",
     "output_type": "stream",
     "text": [
      "G:\\anaconda3\\Lib\\site-packages\\keras\\src\\layers\\layer.py:915: UserWarning: Layer 'flatten_104' (of type Flatten) was passed an input with a mask attached to it. However, this layer does not support masking and will therefore destroy the mask information. Downstream layers will not see the mask.\n",
      "  warnings.warn(\n"
     ]
    },
    {
     "name": "stdout",
     "output_type": "stream",
     "text": [
      "(None, 20, 1)\n"
     ]
    },
    {
     "name": "stderr",
     "output_type": "stream",
     "text": [
      "G:\\anaconda3\\Lib\\site-packages\\keras\\src\\layers\\layer.py:915: UserWarning: Layer 'flatten_106' (of type Flatten) was passed an input with a mask attached to it. However, this layer does not support masking and will therefore destroy the mask information. Downstream layers will not see the mask.\n",
      "  warnings.warn(\n"
     ]
    },
    {
     "name": "stdout",
     "output_type": "stream",
     "text": [
      "(None, 20, 1)\n"
     ]
    },
    {
     "name": "stderr",
     "output_type": "stream",
     "text": [
      "G:\\anaconda3\\Lib\\site-packages\\keras\\src\\layers\\layer.py:915: UserWarning: Layer 'flatten_108' (of type Flatten) was passed an input with a mask attached to it. However, this layer does not support masking and will therefore destroy the mask information. Downstream layers will not see the mask.\n",
      "  warnings.warn(\n"
     ]
    },
    {
     "name": "stdout",
     "output_type": "stream",
     "text": [
      "(None, 20, 1)\n"
     ]
    },
    {
     "name": "stderr",
     "output_type": "stream",
     "text": [
      "G:\\anaconda3\\Lib\\site-packages\\keras\\src\\layers\\layer.py:915: UserWarning: Layer 'flatten_110' (of type Flatten) was passed an input with a mask attached to it. However, this layer does not support masking and will therefore destroy the mask information. Downstream layers will not see the mask.\n",
      "  warnings.warn(\n"
     ]
    },
    {
     "name": "stdout",
     "output_type": "stream",
     "text": [
      "(None, 20, 1)\n"
     ]
    },
    {
     "name": "stderr",
     "output_type": "stream",
     "text": [
      "G:\\anaconda3\\Lib\\site-packages\\keras\\src\\layers\\layer.py:915: UserWarning: Layer 'flatten_112' (of type Flatten) was passed an input with a mask attached to it. However, this layer does not support masking and will therefore destroy the mask information. Downstream layers will not see the mask.\n",
      "  warnings.warn(\n"
     ]
    },
    {
     "name": "stdout",
     "output_type": "stream",
     "text": [
      "(None, 20, 1)\n"
     ]
    },
    {
     "name": "stderr",
     "output_type": "stream",
     "text": [
      "G:\\anaconda3\\Lib\\site-packages\\keras\\src\\layers\\layer.py:915: UserWarning: Layer 'flatten_114' (of type Flatten) was passed an input with a mask attached to it. However, this layer does not support masking and will therefore destroy the mask information. Downstream layers will not see the mask.\n",
      "  warnings.warn(\n"
     ]
    },
    {
     "name": "stdout",
     "output_type": "stream",
     "text": [
      "(None, 20, 1)\n"
     ]
    },
    {
     "name": "stderr",
     "output_type": "stream",
     "text": [
      "G:\\anaconda3\\Lib\\site-packages\\keras\\src\\layers\\layer.py:915: UserWarning: Layer 'flatten_116' (of type Flatten) was passed an input with a mask attached to it. However, this layer does not support masking and will therefore destroy the mask information. Downstream layers will not see the mask.\n",
      "  warnings.warn(\n"
     ]
    },
    {
     "name": "stdout",
     "output_type": "stream",
     "text": [
      "(None, 20, 1)\n"
     ]
    },
    {
     "name": "stderr",
     "output_type": "stream",
     "text": [
      "G:\\anaconda3\\Lib\\site-packages\\keras\\src\\layers\\layer.py:915: UserWarning: Layer 'flatten_118' (of type Flatten) was passed an input with a mask attached to it. However, this layer does not support masking and will therefore destroy the mask information. Downstream layers will not see the mask.\n",
      "  warnings.warn(\n"
     ]
    },
    {
     "name": "stdout",
     "output_type": "stream",
     "text": [
      "Iteration: 6\n",
      "Global best position: [2.61073572e+01 2.74895218e+00 4.00000000e+00 3.59059912e+00\n",
      " 3.29127638e-03]\n",
      "Global best fitness: -0.5099780559539795\n",
      "(None, 20, 1)\n"
     ]
    },
    {
     "name": "stderr",
     "output_type": "stream",
     "text": [
      "G:\\anaconda3\\Lib\\site-packages\\keras\\src\\layers\\layer.py:915: UserWarning: Layer 'flatten_120' (of type Flatten) was passed an input with a mask attached to it. However, this layer does not support masking and will therefore destroy the mask information. Downstream layers will not see the mask.\n",
      "  warnings.warn(\n"
     ]
    },
    {
     "name": "stdout",
     "output_type": "stream",
     "text": [
      "(None, 20, 1)\n"
     ]
    },
    {
     "name": "stderr",
     "output_type": "stream",
     "text": [
      "G:\\anaconda3\\Lib\\site-packages\\keras\\src\\layers\\layer.py:915: UserWarning: Layer 'flatten_122' (of type Flatten) was passed an input with a mask attached to it. However, this layer does not support masking and will therefore destroy the mask information. Downstream layers will not see the mask.\n",
      "  warnings.warn(\n"
     ]
    },
    {
     "name": "stdout",
     "output_type": "stream",
     "text": [
      "(None, 20, 1)\n"
     ]
    },
    {
     "name": "stderr",
     "output_type": "stream",
     "text": [
      "G:\\anaconda3\\Lib\\site-packages\\keras\\src\\layers\\layer.py:915: UserWarning: Layer 'flatten_124' (of type Flatten) was passed an input with a mask attached to it. However, this layer does not support masking and will therefore destroy the mask information. Downstream layers will not see the mask.\n",
      "  warnings.warn(\n"
     ]
    },
    {
     "name": "stdout",
     "output_type": "stream",
     "text": [
      "(None, 20, 1)\n"
     ]
    },
    {
     "name": "stderr",
     "output_type": "stream",
     "text": [
      "G:\\anaconda3\\Lib\\site-packages\\keras\\src\\layers\\layer.py:915: UserWarning: Layer 'flatten_126' (of type Flatten) was passed an input with a mask attached to it. However, this layer does not support masking and will therefore destroy the mask information. Downstream layers will not see the mask.\n",
      "  warnings.warn(\n"
     ]
    },
    {
     "name": "stdout",
     "output_type": "stream",
     "text": [
      "(None, 20, 1)\n"
     ]
    },
    {
     "name": "stderr",
     "output_type": "stream",
     "text": [
      "G:\\anaconda3\\Lib\\site-packages\\keras\\src\\layers\\layer.py:915: UserWarning: Layer 'flatten_128' (of type Flatten) was passed an input with a mask attached to it. However, this layer does not support masking and will therefore destroy the mask information. Downstream layers will not see the mask.\n",
      "  warnings.warn(\n"
     ]
    },
    {
     "name": "stdout",
     "output_type": "stream",
     "text": [
      "(None, 20, 1)\n"
     ]
    },
    {
     "name": "stderr",
     "output_type": "stream",
     "text": [
      "G:\\anaconda3\\Lib\\site-packages\\keras\\src\\layers\\layer.py:915: UserWarning: Layer 'flatten_130' (of type Flatten) was passed an input with a mask attached to it. However, this layer does not support masking and will therefore destroy the mask information. Downstream layers will not see the mask.\n",
      "  warnings.warn(\n"
     ]
    },
    {
     "name": "stdout",
     "output_type": "stream",
     "text": [
      "(None, 20, 1)\n"
     ]
    },
    {
     "name": "stderr",
     "output_type": "stream",
     "text": [
      "G:\\anaconda3\\Lib\\site-packages\\keras\\src\\layers\\layer.py:915: UserWarning: Layer 'flatten_132' (of type Flatten) was passed an input with a mask attached to it. However, this layer does not support masking and will therefore destroy the mask information. Downstream layers will not see the mask.\n",
      "  warnings.warn(\n"
     ]
    },
    {
     "name": "stdout",
     "output_type": "stream",
     "text": [
      "(None, 20, 1)\n"
     ]
    },
    {
     "name": "stderr",
     "output_type": "stream",
     "text": [
      "G:\\anaconda3\\Lib\\site-packages\\keras\\src\\layers\\layer.py:915: UserWarning: Layer 'flatten_134' (of type Flatten) was passed an input with a mask attached to it. However, this layer does not support masking and will therefore destroy the mask information. Downstream layers will not see the mask.\n",
      "  warnings.warn(\n"
     ]
    },
    {
     "name": "stdout",
     "output_type": "stream",
     "text": [
      "(None, 20, 1)\n"
     ]
    },
    {
     "name": "stderr",
     "output_type": "stream",
     "text": [
      "G:\\anaconda3\\Lib\\site-packages\\keras\\src\\layers\\layer.py:915: UserWarning: Layer 'flatten_136' (of type Flatten) was passed an input with a mask attached to it. However, this layer does not support masking and will therefore destroy the mask information. Downstream layers will not see the mask.\n",
      "  warnings.warn(\n"
     ]
    },
    {
     "name": "stdout",
     "output_type": "stream",
     "text": [
      "(None, 20, 1)\n"
     ]
    },
    {
     "name": "stderr",
     "output_type": "stream",
     "text": [
      "G:\\anaconda3\\Lib\\site-packages\\keras\\src\\layers\\layer.py:915: UserWarning: Layer 'flatten_138' (of type Flatten) was passed an input with a mask attached to it. However, this layer does not support masking and will therefore destroy the mask information. Downstream layers will not see the mask.\n",
      "  warnings.warn(\n"
     ]
    },
    {
     "name": "stdout",
     "output_type": "stream",
     "text": [
      "Iteration: 7\n",
      "Global best position: [2.61073572e+01 2.74895218e+00 4.00000000e+00 3.59059912e+00\n",
      " 3.29127638e-03]\n",
      "Global best fitness: -0.5099780559539795\n",
      "(None, 20, 1)\n"
     ]
    },
    {
     "name": "stderr",
     "output_type": "stream",
     "text": [
      "G:\\anaconda3\\Lib\\site-packages\\keras\\src\\layers\\layer.py:915: UserWarning: Layer 'flatten_140' (of type Flatten) was passed an input with a mask attached to it. However, this layer does not support masking and will therefore destroy the mask information. Downstream layers will not see the mask.\n",
      "  warnings.warn(\n"
     ]
    },
    {
     "name": "stdout",
     "output_type": "stream",
     "text": [
      "(None, 20, 1)\n"
     ]
    },
    {
     "name": "stderr",
     "output_type": "stream",
     "text": [
      "G:\\anaconda3\\Lib\\site-packages\\keras\\src\\layers\\layer.py:915: UserWarning: Layer 'flatten_142' (of type Flatten) was passed an input with a mask attached to it. However, this layer does not support masking and will therefore destroy the mask information. Downstream layers will not see the mask.\n",
      "  warnings.warn(\n"
     ]
    },
    {
     "name": "stdout",
     "output_type": "stream",
     "text": [
      "(None, 20, 1)\n"
     ]
    },
    {
     "name": "stderr",
     "output_type": "stream",
     "text": [
      "G:\\anaconda3\\Lib\\site-packages\\keras\\src\\layers\\layer.py:915: UserWarning: Layer 'flatten_144' (of type Flatten) was passed an input with a mask attached to it. However, this layer does not support masking and will therefore destroy the mask information. Downstream layers will not see the mask.\n",
      "  warnings.warn(\n"
     ]
    },
    {
     "name": "stdout",
     "output_type": "stream",
     "text": [
      "(None, 20, 1)\n"
     ]
    },
    {
     "name": "stderr",
     "output_type": "stream",
     "text": [
      "G:\\anaconda3\\Lib\\site-packages\\keras\\src\\layers\\layer.py:915: UserWarning: Layer 'flatten_146' (of type Flatten) was passed an input with a mask attached to it. However, this layer does not support masking and will therefore destroy the mask information. Downstream layers will not see the mask.\n",
      "  warnings.warn(\n"
     ]
    },
    {
     "name": "stdout",
     "output_type": "stream",
     "text": [
      "(None, 20, 1)\n"
     ]
    },
    {
     "name": "stderr",
     "output_type": "stream",
     "text": [
      "G:\\anaconda3\\Lib\\site-packages\\keras\\src\\layers\\layer.py:915: UserWarning: Layer 'flatten_148' (of type Flatten) was passed an input with a mask attached to it. However, this layer does not support masking and will therefore destroy the mask information. Downstream layers will not see the mask.\n",
      "  warnings.warn(\n"
     ]
    },
    {
     "name": "stdout",
     "output_type": "stream",
     "text": [
      "(None, 20, 1)\n"
     ]
    },
    {
     "name": "stderr",
     "output_type": "stream",
     "text": [
      "G:\\anaconda3\\Lib\\site-packages\\keras\\src\\layers\\layer.py:915: UserWarning: Layer 'flatten_150' (of type Flatten) was passed an input with a mask attached to it. However, this layer does not support masking and will therefore destroy the mask information. Downstream layers will not see the mask.\n",
      "  warnings.warn(\n"
     ]
    },
    {
     "name": "stdout",
     "output_type": "stream",
     "text": [
      "(None, 20, 1)\n"
     ]
    },
    {
     "name": "stderr",
     "output_type": "stream",
     "text": [
      "G:\\anaconda3\\Lib\\site-packages\\keras\\src\\layers\\layer.py:915: UserWarning: Layer 'flatten_152' (of type Flatten) was passed an input with a mask attached to it. However, this layer does not support masking and will therefore destroy the mask information. Downstream layers will not see the mask.\n",
      "  warnings.warn(\n"
     ]
    },
    {
     "name": "stdout",
     "output_type": "stream",
     "text": [
      "(None, 20, 1)\n"
     ]
    },
    {
     "name": "stderr",
     "output_type": "stream",
     "text": [
      "G:\\anaconda3\\Lib\\site-packages\\keras\\src\\layers\\layer.py:915: UserWarning: Layer 'flatten_154' (of type Flatten) was passed an input with a mask attached to it. However, this layer does not support masking and will therefore destroy the mask information. Downstream layers will not see the mask.\n",
      "  warnings.warn(\n"
     ]
    },
    {
     "name": "stdout",
     "output_type": "stream",
     "text": [
      "(None, 20, 1)\n"
     ]
    },
    {
     "name": "stderr",
     "output_type": "stream",
     "text": [
      "G:\\anaconda3\\Lib\\site-packages\\keras\\src\\layers\\layer.py:915: UserWarning: Layer 'flatten_156' (of type Flatten) was passed an input with a mask attached to it. However, this layer does not support masking and will therefore destroy the mask information. Downstream layers will not see the mask.\n",
      "  warnings.warn(\n"
     ]
    },
    {
     "name": "stdout",
     "output_type": "stream",
     "text": [
      "(None, 20, 1)\n"
     ]
    },
    {
     "name": "stderr",
     "output_type": "stream",
     "text": [
      "G:\\anaconda3\\Lib\\site-packages\\keras\\src\\layers\\layer.py:915: UserWarning: Layer 'flatten_158' (of type Flatten) was passed an input with a mask attached to it. However, this layer does not support masking and will therefore destroy the mask information. Downstream layers will not see the mask.\n",
      "  warnings.warn(\n"
     ]
    },
    {
     "name": "stdout",
     "output_type": "stream",
     "text": [
      "Iteration: 8\n",
      "Global best position: [2.61073572e+01 2.74895218e+00 4.00000000e+00 3.59059912e+00\n",
      " 3.29127638e-03]\n",
      "Global best fitness: -0.5099780559539795\n",
      "(None, 20, 1)\n"
     ]
    },
    {
     "name": "stderr",
     "output_type": "stream",
     "text": [
      "G:\\anaconda3\\Lib\\site-packages\\keras\\src\\layers\\layer.py:915: UserWarning: Layer 'flatten_160' (of type Flatten) was passed an input with a mask attached to it. However, this layer does not support masking and will therefore destroy the mask information. Downstream layers will not see the mask.\n",
      "  warnings.warn(\n"
     ]
    },
    {
     "name": "stdout",
     "output_type": "stream",
     "text": [
      "(None, 20, 1)\n"
     ]
    },
    {
     "name": "stderr",
     "output_type": "stream",
     "text": [
      "G:\\anaconda3\\Lib\\site-packages\\keras\\src\\layers\\layer.py:915: UserWarning: Layer 'flatten_162' (of type Flatten) was passed an input with a mask attached to it. However, this layer does not support masking and will therefore destroy the mask information. Downstream layers will not see the mask.\n",
      "  warnings.warn(\n"
     ]
    },
    {
     "name": "stdout",
     "output_type": "stream",
     "text": [
      "(None, 20, 1)\n"
     ]
    },
    {
     "name": "stderr",
     "output_type": "stream",
     "text": [
      "G:\\anaconda3\\Lib\\site-packages\\keras\\src\\layers\\layer.py:915: UserWarning: Layer 'flatten_164' (of type Flatten) was passed an input with a mask attached to it. However, this layer does not support masking and will therefore destroy the mask information. Downstream layers will not see the mask.\n",
      "  warnings.warn(\n"
     ]
    },
    {
     "name": "stdout",
     "output_type": "stream",
     "text": [
      "(None, 20, 1)\n"
     ]
    },
    {
     "name": "stderr",
     "output_type": "stream",
     "text": [
      "G:\\anaconda3\\Lib\\site-packages\\keras\\src\\layers\\layer.py:915: UserWarning: Layer 'flatten_166' (of type Flatten) was passed an input with a mask attached to it. However, this layer does not support masking and will therefore destroy the mask information. Downstream layers will not see the mask.\n",
      "  warnings.warn(\n"
     ]
    },
    {
     "name": "stdout",
     "output_type": "stream",
     "text": [
      "(None, 20, 1)\n"
     ]
    },
    {
     "name": "stderr",
     "output_type": "stream",
     "text": [
      "G:\\anaconda3\\Lib\\site-packages\\keras\\src\\layers\\layer.py:915: UserWarning: Layer 'flatten_168' (of type Flatten) was passed an input with a mask attached to it. However, this layer does not support masking and will therefore destroy the mask information. Downstream layers will not see the mask.\n",
      "  warnings.warn(\n"
     ]
    },
    {
     "name": "stdout",
     "output_type": "stream",
     "text": [
      "(None, 20, 1)\n"
     ]
    },
    {
     "name": "stderr",
     "output_type": "stream",
     "text": [
      "G:\\anaconda3\\Lib\\site-packages\\keras\\src\\layers\\layer.py:915: UserWarning: Layer 'flatten_170' (of type Flatten) was passed an input with a mask attached to it. However, this layer does not support masking and will therefore destroy the mask information. Downstream layers will not see the mask.\n",
      "  warnings.warn(\n"
     ]
    },
    {
     "name": "stdout",
     "output_type": "stream",
     "text": [
      "(None, 20, 1)\n"
     ]
    },
    {
     "name": "stderr",
     "output_type": "stream",
     "text": [
      "G:\\anaconda3\\Lib\\site-packages\\keras\\src\\layers\\layer.py:915: UserWarning: Layer 'flatten_172' (of type Flatten) was passed an input with a mask attached to it. However, this layer does not support masking and will therefore destroy the mask information. Downstream layers will not see the mask.\n",
      "  warnings.warn(\n"
     ]
    },
    {
     "name": "stdout",
     "output_type": "stream",
     "text": [
      "(None, 20, 1)\n"
     ]
    },
    {
     "name": "stderr",
     "output_type": "stream",
     "text": [
      "G:\\anaconda3\\Lib\\site-packages\\keras\\src\\layers\\layer.py:915: UserWarning: Layer 'flatten_174' (of type Flatten) was passed an input with a mask attached to it. However, this layer does not support masking and will therefore destroy the mask information. Downstream layers will not see the mask.\n",
      "  warnings.warn(\n"
     ]
    },
    {
     "name": "stdout",
     "output_type": "stream",
     "text": [
      "(None, 20, 1)\n"
     ]
    },
    {
     "name": "stderr",
     "output_type": "stream",
     "text": [
      "G:\\anaconda3\\Lib\\site-packages\\keras\\src\\layers\\layer.py:915: UserWarning: Layer 'flatten_176' (of type Flatten) was passed an input with a mask attached to it. However, this layer does not support masking and will therefore destroy the mask information. Downstream layers will not see the mask.\n",
      "  warnings.warn(\n"
     ]
    },
    {
     "name": "stdout",
     "output_type": "stream",
     "text": [
      "(None, 20, 1)\n"
     ]
    },
    {
     "name": "stderr",
     "output_type": "stream",
     "text": [
      "G:\\anaconda3\\Lib\\site-packages\\keras\\src\\layers\\layer.py:915: UserWarning: Layer 'flatten_178' (of type Flatten) was passed an input with a mask attached to it. However, this layer does not support masking and will therefore destroy the mask information. Downstream layers will not see the mask.\n",
      "  warnings.warn(\n"
     ]
    },
    {
     "name": "stdout",
     "output_type": "stream",
     "text": [
      "Iteration: 9\n",
      "Global best position: [2.61073572e+01 2.74895218e+00 4.00000000e+00 3.59059912e+00\n",
      " 3.29127638e-03]\n",
      "Global best fitness: -0.5099780559539795\n",
      "(None, 20, 1)\n"
     ]
    },
    {
     "name": "stderr",
     "output_type": "stream",
     "text": [
      "G:\\anaconda3\\Lib\\site-packages\\keras\\src\\layers\\layer.py:915: UserWarning: Layer 'flatten_180' (of type Flatten) was passed an input with a mask attached to it. However, this layer does not support masking and will therefore destroy the mask information. Downstream layers will not see the mask.\n",
      "  warnings.warn(\n"
     ]
    },
    {
     "name": "stdout",
     "output_type": "stream",
     "text": [
      "(None, 20, 1)\n"
     ]
    },
    {
     "name": "stderr",
     "output_type": "stream",
     "text": [
      "G:\\anaconda3\\Lib\\site-packages\\keras\\src\\layers\\layer.py:915: UserWarning: Layer 'flatten_182' (of type Flatten) was passed an input with a mask attached to it. However, this layer does not support masking and will therefore destroy the mask information. Downstream layers will not see the mask.\n",
      "  warnings.warn(\n"
     ]
    },
    {
     "name": "stdout",
     "output_type": "stream",
     "text": [
      "(None, 20, 1)\n"
     ]
    },
    {
     "name": "stderr",
     "output_type": "stream",
     "text": [
      "G:\\anaconda3\\Lib\\site-packages\\keras\\src\\layers\\layer.py:915: UserWarning: Layer 'flatten_184' (of type Flatten) was passed an input with a mask attached to it. However, this layer does not support masking and will therefore destroy the mask information. Downstream layers will not see the mask.\n",
      "  warnings.warn(\n"
     ]
    },
    {
     "name": "stdout",
     "output_type": "stream",
     "text": [
      "(None, 20, 1)\n"
     ]
    },
    {
     "name": "stderr",
     "output_type": "stream",
     "text": [
      "G:\\anaconda3\\Lib\\site-packages\\keras\\src\\layers\\layer.py:915: UserWarning: Layer 'flatten_186' (of type Flatten) was passed an input with a mask attached to it. However, this layer does not support masking and will therefore destroy the mask information. Downstream layers will not see the mask.\n",
      "  warnings.warn(\n"
     ]
    },
    {
     "name": "stdout",
     "output_type": "stream",
     "text": [
      "(None, 20, 1)\n"
     ]
    },
    {
     "name": "stderr",
     "output_type": "stream",
     "text": [
      "G:\\anaconda3\\Lib\\site-packages\\keras\\src\\layers\\layer.py:915: UserWarning: Layer 'flatten_188' (of type Flatten) was passed an input with a mask attached to it. However, this layer does not support masking and will therefore destroy the mask information. Downstream layers will not see the mask.\n",
      "  warnings.warn(\n"
     ]
    },
    {
     "name": "stdout",
     "output_type": "stream",
     "text": [
      "(None, 20, 1)\n"
     ]
    },
    {
     "name": "stderr",
     "output_type": "stream",
     "text": [
      "G:\\anaconda3\\Lib\\site-packages\\keras\\src\\layers\\layer.py:915: UserWarning: Layer 'flatten_190' (of type Flatten) was passed an input with a mask attached to it. However, this layer does not support masking and will therefore destroy the mask information. Downstream layers will not see the mask.\n",
      "  warnings.warn(\n"
     ]
    },
    {
     "name": "stdout",
     "output_type": "stream",
     "text": [
      "(None, 20, 1)\n"
     ]
    },
    {
     "name": "stderr",
     "output_type": "stream",
     "text": [
      "G:\\anaconda3\\Lib\\site-packages\\keras\\src\\layers\\layer.py:915: UserWarning: Layer 'flatten_192' (of type Flatten) was passed an input with a mask attached to it. However, this layer does not support masking and will therefore destroy the mask information. Downstream layers will not see the mask.\n",
      "  warnings.warn(\n"
     ]
    },
    {
     "name": "stdout",
     "output_type": "stream",
     "text": [
      "(None, 20, 1)\n"
     ]
    },
    {
     "name": "stderr",
     "output_type": "stream",
     "text": [
      "G:\\anaconda3\\Lib\\site-packages\\keras\\src\\layers\\layer.py:915: UserWarning: Layer 'flatten_194' (of type Flatten) was passed an input with a mask attached to it. However, this layer does not support masking and will therefore destroy the mask information. Downstream layers will not see the mask.\n",
      "  warnings.warn(\n"
     ]
    },
    {
     "name": "stdout",
     "output_type": "stream",
     "text": [
      "(None, 20, 1)\n"
     ]
    },
    {
     "name": "stderr",
     "output_type": "stream",
     "text": [
      "G:\\anaconda3\\Lib\\site-packages\\keras\\src\\layers\\layer.py:915: UserWarning: Layer 'flatten_196' (of type Flatten) was passed an input with a mask attached to it. However, this layer does not support masking and will therefore destroy the mask information. Downstream layers will not see the mask.\n",
      "  warnings.warn(\n"
     ]
    },
    {
     "name": "stdout",
     "output_type": "stream",
     "text": [
      "(None, 20, 1)\n"
     ]
    },
    {
     "name": "stderr",
     "output_type": "stream",
     "text": [
      "G:\\anaconda3\\Lib\\site-packages\\keras\\src\\layers\\layer.py:915: UserWarning: Layer 'flatten_198' (of type Flatten) was passed an input with a mask attached to it. However, this layer does not support masking and will therefore destroy the mask information. Downstream layers will not see the mask.\n",
      "  warnings.warn(\n"
     ]
    },
    {
     "name": "stdout",
     "output_type": "stream",
     "text": [
      "Iteration: 10\n",
      "Global best position: [2.61073572e+01 2.74895218e+00 4.00000000e+00 3.59059912e+00\n",
      " 3.29127638e-03]\n",
      "Global best fitness: -0.5099780559539795\n",
      "(None, 20, 1)\n"
     ]
    },
    {
     "name": "stderr",
     "output_type": "stream",
     "text": [
      "G:\\anaconda3\\Lib\\site-packages\\keras\\src\\layers\\layer.py:915: UserWarning: Layer 'flatten_200' (of type Flatten) was passed an input with a mask attached to it. However, this layer does not support masking and will therefore destroy the mask information. Downstream layers will not see the mask.\n",
      "  warnings.warn(\n"
     ]
    },
    {
     "name": "stdout",
     "output_type": "stream",
     "text": [
      "(None, 20, 1)\n"
     ]
    },
    {
     "name": "stderr",
     "output_type": "stream",
     "text": [
      "G:\\anaconda3\\Lib\\site-packages\\keras\\src\\layers\\layer.py:915: UserWarning: Layer 'flatten_202' (of type Flatten) was passed an input with a mask attached to it. However, this layer does not support masking and will therefore destroy the mask information. Downstream layers will not see the mask.\n",
      "  warnings.warn(\n"
     ]
    },
    {
     "name": "stdout",
     "output_type": "stream",
     "text": [
      "(None, 20, 1)\n"
     ]
    },
    {
     "name": "stderr",
     "output_type": "stream",
     "text": [
      "G:\\anaconda3\\Lib\\site-packages\\keras\\src\\layers\\layer.py:915: UserWarning: Layer 'flatten_204' (of type Flatten) was passed an input with a mask attached to it. However, this layer does not support masking and will therefore destroy the mask information. Downstream layers will not see the mask.\n",
      "  warnings.warn(\n"
     ]
    },
    {
     "name": "stdout",
     "output_type": "stream",
     "text": [
      "(None, 20, 1)\n"
     ]
    },
    {
     "name": "stderr",
     "output_type": "stream",
     "text": [
      "G:\\anaconda3\\Lib\\site-packages\\keras\\src\\layers\\layer.py:915: UserWarning: Layer 'flatten_206' (of type Flatten) was passed an input with a mask attached to it. However, this layer does not support masking and will therefore destroy the mask information. Downstream layers will not see the mask.\n",
      "  warnings.warn(\n"
     ]
    },
    {
     "name": "stdout",
     "output_type": "stream",
     "text": [
      "(None, 20, 1)\n"
     ]
    },
    {
     "name": "stderr",
     "output_type": "stream",
     "text": [
      "G:\\anaconda3\\Lib\\site-packages\\keras\\src\\layers\\layer.py:915: UserWarning: Layer 'flatten_208' (of type Flatten) was passed an input with a mask attached to it. However, this layer does not support masking and will therefore destroy the mask information. Downstream layers will not see the mask.\n",
      "  warnings.warn(\n"
     ]
    },
    {
     "name": "stdout",
     "output_type": "stream",
     "text": [
      "(None, 20, 1)\n"
     ]
    },
    {
     "name": "stderr",
     "output_type": "stream",
     "text": [
      "G:\\anaconda3\\Lib\\site-packages\\keras\\src\\layers\\layer.py:915: UserWarning: Layer 'flatten_210' (of type Flatten) was passed an input with a mask attached to it. However, this layer does not support masking and will therefore destroy the mask information. Downstream layers will not see the mask.\n",
      "  warnings.warn(\n"
     ]
    },
    {
     "name": "stdout",
     "output_type": "stream",
     "text": [
      "(None, 20, 1)\n"
     ]
    },
    {
     "name": "stderr",
     "output_type": "stream",
     "text": [
      "G:\\anaconda3\\Lib\\site-packages\\keras\\src\\layers\\layer.py:915: UserWarning: Layer 'flatten_212' (of type Flatten) was passed an input with a mask attached to it. However, this layer does not support masking and will therefore destroy the mask information. Downstream layers will not see the mask.\n",
      "  warnings.warn(\n"
     ]
    },
    {
     "name": "stdout",
     "output_type": "stream",
     "text": [
      "(None, 20, 1)\n"
     ]
    },
    {
     "name": "stderr",
     "output_type": "stream",
     "text": [
      "G:\\anaconda3\\Lib\\site-packages\\keras\\src\\layers\\layer.py:915: UserWarning: Layer 'flatten_214' (of type Flatten) was passed an input with a mask attached to it. However, this layer does not support masking and will therefore destroy the mask information. Downstream layers will not see the mask.\n",
      "  warnings.warn(\n"
     ]
    },
    {
     "name": "stdout",
     "output_type": "stream",
     "text": [
      "(None, 20, 1)\n"
     ]
    },
    {
     "name": "stderr",
     "output_type": "stream",
     "text": [
      "G:\\anaconda3\\Lib\\site-packages\\keras\\src\\layers\\layer.py:915: UserWarning: Layer 'flatten_216' (of type Flatten) was passed an input with a mask attached to it. However, this layer does not support masking and will therefore destroy the mask information. Downstream layers will not see the mask.\n",
      "  warnings.warn(\n"
     ]
    },
    {
     "name": "stdout",
     "output_type": "stream",
     "text": [
      "(None, 20, 1)\n"
     ]
    },
    {
     "name": "stderr",
     "output_type": "stream",
     "text": [
      "G:\\anaconda3\\Lib\\site-packages\\keras\\src\\layers\\layer.py:915: UserWarning: Layer 'flatten_218' (of type Flatten) was passed an input with a mask attached to it. However, this layer does not support masking and will therefore destroy the mask information. Downstream layers will not see the mask.\n",
      "  warnings.warn(\n"
     ]
    },
    {
     "name": "stdout",
     "output_type": "stream",
     "text": [
      "Iteration: 11\n",
      "Global best position: [2.61073572e+01 2.74895218e+00 4.00000000e+00 3.59059912e+00\n",
      " 3.29127638e-03]\n",
      "Global best fitness: -0.5099780559539795\n",
      "(None, 20, 1)\n"
     ]
    },
    {
     "name": "stderr",
     "output_type": "stream",
     "text": [
      "G:\\anaconda3\\Lib\\site-packages\\keras\\src\\layers\\layer.py:915: UserWarning: Layer 'flatten_220' (of type Flatten) was passed an input with a mask attached to it. However, this layer does not support masking and will therefore destroy the mask information. Downstream layers will not see the mask.\n",
      "  warnings.warn(\n"
     ]
    },
    {
     "name": "stdout",
     "output_type": "stream",
     "text": [
      "(None, 20, 1)\n"
     ]
    },
    {
     "name": "stderr",
     "output_type": "stream",
     "text": [
      "G:\\anaconda3\\Lib\\site-packages\\keras\\src\\layers\\layer.py:915: UserWarning: Layer 'flatten_222' (of type Flatten) was passed an input with a mask attached to it. However, this layer does not support masking and will therefore destroy the mask information. Downstream layers will not see the mask.\n",
      "  warnings.warn(\n"
     ]
    },
    {
     "name": "stdout",
     "output_type": "stream",
     "text": [
      "(None, 20, 1)\n"
     ]
    },
    {
     "name": "stderr",
     "output_type": "stream",
     "text": [
      "G:\\anaconda3\\Lib\\site-packages\\keras\\src\\layers\\layer.py:915: UserWarning: Layer 'flatten_224' (of type Flatten) was passed an input with a mask attached to it. However, this layer does not support masking and will therefore destroy the mask information. Downstream layers will not see the mask.\n",
      "  warnings.warn(\n"
     ]
    },
    {
     "name": "stdout",
     "output_type": "stream",
     "text": [
      "(None, 20, 1)\n"
     ]
    },
    {
     "name": "stderr",
     "output_type": "stream",
     "text": [
      "G:\\anaconda3\\Lib\\site-packages\\keras\\src\\layers\\layer.py:915: UserWarning: Layer 'flatten_226' (of type Flatten) was passed an input with a mask attached to it. However, this layer does not support masking and will therefore destroy the mask information. Downstream layers will not see the mask.\n",
      "  warnings.warn(\n"
     ]
    },
    {
     "name": "stdout",
     "output_type": "stream",
     "text": [
      "(None, 20, 1)\n"
     ]
    },
    {
     "name": "stderr",
     "output_type": "stream",
     "text": [
      "G:\\anaconda3\\Lib\\site-packages\\keras\\src\\layers\\layer.py:915: UserWarning: Layer 'flatten_228' (of type Flatten) was passed an input with a mask attached to it. However, this layer does not support masking and will therefore destroy the mask information. Downstream layers will not see the mask.\n",
      "  warnings.warn(\n"
     ]
    },
    {
     "name": "stdout",
     "output_type": "stream",
     "text": [
      "(None, 20, 1)\n"
     ]
    },
    {
     "name": "stderr",
     "output_type": "stream",
     "text": [
      "G:\\anaconda3\\Lib\\site-packages\\keras\\src\\layers\\layer.py:915: UserWarning: Layer 'flatten_230' (of type Flatten) was passed an input with a mask attached to it. However, this layer does not support masking and will therefore destroy the mask information. Downstream layers will not see the mask.\n",
      "  warnings.warn(\n"
     ]
    },
    {
     "name": "stdout",
     "output_type": "stream",
     "text": [
      "(None, 20, 1)\n"
     ]
    },
    {
     "name": "stderr",
     "output_type": "stream",
     "text": [
      "G:\\anaconda3\\Lib\\site-packages\\keras\\src\\layers\\layer.py:915: UserWarning: Layer 'flatten_232' (of type Flatten) was passed an input with a mask attached to it. However, this layer does not support masking and will therefore destroy the mask information. Downstream layers will not see the mask.\n",
      "  warnings.warn(\n"
     ]
    },
    {
     "name": "stdout",
     "output_type": "stream",
     "text": [
      "(None, 20, 1)\n"
     ]
    },
    {
     "name": "stderr",
     "output_type": "stream",
     "text": [
      "G:\\anaconda3\\Lib\\site-packages\\keras\\src\\layers\\layer.py:915: UserWarning: Layer 'flatten_234' (of type Flatten) was passed an input with a mask attached to it. However, this layer does not support masking and will therefore destroy the mask information. Downstream layers will not see the mask.\n",
      "  warnings.warn(\n"
     ]
    },
    {
     "name": "stdout",
     "output_type": "stream",
     "text": [
      "(None, 20, 1)\n"
     ]
    },
    {
     "name": "stderr",
     "output_type": "stream",
     "text": [
      "G:\\anaconda3\\Lib\\site-packages\\keras\\src\\layers\\layer.py:915: UserWarning: Layer 'flatten_236' (of type Flatten) was passed an input with a mask attached to it. However, this layer does not support masking and will therefore destroy the mask information. Downstream layers will not see the mask.\n",
      "  warnings.warn(\n"
     ]
    },
    {
     "name": "stdout",
     "output_type": "stream",
     "text": [
      "(None, 20, 1)\n"
     ]
    },
    {
     "name": "stderr",
     "output_type": "stream",
     "text": [
      "G:\\anaconda3\\Lib\\site-packages\\keras\\src\\layers\\layer.py:915: UserWarning: Layer 'flatten_238' (of type Flatten) was passed an input with a mask attached to it. However, this layer does not support masking and will therefore destroy the mask information. Downstream layers will not see the mask.\n",
      "  warnings.warn(\n"
     ]
    },
    {
     "name": "stdout",
     "output_type": "stream",
     "text": [
      "Iteration: 12\n",
      "Global best position: [2.61073572e+01 2.74895218e+00 4.00000000e+00 3.59059912e+00\n",
      " 3.29127638e-03]\n",
      "Global best fitness: -0.5099780559539795\n",
      "(None, 20, 1)\n"
     ]
    },
    {
     "name": "stderr",
     "output_type": "stream",
     "text": [
      "G:\\anaconda3\\Lib\\site-packages\\keras\\src\\layers\\layer.py:915: UserWarning: Layer 'flatten_240' (of type Flatten) was passed an input with a mask attached to it. However, this layer does not support masking and will therefore destroy the mask information. Downstream layers will not see the mask.\n",
      "  warnings.warn(\n"
     ]
    },
    {
     "name": "stdout",
     "output_type": "stream",
     "text": [
      "(None, 20, 1)\n"
     ]
    },
    {
     "name": "stderr",
     "output_type": "stream",
     "text": [
      "G:\\anaconda3\\Lib\\site-packages\\keras\\src\\layers\\layer.py:915: UserWarning: Layer 'flatten_242' (of type Flatten) was passed an input with a mask attached to it. However, this layer does not support masking and will therefore destroy the mask information. Downstream layers will not see the mask.\n",
      "  warnings.warn(\n"
     ]
    },
    {
     "name": "stdout",
     "output_type": "stream",
     "text": [
      "(None, 20, 1)\n"
     ]
    },
    {
     "name": "stderr",
     "output_type": "stream",
     "text": [
      "G:\\anaconda3\\Lib\\site-packages\\keras\\src\\layers\\layer.py:915: UserWarning: Layer 'flatten_244' (of type Flatten) was passed an input with a mask attached to it. However, this layer does not support masking and will therefore destroy the mask information. Downstream layers will not see the mask.\n",
      "  warnings.warn(\n"
     ]
    },
    {
     "name": "stdout",
     "output_type": "stream",
     "text": [
      "(None, 20, 1)\n"
     ]
    },
    {
     "name": "stderr",
     "output_type": "stream",
     "text": [
      "G:\\anaconda3\\Lib\\site-packages\\keras\\src\\layers\\layer.py:915: UserWarning: Layer 'flatten_246' (of type Flatten) was passed an input with a mask attached to it. However, this layer does not support masking and will therefore destroy the mask information. Downstream layers will not see the mask.\n",
      "  warnings.warn(\n"
     ]
    },
    {
     "name": "stdout",
     "output_type": "stream",
     "text": [
      "(None, 20, 1)\n"
     ]
    },
    {
     "name": "stderr",
     "output_type": "stream",
     "text": [
      "G:\\anaconda3\\Lib\\site-packages\\keras\\src\\layers\\layer.py:915: UserWarning: Layer 'flatten_248' (of type Flatten) was passed an input with a mask attached to it. However, this layer does not support masking and will therefore destroy the mask information. Downstream layers will not see the mask.\n",
      "  warnings.warn(\n"
     ]
    },
    {
     "name": "stdout",
     "output_type": "stream",
     "text": [
      "(None, 20, 1)\n"
     ]
    },
    {
     "name": "stderr",
     "output_type": "stream",
     "text": [
      "G:\\anaconda3\\Lib\\site-packages\\keras\\src\\layers\\layer.py:915: UserWarning: Layer 'flatten_250' (of type Flatten) was passed an input with a mask attached to it. However, this layer does not support masking and will therefore destroy the mask information. Downstream layers will not see the mask.\n",
      "  warnings.warn(\n"
     ]
    },
    {
     "name": "stdout",
     "output_type": "stream",
     "text": [
      "(None, 20, 1)\n"
     ]
    },
    {
     "name": "stderr",
     "output_type": "stream",
     "text": [
      "G:\\anaconda3\\Lib\\site-packages\\keras\\src\\layers\\layer.py:915: UserWarning: Layer 'flatten_252' (of type Flatten) was passed an input with a mask attached to it. However, this layer does not support masking and will therefore destroy the mask information. Downstream layers will not see the mask.\n",
      "  warnings.warn(\n"
     ]
    },
    {
     "name": "stdout",
     "output_type": "stream",
     "text": [
      "(None, 20, 1)\n"
     ]
    },
    {
     "name": "stderr",
     "output_type": "stream",
     "text": [
      "G:\\anaconda3\\Lib\\site-packages\\keras\\src\\layers\\layer.py:915: UserWarning: Layer 'flatten_254' (of type Flatten) was passed an input with a mask attached to it. However, this layer does not support masking and will therefore destroy the mask information. Downstream layers will not see the mask.\n",
      "  warnings.warn(\n"
     ]
    },
    {
     "name": "stdout",
     "output_type": "stream",
     "text": [
      "(None, 20, 1)\n"
     ]
    },
    {
     "name": "stderr",
     "output_type": "stream",
     "text": [
      "G:\\anaconda3\\Lib\\site-packages\\keras\\src\\layers\\layer.py:915: UserWarning: Layer 'flatten_256' (of type Flatten) was passed an input with a mask attached to it. However, this layer does not support masking and will therefore destroy the mask information. Downstream layers will not see the mask.\n",
      "  warnings.warn(\n"
     ]
    },
    {
     "name": "stdout",
     "output_type": "stream",
     "text": [
      "(None, 20, 1)\n"
     ]
    },
    {
     "name": "stderr",
     "output_type": "stream",
     "text": [
      "G:\\anaconda3\\Lib\\site-packages\\keras\\src\\layers\\layer.py:915: UserWarning: Layer 'flatten_258' (of type Flatten) was passed an input with a mask attached to it. However, this layer does not support masking and will therefore destroy the mask information. Downstream layers will not see the mask.\n",
      "  warnings.warn(\n"
     ]
    },
    {
     "name": "stdout",
     "output_type": "stream",
     "text": [
      "Iteration: 13\n",
      "Global best position: [2.61073572e+01 2.74895218e+00 4.00000000e+00 3.59059912e+00\n",
      " 3.29127638e-03]\n",
      "Global best fitness: -0.5099780559539795\n",
      "(None, 20, 1)\n"
     ]
    },
    {
     "name": "stderr",
     "output_type": "stream",
     "text": [
      "G:\\anaconda3\\Lib\\site-packages\\keras\\src\\layers\\layer.py:915: UserWarning: Layer 'flatten_260' (of type Flatten) was passed an input with a mask attached to it. However, this layer does not support masking and will therefore destroy the mask information. Downstream layers will not see the mask.\n",
      "  warnings.warn(\n"
     ]
    },
    {
     "name": "stdout",
     "output_type": "stream",
     "text": [
      "(None, 20, 1)\n"
     ]
    },
    {
     "name": "stderr",
     "output_type": "stream",
     "text": [
      "G:\\anaconda3\\Lib\\site-packages\\keras\\src\\layers\\layer.py:915: UserWarning: Layer 'flatten_262' (of type Flatten) was passed an input with a mask attached to it. However, this layer does not support masking and will therefore destroy the mask information. Downstream layers will not see the mask.\n",
      "  warnings.warn(\n"
     ]
    },
    {
     "name": "stdout",
     "output_type": "stream",
     "text": [
      "(None, 20, 1)\n"
     ]
    },
    {
     "name": "stderr",
     "output_type": "stream",
     "text": [
      "G:\\anaconda3\\Lib\\site-packages\\keras\\src\\layers\\layer.py:915: UserWarning: Layer 'flatten_264' (of type Flatten) was passed an input with a mask attached to it. However, this layer does not support masking and will therefore destroy the mask information. Downstream layers will not see the mask.\n",
      "  warnings.warn(\n"
     ]
    },
    {
     "name": "stdout",
     "output_type": "stream",
     "text": [
      "(None, 20, 1)\n"
     ]
    },
    {
     "name": "stderr",
     "output_type": "stream",
     "text": [
      "G:\\anaconda3\\Lib\\site-packages\\keras\\src\\layers\\layer.py:915: UserWarning: Layer 'flatten_266' (of type Flatten) was passed an input with a mask attached to it. However, this layer does not support masking and will therefore destroy the mask information. Downstream layers will not see the mask.\n",
      "  warnings.warn(\n"
     ]
    },
    {
     "name": "stdout",
     "output_type": "stream",
     "text": [
      "(None, 20, 1)\n"
     ]
    },
    {
     "name": "stderr",
     "output_type": "stream",
     "text": [
      "G:\\anaconda3\\Lib\\site-packages\\keras\\src\\layers\\layer.py:915: UserWarning: Layer 'flatten_268' (of type Flatten) was passed an input with a mask attached to it. However, this layer does not support masking and will therefore destroy the mask information. Downstream layers will not see the mask.\n",
      "  warnings.warn(\n"
     ]
    },
    {
     "name": "stdout",
     "output_type": "stream",
     "text": [
      "(None, 20, 1)\n"
     ]
    },
    {
     "name": "stderr",
     "output_type": "stream",
     "text": [
      "G:\\anaconda3\\Lib\\site-packages\\keras\\src\\layers\\layer.py:915: UserWarning: Layer 'flatten_270' (of type Flatten) was passed an input with a mask attached to it. However, this layer does not support masking and will therefore destroy the mask information. Downstream layers will not see the mask.\n",
      "  warnings.warn(\n"
     ]
    },
    {
     "name": "stdout",
     "output_type": "stream",
     "text": [
      "(None, 20, 1)\n"
     ]
    },
    {
     "name": "stderr",
     "output_type": "stream",
     "text": [
      "G:\\anaconda3\\Lib\\site-packages\\keras\\src\\layers\\layer.py:915: UserWarning: Layer 'flatten_272' (of type Flatten) was passed an input with a mask attached to it. However, this layer does not support masking and will therefore destroy the mask information. Downstream layers will not see the mask.\n",
      "  warnings.warn(\n"
     ]
    },
    {
     "name": "stdout",
     "output_type": "stream",
     "text": [
      "(None, 20, 1)\n"
     ]
    },
    {
     "name": "stderr",
     "output_type": "stream",
     "text": [
      "G:\\anaconda3\\Lib\\site-packages\\keras\\src\\layers\\layer.py:915: UserWarning: Layer 'flatten_274' (of type Flatten) was passed an input with a mask attached to it. However, this layer does not support masking and will therefore destroy the mask information. Downstream layers will not see the mask.\n",
      "  warnings.warn(\n"
     ]
    },
    {
     "name": "stdout",
     "output_type": "stream",
     "text": [
      "(None, 20, 1)\n"
     ]
    },
    {
     "name": "stderr",
     "output_type": "stream",
     "text": [
      "G:\\anaconda3\\Lib\\site-packages\\keras\\src\\layers\\layer.py:915: UserWarning: Layer 'flatten_276' (of type Flatten) was passed an input with a mask attached to it. However, this layer does not support masking and will therefore destroy the mask information. Downstream layers will not see the mask.\n",
      "  warnings.warn(\n"
     ]
    },
    {
     "name": "stdout",
     "output_type": "stream",
     "text": [
      "(None, 20, 1)\n"
     ]
    },
    {
     "name": "stderr",
     "output_type": "stream",
     "text": [
      "G:\\anaconda3\\Lib\\site-packages\\keras\\src\\layers\\layer.py:915: UserWarning: Layer 'flatten_278' (of type Flatten) was passed an input with a mask attached to it. However, this layer does not support masking and will therefore destroy the mask information. Downstream layers will not see the mask.\n",
      "  warnings.warn(\n"
     ]
    },
    {
     "name": "stdout",
     "output_type": "stream",
     "text": [
      "Iteration: 14\n",
      "Global best position: [2.61073572e+01 2.74895218e+00 4.00000000e+00 3.59059912e+00\n",
      " 3.29127638e-03]\n",
      "Global best fitness: -0.5099780559539795\n",
      "(None, 20, 1)\n"
     ]
    },
    {
     "name": "stderr",
     "output_type": "stream",
     "text": [
      "G:\\anaconda3\\Lib\\site-packages\\keras\\src\\layers\\layer.py:915: UserWarning: Layer 'flatten_280' (of type Flatten) was passed an input with a mask attached to it. However, this layer does not support masking and will therefore destroy the mask information. Downstream layers will not see the mask.\n",
      "  warnings.warn(\n"
     ]
    },
    {
     "name": "stdout",
     "output_type": "stream",
     "text": [
      "(None, 20, 1)\n"
     ]
    },
    {
     "name": "stderr",
     "output_type": "stream",
     "text": [
      "G:\\anaconda3\\Lib\\site-packages\\keras\\src\\layers\\layer.py:915: UserWarning: Layer 'flatten_282' (of type Flatten) was passed an input with a mask attached to it. However, this layer does not support masking and will therefore destroy the mask information. Downstream layers will not see the mask.\n",
      "  warnings.warn(\n"
     ]
    },
    {
     "name": "stdout",
     "output_type": "stream",
     "text": [
      "(None, 20, 1)\n"
     ]
    },
    {
     "name": "stderr",
     "output_type": "stream",
     "text": [
      "G:\\anaconda3\\Lib\\site-packages\\keras\\src\\layers\\layer.py:915: UserWarning: Layer 'flatten_284' (of type Flatten) was passed an input with a mask attached to it. However, this layer does not support masking and will therefore destroy the mask information. Downstream layers will not see the mask.\n",
      "  warnings.warn(\n"
     ]
    },
    {
     "name": "stdout",
     "output_type": "stream",
     "text": [
      "(None, 20, 1)\n"
     ]
    },
    {
     "name": "stderr",
     "output_type": "stream",
     "text": [
      "G:\\anaconda3\\Lib\\site-packages\\keras\\src\\layers\\layer.py:915: UserWarning: Layer 'flatten_286' (of type Flatten) was passed an input with a mask attached to it. However, this layer does not support masking and will therefore destroy the mask information. Downstream layers will not see the mask.\n",
      "  warnings.warn(\n"
     ]
    },
    {
     "name": "stdout",
     "output_type": "stream",
     "text": [
      "(None, 20, 1)\n"
     ]
    },
    {
     "name": "stderr",
     "output_type": "stream",
     "text": [
      "G:\\anaconda3\\Lib\\site-packages\\keras\\src\\layers\\layer.py:915: UserWarning: Layer 'flatten_288' (of type Flatten) was passed an input with a mask attached to it. However, this layer does not support masking and will therefore destroy the mask information. Downstream layers will not see the mask.\n",
      "  warnings.warn(\n"
     ]
    },
    {
     "name": "stdout",
     "output_type": "stream",
     "text": [
      "(None, 20, 1)\n"
     ]
    },
    {
     "name": "stderr",
     "output_type": "stream",
     "text": [
      "G:\\anaconda3\\Lib\\site-packages\\keras\\src\\layers\\layer.py:915: UserWarning: Layer 'flatten_290' (of type Flatten) was passed an input with a mask attached to it. However, this layer does not support masking and will therefore destroy the mask information. Downstream layers will not see the mask.\n",
      "  warnings.warn(\n"
     ]
    },
    {
     "name": "stdout",
     "output_type": "stream",
     "text": [
      "(None, 20, 1)\n"
     ]
    },
    {
     "name": "stderr",
     "output_type": "stream",
     "text": [
      "G:\\anaconda3\\Lib\\site-packages\\keras\\src\\layers\\layer.py:915: UserWarning: Layer 'flatten_292' (of type Flatten) was passed an input with a mask attached to it. However, this layer does not support masking and will therefore destroy the mask information. Downstream layers will not see the mask.\n",
      "  warnings.warn(\n"
     ]
    },
    {
     "name": "stdout",
     "output_type": "stream",
     "text": [
      "(None, 20, 1)\n"
     ]
    },
    {
     "name": "stderr",
     "output_type": "stream",
     "text": [
      "G:\\anaconda3\\Lib\\site-packages\\keras\\src\\layers\\layer.py:915: UserWarning: Layer 'flatten_294' (of type Flatten) was passed an input with a mask attached to it. However, this layer does not support masking and will therefore destroy the mask information. Downstream layers will not see the mask.\n",
      "  warnings.warn(\n"
     ]
    },
    {
     "name": "stdout",
     "output_type": "stream",
     "text": [
      "(None, 20, 1)\n"
     ]
    },
    {
     "name": "stderr",
     "output_type": "stream",
     "text": [
      "G:\\anaconda3\\Lib\\site-packages\\keras\\src\\layers\\layer.py:915: UserWarning: Layer 'flatten_296' (of type Flatten) was passed an input with a mask attached to it. However, this layer does not support masking and will therefore destroy the mask information. Downstream layers will not see the mask.\n",
      "  warnings.warn(\n"
     ]
    },
    {
     "name": "stdout",
     "output_type": "stream",
     "text": [
      "(None, 20, 1)\n"
     ]
    },
    {
     "name": "stderr",
     "output_type": "stream",
     "text": [
      "G:\\anaconda3\\Lib\\site-packages\\keras\\src\\layers\\layer.py:915: UserWarning: Layer 'flatten_298' (of type Flatten) was passed an input with a mask attached to it. However, this layer does not support masking and will therefore destroy the mask information. Downstream layers will not see the mask.\n",
      "  warnings.warn(\n"
     ]
    },
    {
     "name": "stdout",
     "output_type": "stream",
     "text": [
      "Iteration: 15\n",
      "Global best position: [2.61073572e+01 2.74895218e+00 4.00000000e+00 3.59059912e+00\n",
      " 3.29127638e-03]\n",
      "Global best fitness: -0.5099780559539795\n",
      "(None, 20, 1)\n"
     ]
    },
    {
     "name": "stderr",
     "output_type": "stream",
     "text": [
      "G:\\anaconda3\\Lib\\site-packages\\keras\\src\\layers\\layer.py:915: UserWarning: Layer 'flatten_300' (of type Flatten) was passed an input with a mask attached to it. However, this layer does not support masking and will therefore destroy the mask information. Downstream layers will not see the mask.\n",
      "  warnings.warn(\n"
     ]
    },
    {
     "name": "stdout",
     "output_type": "stream",
     "text": [
      "(None, 20, 1)\n"
     ]
    },
    {
     "name": "stderr",
     "output_type": "stream",
     "text": [
      "G:\\anaconda3\\Lib\\site-packages\\keras\\src\\layers\\layer.py:915: UserWarning: Layer 'flatten_302' (of type Flatten) was passed an input with a mask attached to it. However, this layer does not support masking and will therefore destroy the mask information. Downstream layers will not see the mask.\n",
      "  warnings.warn(\n"
     ]
    },
    {
     "name": "stdout",
     "output_type": "stream",
     "text": [
      "(None, 20, 1)\n"
     ]
    },
    {
     "name": "stderr",
     "output_type": "stream",
     "text": [
      "G:\\anaconda3\\Lib\\site-packages\\keras\\src\\layers\\layer.py:915: UserWarning: Layer 'flatten_304' (of type Flatten) was passed an input with a mask attached to it. However, this layer does not support masking and will therefore destroy the mask information. Downstream layers will not see the mask.\n",
      "  warnings.warn(\n"
     ]
    },
    {
     "name": "stdout",
     "output_type": "stream",
     "text": [
      "(None, 20, 1)\n"
     ]
    },
    {
     "name": "stderr",
     "output_type": "stream",
     "text": [
      "G:\\anaconda3\\Lib\\site-packages\\keras\\src\\layers\\layer.py:915: UserWarning: Layer 'flatten_306' (of type Flatten) was passed an input with a mask attached to it. However, this layer does not support masking and will therefore destroy the mask information. Downstream layers will not see the mask.\n",
      "  warnings.warn(\n"
     ]
    },
    {
     "name": "stdout",
     "output_type": "stream",
     "text": [
      "(None, 20, 1)\n"
     ]
    },
    {
     "name": "stderr",
     "output_type": "stream",
     "text": [
      "G:\\anaconda3\\Lib\\site-packages\\keras\\src\\layers\\layer.py:915: UserWarning: Layer 'flatten_308' (of type Flatten) was passed an input with a mask attached to it. However, this layer does not support masking and will therefore destroy the mask information. Downstream layers will not see the mask.\n",
      "  warnings.warn(\n"
     ]
    },
    {
     "name": "stdout",
     "output_type": "stream",
     "text": [
      "(None, 20, 1)\n"
     ]
    },
    {
     "name": "stderr",
     "output_type": "stream",
     "text": [
      "G:\\anaconda3\\Lib\\site-packages\\keras\\src\\layers\\layer.py:915: UserWarning: Layer 'flatten_310' (of type Flatten) was passed an input with a mask attached to it. However, this layer does not support masking and will therefore destroy the mask information. Downstream layers will not see the mask.\n",
      "  warnings.warn(\n"
     ]
    },
    {
     "name": "stdout",
     "output_type": "stream",
     "text": [
      "(None, 20, 1)\n"
     ]
    },
    {
     "name": "stderr",
     "output_type": "stream",
     "text": [
      "G:\\anaconda3\\Lib\\site-packages\\keras\\src\\layers\\layer.py:915: UserWarning: Layer 'flatten_312' (of type Flatten) was passed an input with a mask attached to it. However, this layer does not support masking and will therefore destroy the mask information. Downstream layers will not see the mask.\n",
      "  warnings.warn(\n"
     ]
    },
    {
     "name": "stdout",
     "output_type": "stream",
     "text": [
      "(None, 20, 1)\n"
     ]
    },
    {
     "name": "stderr",
     "output_type": "stream",
     "text": [
      "G:\\anaconda3\\Lib\\site-packages\\keras\\src\\layers\\layer.py:915: UserWarning: Layer 'flatten_314' (of type Flatten) was passed an input with a mask attached to it. However, this layer does not support masking and will therefore destroy the mask information. Downstream layers will not see the mask.\n",
      "  warnings.warn(\n"
     ]
    },
    {
     "name": "stdout",
     "output_type": "stream",
     "text": [
      "(None, 20, 1)\n"
     ]
    },
    {
     "name": "stderr",
     "output_type": "stream",
     "text": [
      "G:\\anaconda3\\Lib\\site-packages\\keras\\src\\layers\\layer.py:915: UserWarning: Layer 'flatten_316' (of type Flatten) was passed an input with a mask attached to it. However, this layer does not support masking and will therefore destroy the mask information. Downstream layers will not see the mask.\n",
      "  warnings.warn(\n"
     ]
    },
    {
     "name": "stdout",
     "output_type": "stream",
     "text": [
      "(None, 20, 1)\n"
     ]
    },
    {
     "name": "stderr",
     "output_type": "stream",
     "text": [
      "G:\\anaconda3\\Lib\\site-packages\\keras\\src\\layers\\layer.py:915: UserWarning: Layer 'flatten_318' (of type Flatten) was passed an input with a mask attached to it. However, this layer does not support masking and will therefore destroy the mask information. Downstream layers will not see the mask.\n",
      "  warnings.warn(\n"
     ]
    },
    {
     "name": "stdout",
     "output_type": "stream",
     "text": [
      "Iteration: 16\n",
      "Global best position: [2.61073572e+01 2.74895218e+00 4.00000000e+00 3.59059912e+00\n",
      " 3.29127638e-03]\n",
      "Global best fitness: -0.5099780559539795\n",
      "(None, 20, 1)\n"
     ]
    },
    {
     "name": "stderr",
     "output_type": "stream",
     "text": [
      "G:\\anaconda3\\Lib\\site-packages\\keras\\src\\layers\\layer.py:915: UserWarning: Layer 'flatten_320' (of type Flatten) was passed an input with a mask attached to it. However, this layer does not support masking and will therefore destroy the mask information. Downstream layers will not see the mask.\n",
      "  warnings.warn(\n"
     ]
    },
    {
     "name": "stdout",
     "output_type": "stream",
     "text": [
      "(None, 20, 1)\n"
     ]
    },
    {
     "name": "stderr",
     "output_type": "stream",
     "text": [
      "G:\\anaconda3\\Lib\\site-packages\\keras\\src\\layers\\layer.py:915: UserWarning: Layer 'flatten_322' (of type Flatten) was passed an input with a mask attached to it. However, this layer does not support masking and will therefore destroy the mask information. Downstream layers will not see the mask.\n",
      "  warnings.warn(\n"
     ]
    },
    {
     "name": "stdout",
     "output_type": "stream",
     "text": [
      "(None, 20, 1)\n"
     ]
    },
    {
     "name": "stderr",
     "output_type": "stream",
     "text": [
      "G:\\anaconda3\\Lib\\site-packages\\keras\\src\\layers\\layer.py:915: UserWarning: Layer 'flatten_324' (of type Flatten) was passed an input with a mask attached to it. However, this layer does not support masking and will therefore destroy the mask information. Downstream layers will not see the mask.\n",
      "  warnings.warn(\n"
     ]
    },
    {
     "name": "stdout",
     "output_type": "stream",
     "text": [
      "(None, 20, 1)\n"
     ]
    },
    {
     "name": "stderr",
     "output_type": "stream",
     "text": [
      "G:\\anaconda3\\Lib\\site-packages\\keras\\src\\layers\\layer.py:915: UserWarning: Layer 'flatten_326' (of type Flatten) was passed an input with a mask attached to it. However, this layer does not support masking and will therefore destroy the mask information. Downstream layers will not see the mask.\n",
      "  warnings.warn(\n"
     ]
    },
    {
     "name": "stdout",
     "output_type": "stream",
     "text": [
      "(None, 20, 1)\n"
     ]
    },
    {
     "name": "stderr",
     "output_type": "stream",
     "text": [
      "G:\\anaconda3\\Lib\\site-packages\\keras\\src\\layers\\layer.py:915: UserWarning: Layer 'flatten_328' (of type Flatten) was passed an input with a mask attached to it. However, this layer does not support masking and will therefore destroy the mask information. Downstream layers will not see the mask.\n",
      "  warnings.warn(\n"
     ]
    },
    {
     "name": "stdout",
     "output_type": "stream",
     "text": [
      "(None, 20, 1)\n"
     ]
    },
    {
     "name": "stderr",
     "output_type": "stream",
     "text": [
      "G:\\anaconda3\\Lib\\site-packages\\keras\\src\\layers\\layer.py:915: UserWarning: Layer 'flatten_330' (of type Flatten) was passed an input with a mask attached to it. However, this layer does not support masking and will therefore destroy the mask information. Downstream layers will not see the mask.\n",
      "  warnings.warn(\n"
     ]
    },
    {
     "name": "stdout",
     "output_type": "stream",
     "text": [
      "(None, 20, 1)\n"
     ]
    },
    {
     "name": "stderr",
     "output_type": "stream",
     "text": [
      "G:\\anaconda3\\Lib\\site-packages\\keras\\src\\layers\\layer.py:915: UserWarning: Layer 'flatten_332' (of type Flatten) was passed an input with a mask attached to it. However, this layer does not support masking and will therefore destroy the mask information. Downstream layers will not see the mask.\n",
      "  warnings.warn(\n"
     ]
    },
    {
     "name": "stdout",
     "output_type": "stream",
     "text": [
      "(None, 20, 1)\n"
     ]
    },
    {
     "name": "stderr",
     "output_type": "stream",
     "text": [
      "G:\\anaconda3\\Lib\\site-packages\\keras\\src\\layers\\layer.py:915: UserWarning: Layer 'flatten_334' (of type Flatten) was passed an input with a mask attached to it. However, this layer does not support masking and will therefore destroy the mask information. Downstream layers will not see the mask.\n",
      "  warnings.warn(\n"
     ]
    },
    {
     "name": "stdout",
     "output_type": "stream",
     "text": [
      "(None, 20, 1)\n"
     ]
    },
    {
     "name": "stderr",
     "output_type": "stream",
     "text": [
      "G:\\anaconda3\\Lib\\site-packages\\keras\\src\\layers\\layer.py:915: UserWarning: Layer 'flatten_336' (of type Flatten) was passed an input with a mask attached to it. However, this layer does not support masking and will therefore destroy the mask information. Downstream layers will not see the mask.\n",
      "  warnings.warn(\n"
     ]
    },
    {
     "name": "stdout",
     "output_type": "stream",
     "text": [
      "(None, 20, 1)\n"
     ]
    },
    {
     "name": "stderr",
     "output_type": "stream",
     "text": [
      "G:\\anaconda3\\Lib\\site-packages\\keras\\src\\layers\\layer.py:915: UserWarning: Layer 'flatten_338' (of type Flatten) was passed an input with a mask attached to it. However, this layer does not support masking and will therefore destroy the mask information. Downstream layers will not see the mask.\n",
      "  warnings.warn(\n"
     ]
    },
    {
     "name": "stdout",
     "output_type": "stream",
     "text": [
      "Iteration: 17\n",
      "Global best position: [2.61073572e+01 2.74895218e+00 4.00000000e+00 3.59059912e+00\n",
      " 3.29127638e-03]\n",
      "Global best fitness: -0.5099780559539795\n",
      "(None, 20, 1)\n"
     ]
    },
    {
     "name": "stderr",
     "output_type": "stream",
     "text": [
      "G:\\anaconda3\\Lib\\site-packages\\keras\\src\\layers\\layer.py:915: UserWarning: Layer 'flatten_340' (of type Flatten) was passed an input with a mask attached to it. However, this layer does not support masking and will therefore destroy the mask information. Downstream layers will not see the mask.\n",
      "  warnings.warn(\n"
     ]
    },
    {
     "name": "stdout",
     "output_type": "stream",
     "text": [
      "(None, 20, 1)\n"
     ]
    },
    {
     "name": "stderr",
     "output_type": "stream",
     "text": [
      "G:\\anaconda3\\Lib\\site-packages\\keras\\src\\layers\\layer.py:915: UserWarning: Layer 'flatten_342' (of type Flatten) was passed an input with a mask attached to it. However, this layer does not support masking and will therefore destroy the mask information. Downstream layers will not see the mask.\n",
      "  warnings.warn(\n"
     ]
    },
    {
     "name": "stdout",
     "output_type": "stream",
     "text": [
      "(None, 20, 1)\n"
     ]
    },
    {
     "name": "stderr",
     "output_type": "stream",
     "text": [
      "G:\\anaconda3\\Lib\\site-packages\\keras\\src\\layers\\layer.py:915: UserWarning: Layer 'flatten_344' (of type Flatten) was passed an input with a mask attached to it. However, this layer does not support masking and will therefore destroy the mask information. Downstream layers will not see the mask.\n",
      "  warnings.warn(\n"
     ]
    },
    {
     "name": "stdout",
     "output_type": "stream",
     "text": [
      "(None, 20, 1)\n"
     ]
    },
    {
     "name": "stderr",
     "output_type": "stream",
     "text": [
      "G:\\anaconda3\\Lib\\site-packages\\keras\\src\\layers\\layer.py:915: UserWarning: Layer 'flatten_346' (of type Flatten) was passed an input with a mask attached to it. However, this layer does not support masking and will therefore destroy the mask information. Downstream layers will not see the mask.\n",
      "  warnings.warn(\n"
     ]
    },
    {
     "name": "stdout",
     "output_type": "stream",
     "text": [
      "(None, 20, 1)\n"
     ]
    },
    {
     "name": "stderr",
     "output_type": "stream",
     "text": [
      "G:\\anaconda3\\Lib\\site-packages\\keras\\src\\layers\\layer.py:915: UserWarning: Layer 'flatten_348' (of type Flatten) was passed an input with a mask attached to it. However, this layer does not support masking and will therefore destroy the mask information. Downstream layers will not see the mask.\n",
      "  warnings.warn(\n"
     ]
    },
    {
     "name": "stdout",
     "output_type": "stream",
     "text": [
      "(None, 20, 1)\n"
     ]
    },
    {
     "name": "stderr",
     "output_type": "stream",
     "text": [
      "G:\\anaconda3\\Lib\\site-packages\\keras\\src\\layers\\layer.py:915: UserWarning: Layer 'flatten_350' (of type Flatten) was passed an input with a mask attached to it. However, this layer does not support masking and will therefore destroy the mask information. Downstream layers will not see the mask.\n",
      "  warnings.warn(\n"
     ]
    },
    {
     "name": "stdout",
     "output_type": "stream",
     "text": [
      "(None, 20, 1)\n"
     ]
    },
    {
     "name": "stderr",
     "output_type": "stream",
     "text": [
      "G:\\anaconda3\\Lib\\site-packages\\keras\\src\\layers\\layer.py:915: UserWarning: Layer 'flatten_352' (of type Flatten) was passed an input with a mask attached to it. However, this layer does not support masking and will therefore destroy the mask information. Downstream layers will not see the mask.\n",
      "  warnings.warn(\n"
     ]
    },
    {
     "name": "stdout",
     "output_type": "stream",
     "text": [
      "(None, 20, 1)\n"
     ]
    },
    {
     "name": "stderr",
     "output_type": "stream",
     "text": [
      "G:\\anaconda3\\Lib\\site-packages\\keras\\src\\layers\\layer.py:915: UserWarning: Layer 'flatten_354' (of type Flatten) was passed an input with a mask attached to it. However, this layer does not support masking and will therefore destroy the mask information. Downstream layers will not see the mask.\n",
      "  warnings.warn(\n"
     ]
    },
    {
     "name": "stdout",
     "output_type": "stream",
     "text": [
      "(None, 20, 1)\n"
     ]
    },
    {
     "name": "stderr",
     "output_type": "stream",
     "text": [
      "G:\\anaconda3\\Lib\\site-packages\\keras\\src\\layers\\layer.py:915: UserWarning: Layer 'flatten_356' (of type Flatten) was passed an input with a mask attached to it. However, this layer does not support masking and will therefore destroy the mask information. Downstream layers will not see the mask.\n",
      "  warnings.warn(\n"
     ]
    },
    {
     "name": "stdout",
     "output_type": "stream",
     "text": [
      "(None, 20, 1)\n"
     ]
    },
    {
     "name": "stderr",
     "output_type": "stream",
     "text": [
      "G:\\anaconda3\\Lib\\site-packages\\keras\\src\\layers\\layer.py:915: UserWarning: Layer 'flatten_358' (of type Flatten) was passed an input with a mask attached to it. However, this layer does not support masking and will therefore destroy the mask information. Downstream layers will not see the mask.\n",
      "  warnings.warn(\n"
     ]
    },
    {
     "name": "stdout",
     "output_type": "stream",
     "text": [
      "Iteration: 18\n",
      "Global best position: [2.61073572e+01 2.74895218e+00 4.00000000e+00 3.59059912e+00\n",
      " 3.29127638e-03]\n",
      "Global best fitness: -0.5099780559539795\n",
      "(None, 20, 1)\n"
     ]
    },
    {
     "name": "stderr",
     "output_type": "stream",
     "text": [
      "G:\\anaconda3\\Lib\\site-packages\\keras\\src\\layers\\layer.py:915: UserWarning: Layer 'flatten_360' (of type Flatten) was passed an input with a mask attached to it. However, this layer does not support masking and will therefore destroy the mask information. Downstream layers will not see the mask.\n",
      "  warnings.warn(\n"
     ]
    },
    {
     "name": "stdout",
     "output_type": "stream",
     "text": [
      "(None, 20, 1)\n"
     ]
    },
    {
     "name": "stderr",
     "output_type": "stream",
     "text": [
      "G:\\anaconda3\\Lib\\site-packages\\keras\\src\\layers\\layer.py:915: UserWarning: Layer 'flatten_362' (of type Flatten) was passed an input with a mask attached to it. However, this layer does not support masking and will therefore destroy the mask information. Downstream layers will not see the mask.\n",
      "  warnings.warn(\n"
     ]
    },
    {
     "name": "stdout",
     "output_type": "stream",
     "text": [
      "(None, 20, 1)\n"
     ]
    },
    {
     "name": "stderr",
     "output_type": "stream",
     "text": [
      "G:\\anaconda3\\Lib\\site-packages\\keras\\src\\layers\\layer.py:915: UserWarning: Layer 'flatten_364' (of type Flatten) was passed an input with a mask attached to it. However, this layer does not support masking and will therefore destroy the mask information. Downstream layers will not see the mask.\n",
      "  warnings.warn(\n"
     ]
    },
    {
     "name": "stdout",
     "output_type": "stream",
     "text": [
      "(None, 20, 1)\n"
     ]
    },
    {
     "name": "stderr",
     "output_type": "stream",
     "text": [
      "G:\\anaconda3\\Lib\\site-packages\\keras\\src\\layers\\layer.py:915: UserWarning: Layer 'flatten_366' (of type Flatten) was passed an input with a mask attached to it. However, this layer does not support masking and will therefore destroy the mask information. Downstream layers will not see the mask.\n",
      "  warnings.warn(\n"
     ]
    },
    {
     "name": "stdout",
     "output_type": "stream",
     "text": [
      "(None, 20, 1)\n"
     ]
    },
    {
     "name": "stderr",
     "output_type": "stream",
     "text": [
      "G:\\anaconda3\\Lib\\site-packages\\keras\\src\\layers\\layer.py:915: UserWarning: Layer 'flatten_368' (of type Flatten) was passed an input with a mask attached to it. However, this layer does not support masking and will therefore destroy the mask information. Downstream layers will not see the mask.\n",
      "  warnings.warn(\n"
     ]
    },
    {
     "name": "stdout",
     "output_type": "stream",
     "text": [
      "(None, 20, 1)\n"
     ]
    },
    {
     "name": "stderr",
     "output_type": "stream",
     "text": [
      "G:\\anaconda3\\Lib\\site-packages\\keras\\src\\layers\\layer.py:915: UserWarning: Layer 'flatten_370' (of type Flatten) was passed an input with a mask attached to it. However, this layer does not support masking and will therefore destroy the mask information. Downstream layers will not see the mask.\n",
      "  warnings.warn(\n"
     ]
    },
    {
     "name": "stdout",
     "output_type": "stream",
     "text": [
      "(None, 20, 1)\n"
     ]
    },
    {
     "name": "stderr",
     "output_type": "stream",
     "text": [
      "G:\\anaconda3\\Lib\\site-packages\\keras\\src\\layers\\layer.py:915: UserWarning: Layer 'flatten_372' (of type Flatten) was passed an input with a mask attached to it. However, this layer does not support masking and will therefore destroy the mask information. Downstream layers will not see the mask.\n",
      "  warnings.warn(\n"
     ]
    },
    {
     "name": "stdout",
     "output_type": "stream",
     "text": [
      "(None, 20, 1)\n"
     ]
    },
    {
     "name": "stderr",
     "output_type": "stream",
     "text": [
      "G:\\anaconda3\\Lib\\site-packages\\keras\\src\\layers\\layer.py:915: UserWarning: Layer 'flatten_374' (of type Flatten) was passed an input with a mask attached to it. However, this layer does not support masking and will therefore destroy the mask information. Downstream layers will not see the mask.\n",
      "  warnings.warn(\n"
     ]
    },
    {
     "name": "stdout",
     "output_type": "stream",
     "text": [
      "(None, 20, 1)\n"
     ]
    },
    {
     "name": "stderr",
     "output_type": "stream",
     "text": [
      "G:\\anaconda3\\Lib\\site-packages\\keras\\src\\layers\\layer.py:915: UserWarning: Layer 'flatten_376' (of type Flatten) was passed an input with a mask attached to it. However, this layer does not support masking and will therefore destroy the mask information. Downstream layers will not see the mask.\n",
      "  warnings.warn(\n"
     ]
    },
    {
     "name": "stdout",
     "output_type": "stream",
     "text": [
      "(None, 20, 1)\n"
     ]
    },
    {
     "name": "stderr",
     "output_type": "stream",
     "text": [
      "G:\\anaconda3\\Lib\\site-packages\\keras\\src\\layers\\layer.py:915: UserWarning: Layer 'flatten_378' (of type Flatten) was passed an input with a mask attached to it. However, this layer does not support masking and will therefore destroy the mask information. Downstream layers will not see the mask.\n",
      "  warnings.warn(\n"
     ]
    },
    {
     "name": "stdout",
     "output_type": "stream",
     "text": [
      "Iteration: 19\n",
      "Global best position: [2.61073572e+01 2.74895218e+00 4.00000000e+00 3.59059912e+00\n",
      " 3.29127638e-03]\n",
      "Global best fitness: -0.5099780559539795\n",
      "(None, 20, 1)\n"
     ]
    },
    {
     "name": "stderr",
     "output_type": "stream",
     "text": [
      "G:\\anaconda3\\Lib\\site-packages\\keras\\src\\layers\\layer.py:915: UserWarning: Layer 'flatten_380' (of type Flatten) was passed an input with a mask attached to it. However, this layer does not support masking and will therefore destroy the mask information. Downstream layers will not see the mask.\n",
      "  warnings.warn(\n"
     ]
    },
    {
     "name": "stdout",
     "output_type": "stream",
     "text": [
      "(None, 20, 1)\n"
     ]
    },
    {
     "name": "stderr",
     "output_type": "stream",
     "text": [
      "G:\\anaconda3\\Lib\\site-packages\\keras\\src\\layers\\layer.py:915: UserWarning: Layer 'flatten_382' (of type Flatten) was passed an input with a mask attached to it. However, this layer does not support masking and will therefore destroy the mask information. Downstream layers will not see the mask.\n",
      "  warnings.warn(\n"
     ]
    },
    {
     "name": "stdout",
     "output_type": "stream",
     "text": [
      "(None, 20, 1)\n"
     ]
    },
    {
     "name": "stderr",
     "output_type": "stream",
     "text": [
      "G:\\anaconda3\\Lib\\site-packages\\keras\\src\\layers\\layer.py:915: UserWarning: Layer 'flatten_384' (of type Flatten) was passed an input with a mask attached to it. However, this layer does not support masking and will therefore destroy the mask information. Downstream layers will not see the mask.\n",
      "  warnings.warn(\n"
     ]
    },
    {
     "name": "stdout",
     "output_type": "stream",
     "text": [
      "(None, 20, 1)\n"
     ]
    },
    {
     "name": "stderr",
     "output_type": "stream",
     "text": [
      "G:\\anaconda3\\Lib\\site-packages\\keras\\src\\layers\\layer.py:915: UserWarning: Layer 'flatten_386' (of type Flatten) was passed an input with a mask attached to it. However, this layer does not support masking and will therefore destroy the mask information. Downstream layers will not see the mask.\n",
      "  warnings.warn(\n"
     ]
    },
    {
     "name": "stdout",
     "output_type": "stream",
     "text": [
      "(None, 20, 1)\n"
     ]
    },
    {
     "name": "stderr",
     "output_type": "stream",
     "text": [
      "G:\\anaconda3\\Lib\\site-packages\\keras\\src\\layers\\layer.py:915: UserWarning: Layer 'flatten_388' (of type Flatten) was passed an input with a mask attached to it. However, this layer does not support masking and will therefore destroy the mask information. Downstream layers will not see the mask.\n",
      "  warnings.warn(\n"
     ]
    },
    {
     "name": "stdout",
     "output_type": "stream",
     "text": [
      "(None, 20, 1)\n"
     ]
    },
    {
     "name": "stderr",
     "output_type": "stream",
     "text": [
      "G:\\anaconda3\\Lib\\site-packages\\keras\\src\\layers\\layer.py:915: UserWarning: Layer 'flatten_390' (of type Flatten) was passed an input with a mask attached to it. However, this layer does not support masking and will therefore destroy the mask information. Downstream layers will not see the mask.\n",
      "  warnings.warn(\n"
     ]
    },
    {
     "name": "stdout",
     "output_type": "stream",
     "text": [
      "(None, 20, 1)\n"
     ]
    },
    {
     "name": "stderr",
     "output_type": "stream",
     "text": [
      "G:\\anaconda3\\Lib\\site-packages\\keras\\src\\layers\\layer.py:915: UserWarning: Layer 'flatten_392' (of type Flatten) was passed an input with a mask attached to it. However, this layer does not support masking and will therefore destroy the mask information. Downstream layers will not see the mask.\n",
      "  warnings.warn(\n"
     ]
    },
    {
     "name": "stdout",
     "output_type": "stream",
     "text": [
      "(None, 20, 1)\n"
     ]
    },
    {
     "name": "stderr",
     "output_type": "stream",
     "text": [
      "G:\\anaconda3\\Lib\\site-packages\\keras\\src\\layers\\layer.py:915: UserWarning: Layer 'flatten_394' (of type Flatten) was passed an input with a mask attached to it. However, this layer does not support masking and will therefore destroy the mask information. Downstream layers will not see the mask.\n",
      "  warnings.warn(\n"
     ]
    },
    {
     "name": "stdout",
     "output_type": "stream",
     "text": [
      "(None, 20, 1)\n"
     ]
    },
    {
     "name": "stderr",
     "output_type": "stream",
     "text": [
      "G:\\anaconda3\\Lib\\site-packages\\keras\\src\\layers\\layer.py:915: UserWarning: Layer 'flatten_396' (of type Flatten) was passed an input with a mask attached to it. However, this layer does not support masking and will therefore destroy the mask information. Downstream layers will not see the mask.\n",
      "  warnings.warn(\n"
     ]
    },
    {
     "name": "stdout",
     "output_type": "stream",
     "text": [
      "(None, 20, 1)\n"
     ]
    },
    {
     "name": "stderr",
     "output_type": "stream",
     "text": [
      "G:\\anaconda3\\Lib\\site-packages\\keras\\src\\layers\\layer.py:915: UserWarning: Layer 'flatten_398' (of type Flatten) was passed an input with a mask attached to it. However, this layer does not support masking and will therefore destroy the mask information. Downstream layers will not see the mask.\n",
      "  warnings.warn(\n"
     ]
    },
    {
     "name": "stdout",
     "output_type": "stream",
     "text": [
      "Iteration: 20\n",
      "Global best position: [2.61073572e+01 2.74895218e+00 4.00000000e+00 3.59059912e+00\n",
      " 3.29127638e-03]\n",
      "Global best fitness: -0.5099780559539795\n",
      "PSO optimization completed.\n",
      "Best hyperparameters found: [2.61073572e+01 2.74895218e+00 4.00000000e+00 3.59059912e+00\n",
      " 3.29127638e-03]\n"
     ]
    }
   ],
   "source": [
    "print(\"Start PSO optimization...\")\n",
    "best_hyperparameters, _ = pso(fitness_function, lb, ub, swarmsize=10, maxiter=20)\n",
    "print(\"PSO optimization completed.\")\n",
    "print(\"Best hyperparameters found:\", best_hyperparameters)\n"
   ]
  },
  {
   "cell_type": "code",
   "execution_count": 19,
   "metadata": {},
   "outputs": [
    {
     "name": "stdout",
     "output_type": "stream",
     "text": [
      "(None, 20, 1)\n"
     ]
    },
    {
     "name": "stderr",
     "output_type": "stream",
     "text": [
      "G:\\anaconda3\\Lib\\site-packages\\keras\\src\\layers\\layer.py:915: UserWarning: Layer 'flatten_400' (of type Flatten) was passed an input with a mask attached to it. However, this layer does not support masking and will therefore destroy the mask information. Downstream layers will not see the mask.\n",
      "  warnings.warn(\n"
     ]
    }
   ],
   "source": [
    "# Build the final model with best hyperparameters\n",
    "filters, kernel_size, num_heads, key_dim, learning_rate = best_hyperparameters\n",
    "filters = int(filters)  # Ensure filters is an integer\n",
    "kernel_size = int(kernel_size)  # Ensure kernel_size is an integer\n",
    "num_heads = int(num_heads)  # Ensure num_heads is an integer\n",
    "key_dim = int(key_dim)  # Ensure key_dim is an integer\n",
    "final_model = baseline_model(filters, kernel_size, num_heads, key_dim)\n",
    "final_model.compile(loss='binary_crossentropy', optimizer=Adam(learning_rate), metrics=['accuracy', f1_m, recall_m, mcc_metric])\n"
   ]
  },
  {
   "cell_type": "code",
   "execution_count": 30,
   "metadata": {},
   "outputs": [
    {
     "name": "stdout",
     "output_type": "stream",
     "text": [
      "Epoch 1/64\n",
      "\u001b[1m23/23\u001b[0m \u001b[32m━━━━━━━━━━━━━━━━━━━━\u001b[0m\u001b[37m\u001b[0m \u001b[1m6s\u001b[0m 266ms/step - accuracy: 0.7294 - f1_m: 0.7283 - loss: 0.5328 - mcc_metric: 0.4581 - recall_m: 0.7261 - val_accuracy: 0.5899 - val_f1_m: 0.5864 - val_loss: 0.7028 - val_mcc_metric: 0.1820 - val_recall_m: 0.5802\n",
      "Epoch 2/64\n",
      "\u001b[1m23/23\u001b[0m \u001b[32m━━━━━━━━━━━━━━━━━━━━\u001b[0m\u001b[37m\u001b[0m \u001b[1m6s\u001b[0m 246ms/step - accuracy: 0.7453 - f1_m: 0.7425 - loss: 0.5524 - mcc_metric: 0.4882 - recall_m: 0.7383 - val_accuracy: 0.7002 - val_f1_m: 0.6948 - val_loss: 0.6488 - val_mcc_metric: 0.3883 - val_recall_m: 0.6962\n",
      "Epoch 3/64\n",
      "\u001b[1m23/23\u001b[0m \u001b[32m━━━━━━━━━━━━━━━━━━━━\u001b[0m\u001b[37m\u001b[0m \u001b[1m6s\u001b[0m 249ms/step - accuracy: 0.7470 - f1_m: 0.7482 - loss: 0.5369 - mcc_metric: 0.4963 - recall_m: 0.7480 - val_accuracy: 0.5567 - val_f1_m: 0.5525 - val_loss: 0.6878 - val_mcc_metric: 0.1087 - val_recall_m: 0.5503\n",
      "Epoch 4/64\n",
      "\u001b[1m23/23\u001b[0m \u001b[32m━━━━━━━━━━━━━━━━━━━━\u001b[0m\u001b[37m\u001b[0m \u001b[1m6s\u001b[0m 245ms/step - accuracy: 0.6962 - f1_m: 0.6946 - loss: 0.5822 - mcc_metric: 0.3927 - recall_m: 0.6903 - val_accuracy: 0.5493 - val_f1_m: 0.5432 - val_loss: 0.6713 - val_mcc_metric: 0.0980 - val_recall_m: 0.5365\n",
      "Epoch 5/64\n",
      "\u001b[1m23/23\u001b[0m \u001b[32m━━━━━━━━━━━━━━━━━━━━\u001b[0m\u001b[37m\u001b[0m \u001b[1m6s\u001b[0m 260ms/step - accuracy: 0.7059 - f1_m: 0.7045 - loss: 0.5645 - mcc_metric: 0.4145 - recall_m: 0.6985 - val_accuracy: 0.6724 - val_f1_m: 0.6690 - val_loss: 0.6844 - val_mcc_metric: 0.3422 - val_recall_m: 0.6654\n",
      "Epoch 6/64\n",
      "\u001b[1m23/23\u001b[0m \u001b[32m━━━━━━━━━━━━━━━━━━━━\u001b[0m\u001b[37m\u001b[0m \u001b[1m6s\u001b[0m 273ms/step - accuracy: 0.7105 - f1_m: 0.7092 - loss: 0.5604 - mcc_metric: 0.4206 - recall_m: 0.7064 - val_accuracy: 0.5857 - val_f1_m: 0.5784 - val_loss: 0.6719 - val_mcc_metric: 0.1731 - val_recall_m: 0.5677\n",
      "Epoch 7/64\n",
      "\u001b[1m23/23\u001b[0m \u001b[32m━━━━━━━━━━━━━━━━━━━━\u001b[0m\u001b[37m\u001b[0m \u001b[1m6s\u001b[0m 263ms/step - accuracy: 0.7578 - f1_m: 0.7568 - loss: 0.5198 - mcc_metric: 0.5168 - recall_m: 0.7521 - val_accuracy: 0.6328 - val_f1_m: 0.6316 - val_loss: 0.6906 - val_mcc_metric: 0.2654 - val_recall_m: 0.6296\n",
      "Epoch 8/64\n",
      "\u001b[1m23/23\u001b[0m \u001b[32m━━━━━━━━━━━━━━━━━━━━\u001b[0m\u001b[37m\u001b[0m \u001b[1m6s\u001b[0m 277ms/step - accuracy: 0.7714 - f1_m: 0.7715 - loss: 0.5199 - mcc_metric: 0.5441 - recall_m: 0.7699 - val_accuracy: 0.6274 - val_f1_m: 0.6252 - val_loss: 0.7190 - val_mcc_metric: 0.2533 - val_recall_m: 0.6230\n",
      "Epoch 9/64\n",
      "\u001b[1m23/23\u001b[0m \u001b[32m━━━━━━━━━━━━━━━━━━━━\u001b[0m\u001b[37m\u001b[0m \u001b[1m7s\u001b[0m 285ms/step - accuracy: 0.7678 - f1_m: 0.7673 - loss: 0.4897 - mcc_metric: 0.5367 - recall_m: 0.7648 - val_accuracy: 0.5792 - val_f1_m: 0.5797 - val_loss: 0.8102 - val_mcc_metric: 0.1567 - val_recall_m: 0.5820\n",
      "Epoch 10/64\n",
      "\u001b[1m23/23\u001b[0m \u001b[32m━━━━━━━━━━━━━━━━━━━━\u001b[0m\u001b[37m\u001b[0m \u001b[1m7s\u001b[0m 289ms/step - accuracy: 0.7582 - f1_m: 0.7582 - loss: 0.5174 - mcc_metric: 0.5167 - recall_m: 0.7578 - val_accuracy: 0.6906 - val_f1_m: 0.6873 - val_loss: 0.6710 - val_mcc_metric: 0.3776 - val_recall_m: 0.6848\n",
      "Epoch 11/64\n",
      "\u001b[1m23/23\u001b[0m \u001b[32m━━━━━━━━━━━━━━━━━━━━\u001b[0m\u001b[37m\u001b[0m \u001b[1m6s\u001b[0m 279ms/step - accuracy: 0.8086 - f1_m: 0.8094 - loss: 0.4779 - mcc_metric: 0.6209 - recall_m: 0.8032 - val_accuracy: 0.5589 - val_f1_m: 0.5577 - val_loss: 0.8515 - val_mcc_metric: 0.1146 - val_recall_m: 0.5583\n",
      "Epoch 12/64\n",
      "\u001b[1m23/23\u001b[0m \u001b[32m━━━━━━━━━━━━━━━━━━━━\u001b[0m\u001b[37m\u001b[0m \u001b[1m6s\u001b[0m 281ms/step - accuracy: 0.7288 - f1_m: 0.7299 - loss: 0.5569 - mcc_metric: 0.4599 - recall_m: 0.7298 - val_accuracy: 0.7163 - val_f1_m: 0.7141 - val_loss: 0.6512 - val_mcc_metric: 0.4286 - val_recall_m: 0.7133\n",
      "Epoch 13/64\n",
      "\u001b[1m23/23\u001b[0m \u001b[32m━━━━━━━━━━━━━━━━━━━━\u001b[0m\u001b[37m\u001b[0m \u001b[1m6s\u001b[0m 268ms/step - accuracy: 0.7572 - f1_m: 0.7588 - loss: 0.5294 - mcc_metric: 0.5186 - recall_m: 0.7566 - val_accuracy: 0.6253 - val_f1_m: 0.6248 - val_loss: 0.7523 - val_mcc_metric: 0.2515 - val_recall_m: 0.6233\n",
      "Epoch 14/64\n",
      "\u001b[1m23/23\u001b[0m \u001b[32m━━━━━━━━━━━━━━━━━━━━\u001b[0m\u001b[37m\u001b[0m \u001b[1m6s\u001b[0m 254ms/step - accuracy: 0.7948 - f1_m: 0.7944 - loss: 0.4726 - mcc_metric: 0.5883 - recall_m: 0.7956 - val_accuracy: 0.5707 - val_f1_m: 0.5720 - val_loss: 0.7998 - val_mcc_metric: 0.1414 - val_recall_m: 0.5740\n",
      "Epoch 15/64\n",
      "\u001b[1m23/23\u001b[0m \u001b[32m━━━━━━━━━━━━━━━━━━━━\u001b[0m\u001b[37m\u001b[0m \u001b[1m6s\u001b[0m 258ms/step - accuracy: 0.7804 - f1_m: 0.7787 - loss: 0.4842 - mcc_metric: 0.5579 - recall_m: 0.7777 - val_accuracy: 0.6831 - val_f1_m: 0.6802 - val_loss: 0.7268 - val_mcc_metric: 0.3620 - val_recall_m: 0.6789\n",
      "Epoch 16/64\n",
      "\u001b[1m23/23\u001b[0m \u001b[32m━━━━━━━━━━━━━━━━━━━━\u001b[0m\u001b[37m\u001b[0m \u001b[1m6s\u001b[0m 262ms/step - accuracy: 0.8282 - f1_m: 0.8282 - loss: 0.4085 - mcc_metric: 0.6568 - recall_m: 0.8269 - val_accuracy: 0.6734 - val_f1_m: 0.6709 - val_loss: 0.7342 - val_mcc_metric: 0.3428 - val_recall_m: 0.6698\n",
      "Epoch 17/64\n",
      "\u001b[1m23/23\u001b[0m \u001b[32m━━━━━━━━━━━━━━━━━━━━\u001b[0m\u001b[37m\u001b[0m \u001b[1m6s\u001b[0m 247ms/step - accuracy: 0.8107 - f1_m: 0.8119 - loss: 0.4425 - mcc_metric: 0.6249 - recall_m: 0.8089 - val_accuracy: 0.6606 - val_f1_m: 0.6557 - val_loss: 0.7747 - val_mcc_metric: 0.3133 - val_recall_m: 0.6535\n",
      "Epoch 18/64\n",
      "\u001b[1m23/23\u001b[0m \u001b[32m━━━━━━━━━━━━━━━━━━━━\u001b[0m\u001b[37m\u001b[0m \u001b[1m6s\u001b[0m 267ms/step - accuracy: 0.8326 - f1_m: 0.8343 - loss: 0.4151 - mcc_metric: 0.6696 - recall_m: 0.8310 - val_accuracy: 0.6606 - val_f1_m: 0.6576 - val_loss: 0.7711 - val_mcc_metric: 0.3196 - val_recall_m: 0.6535\n",
      "Epoch 19/64\n",
      "\u001b[1m23/23\u001b[0m \u001b[32m━━━━━━━━━━━━━━━━━━━━\u001b[0m\u001b[37m\u001b[0m \u001b[1m6s\u001b[0m 253ms/step - accuracy: 0.8356 - f1_m: 0.8364 - loss: 0.4148 - mcc_metric: 0.6734 - recall_m: 0.8347 - val_accuracy: 0.6681 - val_f1_m: 0.6650 - val_loss: 0.8265 - val_mcc_metric: 0.3306 - val_recall_m: 0.6643\n",
      "Epoch 20/64\n",
      "\u001b[1m23/23\u001b[0m \u001b[32m━━━━━━━━━━━━━━━━━━━━\u001b[0m\u001b[37m\u001b[0m \u001b[1m6s\u001b[0m 256ms/step - accuracy: 0.7656 - f1_m: 0.7658 - loss: 0.5138 - mcc_metric: 0.5315 - recall_m: 0.7659 - val_accuracy: 0.6028 - val_f1_m: 0.5969 - val_loss: 0.7853 - val_mcc_metric: 0.1980 - val_recall_m: 0.5934\n",
      "Epoch 21/64\n",
      "\u001b[1m23/23\u001b[0m \u001b[32m━━━━━━━━━━━━━━━━━━━━\u001b[0m\u001b[37m\u001b[0m \u001b[1m6s\u001b[0m 255ms/step - accuracy: 0.7594 - f1_m: 0.7585 - loss: 0.5197 - mcc_metric: 0.5185 - recall_m: 0.7562 - val_accuracy: 0.6788 - val_f1_m: 0.6765 - val_loss: 0.6962 - val_mcc_metric: 0.3543 - val_recall_m: 0.6751\n",
      "Epoch 22/64\n",
      "\u001b[1m23/23\u001b[0m \u001b[32m━━━━━━━━━━━━━━━━━━━━\u001b[0m\u001b[37m\u001b[0m \u001b[1m6s\u001b[0m 250ms/step - accuracy: 0.8131 - f1_m: 0.8137 - loss: 0.4489 - mcc_metric: 0.6278 - recall_m: 0.8132 - val_accuracy: 0.6767 - val_f1_m: 0.6733 - val_loss: 0.7477 - val_mcc_metric: 0.3456 - val_recall_m: 0.6743\n",
      "Epoch 23/64\n",
      "\u001b[1m23/23\u001b[0m \u001b[32m━━━━━━━━━━━━━━━━━━━━\u001b[0m\u001b[37m\u001b[0m \u001b[1m6s\u001b[0m 253ms/step - accuracy: 0.8130 - f1_m: 0.8143 - loss: 0.4253 - mcc_metric: 0.6280 - recall_m: 0.8154 - val_accuracy: 0.6060 - val_f1_m: 0.6041 - val_loss: 0.8797 - val_mcc_metric: 0.2091 - val_recall_m: 0.6035\n",
      "Epoch 24/64\n",
      "\u001b[1m23/23\u001b[0m \u001b[32m━━━━━━━━━━━━━━━━━━━━\u001b[0m\u001b[37m\u001b[0m \u001b[1m6s\u001b[0m 253ms/step - accuracy: 0.8145 - f1_m: 0.8146 - loss: 0.4351 - mcc_metric: 0.6292 - recall_m: 0.8146 - val_accuracy: 0.5792 - val_f1_m: 0.5781 - val_loss: 0.8978 - val_mcc_metric: 0.1574 - val_recall_m: 0.5771\n",
      "Epoch 25/64\n",
      "\u001b[1m23/23\u001b[0m \u001b[32m━━━━━━━━━━━━━━━━━━━━\u001b[0m\u001b[37m\u001b[0m \u001b[1m6s\u001b[0m 269ms/step - accuracy: 0.8293 - f1_m: 0.8310 - loss: 0.4246 - mcc_metric: 0.6631 - recall_m: 0.8283 - val_accuracy: 0.6660 - val_f1_m: 0.6626 - val_loss: 0.8365 - val_mcc_metric: 0.3243 - val_recall_m: 0.6632\n",
      "Epoch 26/64\n",
      "\u001b[1m23/23\u001b[0m \u001b[32m━━━━━━━━━━━━━━━━━━━━\u001b[0m\u001b[37m\u001b[0m \u001b[1m6s\u001b[0m 255ms/step - accuracy: 0.8268 - f1_m: 0.8252 - loss: 0.4372 - mcc_metric: 0.6498 - recall_m: 0.8271 - val_accuracy: 0.6788 - val_f1_m: 0.6747 - val_loss: 0.8248 - val_mcc_metric: 0.3493 - val_recall_m: 0.6747\n",
      "Epoch 27/64\n",
      "\u001b[1m23/23\u001b[0m \u001b[32m━━━━━━━━━━━━━━━━━━━━\u001b[0m\u001b[37m\u001b[0m \u001b[1m6s\u001b[0m 266ms/step - accuracy: 0.8511 - f1_m: 0.8500 - loss: 0.3789 - mcc_metric: 0.6996 - recall_m: 0.8511 - val_accuracy: 0.7302 - val_f1_m: 0.7261 - val_loss: 0.7024 - val_mcc_metric: 0.4518 - val_recall_m: 0.7264\n",
      "Epoch 28/64\n",
      "\u001b[1m23/23\u001b[0m \u001b[32m━━━━━━━━━━━━━━━━━━━━\u001b[0m\u001b[37m\u001b[0m \u001b[1m6s\u001b[0m 254ms/step - accuracy: 0.8477 - f1_m: 0.8472 - loss: 0.3828 - mcc_metric: 0.6943 - recall_m: 0.8476 - val_accuracy: 0.6649 - val_f1_m: 0.6618 - val_loss: 0.8374 - val_mcc_metric: 0.3247 - val_recall_m: 0.6608\n",
      "Epoch 29/64\n",
      "\u001b[1m23/23\u001b[0m \u001b[32m━━━━━━━━━━━━━━━━━━━━\u001b[0m\u001b[37m\u001b[0m \u001b[1m6s\u001b[0m 255ms/step - accuracy: 0.8618 - f1_m: 0.8631 - loss: 0.3527 - mcc_metric: 0.7269 - recall_m: 0.8618 - val_accuracy: 0.6831 - val_f1_m: 0.6780 - val_loss: 0.8042 - val_mcc_metric: 0.3652 - val_recall_m: 0.6698\n",
      "Epoch 30/64\n",
      "\u001b[1m23/23\u001b[0m \u001b[32m━━━━━━━━━━━━━━━━━━━━\u001b[0m\u001b[37m\u001b[0m \u001b[1m6s\u001b[0m 254ms/step - accuracy: 0.8594 - f1_m: 0.8583 - loss: 0.3631 - mcc_metric: 0.7183 - recall_m: 0.8543 - val_accuracy: 0.6745 - val_f1_m: 0.6733 - val_loss: 0.8499 - val_mcc_metric: 0.3474 - val_recall_m: 0.6726\n",
      "Epoch 31/64\n",
      "\u001b[1m23/23\u001b[0m \u001b[32m━━━━━━━━━━━━━━━━━━━━\u001b[0m\u001b[37m\u001b[0m \u001b[1m6s\u001b[0m 261ms/step - accuracy: 0.8300 - f1_m: 0.8301 - loss: 0.4146 - mcc_metric: 0.6606 - recall_m: 0.8290 - val_accuracy: 0.6820 - val_f1_m: 0.6771 - val_loss: 0.8749 - val_mcc_metric: 0.3546 - val_recall_m: 0.6768\n",
      "Epoch 32/64\n",
      "\u001b[1m23/23\u001b[0m \u001b[32m━━━━━━━━━━━━━━━━━━━━\u001b[0m\u001b[37m\u001b[0m \u001b[1m6s\u001b[0m 252ms/step - accuracy: 0.8671 - f1_m: 0.8662 - loss: 0.3640 - mcc_metric: 0.7320 - recall_m: 0.8677 - val_accuracy: 0.7195 - val_f1_m: 0.7152 - val_loss: 0.8734 - val_mcc_metric: 0.4300 - val_recall_m: 0.7160\n",
      "Epoch 33/64\n",
      "\u001b[1m23/23\u001b[0m \u001b[32m━━━━━━━━━━━━━━━━━━━━\u001b[0m\u001b[37m\u001b[0m \u001b[1m6s\u001b[0m 259ms/step - accuracy: 0.8929 - f1_m: 0.8923 - loss: 0.3142 - mcc_metric: 0.7846 - recall_m: 0.8926 - val_accuracy: 0.7141 - val_f1_m: 0.7094 - val_loss: 0.8967 - val_mcc_metric: 0.4185 - val_recall_m: 0.7098\n",
      "Epoch 34/64\n",
      "\u001b[1m23/23\u001b[0m \u001b[32m━━━━━━━━━━━━━━━━━━━━\u001b[0m\u001b[37m\u001b[0m \u001b[1m6s\u001b[0m 256ms/step - accuracy: 0.8753 - f1_m: 0.8759 - loss: 0.3468 - mcc_metric: 0.7517 - recall_m: 0.8760 - val_accuracy: 0.7163 - val_f1_m: 0.7122 - val_loss: 0.8493 - val_mcc_metric: 0.4251 - val_recall_m: 0.7115\n",
      "Epoch 35/64\n",
      "\u001b[1m23/23\u001b[0m \u001b[32m━━━━━━━━━━━━━━━━━━━━\u001b[0m\u001b[37m\u001b[0m \u001b[1m6s\u001b[0m 253ms/step - accuracy: 0.8463 - f1_m: 0.8470 - loss: 0.3972 - mcc_metric: 0.6943 - recall_m: 0.8462 - val_accuracy: 0.6681 - val_f1_m: 0.6656 - val_loss: 0.8569 - val_mcc_metric: 0.3310 - val_recall_m: 0.6660\n",
      "Epoch 36/64\n",
      "\u001b[1m23/23\u001b[0m \u001b[32m━━━━━━━━━━━━━━━━━━━━\u001b[0m\u001b[37m\u001b[0m \u001b[1m6s\u001b[0m 267ms/step - accuracy: 0.8855 - f1_m: 0.8858 - loss: 0.3062 - mcc_metric: 0.7717 - recall_m: 0.8854 - val_accuracy: 0.7184 - val_f1_m: 0.7135 - val_loss: 0.9615 - val_mcc_metric: 0.4268 - val_recall_m: 0.7139\n",
      "Epoch 37/64\n",
      "\u001b[1m23/23\u001b[0m \u001b[32m━━━━━━━━━━━━━━━━━━━━\u001b[0m\u001b[37m\u001b[0m \u001b[1m6s\u001b[0m 245ms/step - accuracy: 0.8326 - f1_m: 0.8322 - loss: 0.4258 - mcc_metric: 0.6645 - recall_m: 0.8318 - val_accuracy: 0.6777 - val_f1_m: 0.6743 - val_loss: 0.8313 - val_mcc_metric: 0.3493 - val_recall_m: 0.6736\n",
      "Epoch 38/64\n",
      "\u001b[1m23/23\u001b[0m \u001b[32m━━━━━━━━━━━━━━━━━━━━\u001b[0m\u001b[37m\u001b[0m \u001b[1m6s\u001b[0m 246ms/step - accuracy: 0.8380 - f1_m: 0.8372 - loss: 0.4089 - mcc_metric: 0.6747 - recall_m: 0.8363 - val_accuracy: 0.7088 - val_f1_m: 0.7060 - val_loss: 0.8457 - val_mcc_metric: 0.4120 - val_recall_m: 0.7060\n",
      "Epoch 39/64\n",
      "\u001b[1m23/23\u001b[0m \u001b[32m━━━━━━━━━━━━━━━━━━━━\u001b[0m\u001b[37m\u001b[0m \u001b[1m6s\u001b[0m 248ms/step - accuracy: 0.8676 - f1_m: 0.8678 - loss: 0.3427 - mcc_metric: 0.7356 - recall_m: 0.8677 - val_accuracy: 0.7281 - val_f1_m: 0.7224 - val_loss: 0.9419 - val_mcc_metric: 0.4460 - val_recall_m: 0.7209\n",
      "Epoch 40/64\n",
      "\u001b[1m23/23\u001b[0m \u001b[32m━━━━━━━━━━━━━━━━━━━━\u001b[0m\u001b[37m\u001b[0m \u001b[1m6s\u001b[0m 244ms/step - accuracy: 0.9011 - f1_m: 0.9014 - loss: 0.2982 - mcc_metric: 0.8028 - recall_m: 0.9011 - val_accuracy: 0.6949 - val_f1_m: 0.6910 - val_loss: 1.0251 - val_mcc_metric: 0.3820 - val_recall_m: 0.6910\n",
      "Epoch 41/64\n",
      "\u001b[1m23/23\u001b[0m \u001b[32m━━━━━━━━━━━━━━━━━━━━\u001b[0m\u001b[37m\u001b[0m \u001b[1m6s\u001b[0m 250ms/step - accuracy: 0.8875 - f1_m: 0.8875 - loss: 0.2964 - mcc_metric: 0.7750 - recall_m: 0.8875 - val_accuracy: 0.7238 - val_f1_m: 0.7205 - val_loss: 0.9453 - val_mcc_metric: 0.4407 - val_recall_m: 0.7209\n",
      "Epoch 42/64\n",
      "\u001b[1m23/23\u001b[0m \u001b[32m━━━━━━━━━━━━━━━━━━━━\u001b[0m\u001b[37m\u001b[0m \u001b[1m6s\u001b[0m 245ms/step - accuracy: 0.8779 - f1_m: 0.8780 - loss: 0.3267 - mcc_metric: 0.7559 - recall_m: 0.8780 - val_accuracy: 0.7345 - val_f1_m: 0.7306 - val_loss: 1.0378 - val_mcc_metric: 0.4616 - val_recall_m: 0.7303\n",
      "Epoch 43/64\n",
      "\u001b[1m23/23\u001b[0m \u001b[32m━━━━━━━━━━━━━━━━━━━━\u001b[0m\u001b[37m\u001b[0m \u001b[1m6s\u001b[0m 243ms/step - accuracy: 0.9167 - f1_m: 0.9164 - loss: 0.2732 - mcc_metric: 0.8329 - recall_m: 0.9164 - val_accuracy: 0.6488 - val_f1_m: 0.6441 - val_loss: 1.1719 - val_mcc_metric: 0.2882 - val_recall_m: 0.6441\n",
      "Epoch 44/64\n",
      "\u001b[1m23/23\u001b[0m \u001b[32m━━━━━━━━━━━━━━━━━━━━\u001b[0m\u001b[37m\u001b[0m \u001b[1m6s\u001b[0m 242ms/step - accuracy: 0.8498 - f1_m: 0.8502 - loss: 0.4007 - mcc_metric: 0.7005 - recall_m: 0.8499 - val_accuracy: 0.7184 - val_f1_m: 0.7139 - val_loss: 0.8971 - val_mcc_metric: 0.4279 - val_recall_m: 0.7139\n",
      "Epoch 45/64\n",
      "\u001b[1m23/23\u001b[0m \u001b[32m━━━━━━━━━━━━━━━━━━━━\u001b[0m\u001b[37m\u001b[0m \u001b[1m6s\u001b[0m 242ms/step - accuracy: 0.8951 - f1_m: 0.8949 - loss: 0.2944 - mcc_metric: 0.7900 - recall_m: 0.8948 - val_accuracy: 0.7334 - val_f1_m: 0.7285 - val_loss: 0.9724 - val_mcc_metric: 0.4570 - val_recall_m: 0.7285\n",
      "Epoch 46/64\n",
      "\u001b[1m23/23\u001b[0m \u001b[32m━━━━━━━━━━━━━━━━━━━━\u001b[0m\u001b[37m\u001b[0m \u001b[1m6s\u001b[0m 246ms/step - accuracy: 0.9285 - f1_m: 0.9261 - loss: 0.2408 - mcc_metric: 0.8523 - recall_m: 0.9247 - val_accuracy: 0.7024 - val_f1_m: 0.6983 - val_loss: 1.0942 - val_mcc_metric: 0.3966 - val_recall_m: 0.6983\n",
      "Epoch 47/64\n",
      "\u001b[1m23/23\u001b[0m \u001b[32m━━━━━━━━━━━━━━━━━━━━\u001b[0m\u001b[37m\u001b[0m \u001b[1m6s\u001b[0m 240ms/step - accuracy: 0.8930 - f1_m: 0.8928 - loss: 0.2924 - mcc_metric: 0.7857 - recall_m: 0.8928 - val_accuracy: 0.7238 - val_f1_m: 0.7198 - val_loss: 1.0965 - val_mcc_metric: 0.4393 - val_recall_m: 0.7202\n",
      "Epoch 48/64\n",
      "\u001b[1m23/23\u001b[0m \u001b[32m━━━━━━━━━━━━━━━━━━━━\u001b[0m\u001b[37m\u001b[0m \u001b[1m6s\u001b[0m 251ms/step - accuracy: 0.9182 - f1_m: 0.9180 - loss: 0.2580 - mcc_metric: 0.8361 - recall_m: 0.9178 - val_accuracy: 0.6585 - val_f1_m: 0.6556 - val_loss: 1.0783 - val_mcc_metric: 0.3112 - val_recall_m: 0.6556\n",
      "Epoch 49/64\n",
      "\u001b[1m23/23\u001b[0m \u001b[32m━━━━━━━━━━━━━━━━━━━━\u001b[0m\u001b[37m\u001b[0m \u001b[1m6s\u001b[0m 244ms/step - accuracy: 0.8873 - f1_m: 0.8872 - loss: 0.2910 - mcc_metric: 0.7744 - recall_m: 0.8873 - val_accuracy: 0.7131 - val_f1_m: 0.7094 - val_loss: 1.1708 - val_mcc_metric: 0.4185 - val_recall_m: 0.7098\n",
      "Epoch 50/64\n",
      "\u001b[1m23/23\u001b[0m \u001b[32m━━━━━━━━━━━━━━━━━━━━\u001b[0m\u001b[37m\u001b[0m \u001b[1m5s\u001b[0m 238ms/step - accuracy: 0.9040 - f1_m: 0.9041 - loss: 0.2765 - mcc_metric: 0.8082 - recall_m: 0.9041 - val_accuracy: 0.7484 - val_f1_m: 0.7451 - val_loss: 1.0706 - val_mcc_metric: 0.4905 - val_recall_m: 0.7442\n",
      "Epoch 51/64\n",
      "\u001b[1m23/23\u001b[0m \u001b[32m━━━━━━━━━━━━━━━━━━━━\u001b[0m\u001b[37m\u001b[0m \u001b[1m6s\u001b[0m 241ms/step - accuracy: 0.9157 - f1_m: 0.9168 - loss: 0.2469 - mcc_metric: 0.8338 - recall_m: 0.9157 - val_accuracy: 0.7173 - val_f1_m: 0.7143 - val_loss: 1.1250 - val_mcc_metric: 0.4282 - val_recall_m: 0.7146\n",
      "Epoch 52/64\n",
      "\u001b[1m23/23\u001b[0m \u001b[32m━━━━━━━━━━━━━━━━━━━━\u001b[0m\u001b[37m\u001b[0m \u001b[1m5s\u001b[0m 238ms/step - accuracy: 0.9289 - f1_m: 0.9289 - loss: 0.2193 - mcc_metric: 0.8577 - recall_m: 0.9287 - val_accuracy: 0.7409 - val_f1_m: 0.7372 - val_loss: 1.1192 - val_mcc_metric: 0.4751 - val_recall_m: 0.7365\n",
      "Epoch 53/64\n",
      "\u001b[1m23/23\u001b[0m \u001b[32m━━━━━━━━━━━━━━━━━━━━\u001b[0m\u001b[37m\u001b[0m \u001b[1m5s\u001b[0m 239ms/step - accuracy: 0.9340 - f1_m: 0.9349 - loss: 0.2274 - mcc_metric: 0.8700 - recall_m: 0.9335 - val_accuracy: 0.7430 - val_f1_m: 0.7386 - val_loss: 1.1677 - val_mcc_metric: 0.4772 - val_recall_m: 0.7386\n",
      "Epoch 54/64\n",
      "\u001b[1m23/23\u001b[0m \u001b[32m━━━━━━━━━━━━━━━━━━━━\u001b[0m\u001b[37m\u001b[0m \u001b[1m6s\u001b[0m 243ms/step - accuracy: 0.9320 - f1_m: 0.9319 - loss: 0.2073 - mcc_metric: 0.8638 - recall_m: 0.9318 - val_accuracy: 0.7313 - val_f1_m: 0.7272 - val_loss: 1.1456 - val_mcc_metric: 0.4547 - val_recall_m: 0.7268\n",
      "Epoch 55/64\n",
      "\u001b[1m23/23\u001b[0m \u001b[32m━━━━━━━━━━━━━━━━━━━━\u001b[0m\u001b[37m\u001b[0m \u001b[1m6s\u001b[0m 244ms/step - accuracy: 0.9074 - f1_m: 0.9073 - loss: 0.2947 - mcc_metric: 0.8146 - recall_m: 0.9073 - val_accuracy: 0.7013 - val_f1_m: 0.6973 - val_loss: 1.0001 - val_mcc_metric: 0.3945 - val_recall_m: 0.6973\n",
      "Epoch 56/64\n",
      "\u001b[1m23/23\u001b[0m \u001b[32m━━━━━━━━━━━━━━━━━━━━\u001b[0m\u001b[37m\u001b[0m \u001b[1m5s\u001b[0m 241ms/step - accuracy: 0.9160 - f1_m: 0.9159 - loss: 0.2435 - mcc_metric: 0.8318 - recall_m: 0.9161 - val_accuracy: 0.7345 - val_f1_m: 0.7306 - val_loss: 1.0376 - val_mcc_metric: 0.4616 - val_recall_m: 0.7303\n",
      "Epoch 57/64\n",
      "\u001b[1m23/23\u001b[0m \u001b[32m━━━━━━━━━━━━━━━━━━━━\u001b[0m\u001b[37m\u001b[0m \u001b[1m5s\u001b[0m 240ms/step - accuracy: 0.9212 - f1_m: 0.9212 - loss: 0.2454 - mcc_metric: 0.8423 - recall_m: 0.9212 - val_accuracy: 0.7441 - val_f1_m: 0.7417 - val_loss: 1.0108 - val_mcc_metric: 0.4832 - val_recall_m: 0.7421\n",
      "Epoch 58/64\n",
      "\u001b[1m23/23\u001b[0m \u001b[32m━━━━━━━━━━━━━━━━━━━━\u001b[0m\u001b[37m\u001b[0m \u001b[1m6s\u001b[0m 244ms/step - accuracy: 0.9106 - f1_m: 0.9106 - loss: 0.2450 - mcc_metric: 0.8212 - recall_m: 0.9106 - val_accuracy: 0.7559 - val_f1_m: 0.7532 - val_loss: 0.9895 - val_mcc_metric: 0.5065 - val_recall_m: 0.7532\n",
      "Epoch 59/64\n",
      "\u001b[1m23/23\u001b[0m \u001b[32m━━━━━━━━━━━━━━━━━━━━\u001b[0m\u001b[37m\u001b[0m \u001b[1m6s\u001b[0m 249ms/step - accuracy: 0.9343 - f1_m: 0.9345 - loss: 0.2111 - mcc_metric: 0.8690 - recall_m: 0.9338 - val_accuracy: 0.7537 - val_f1_m: 0.7497 - val_loss: 1.1702 - val_mcc_metric: 0.4995 - val_recall_m: 0.7497\n",
      "Epoch 60/64\n",
      "\u001b[1m23/23\u001b[0m \u001b[32m━━━━━━━━━━━━━━━━━━━━\u001b[0m\u001b[37m\u001b[0m \u001b[1m6s\u001b[0m 247ms/step - accuracy: 0.9374 - f1_m: 0.9381 - loss: 0.1979 - mcc_metric: 0.8763 - recall_m: 0.9376 - val_accuracy: 0.7088 - val_f1_m: 0.7046 - val_loss: 1.1986 - val_mcc_metric: 0.4091 - val_recall_m: 0.7046\n",
      "Epoch 61/64\n",
      "\u001b[1m23/23\u001b[0m \u001b[32m━━━━━━━━━━━━━━━━━━━━\u001b[0m\u001b[37m\u001b[0m \u001b[1m5s\u001b[0m 239ms/step - accuracy: 0.9000 - f1_m: 0.8993 - loss: 0.2982 - mcc_metric: 0.7987 - recall_m: 0.8990 - val_accuracy: 0.7259 - val_f1_m: 0.7208 - val_loss: 1.1176 - val_mcc_metric: 0.4414 - val_recall_m: 0.7212\n",
      "Epoch 62/64\n",
      "\u001b[1m23/23\u001b[0m \u001b[32m━━━━━━━━━━━━━━━━━━━━\u001b[0m\u001b[37m\u001b[0m \u001b[1m6s\u001b[0m 249ms/step - accuracy: 0.9115 - f1_m: 0.9128 - loss: 0.2577 - mcc_metric: 0.8255 - recall_m: 0.9140 - val_accuracy: 0.7527 - val_f1_m: 0.7494 - val_loss: 1.0468 - val_mcc_metric: 0.4988 - val_recall_m: 0.7494\n",
      "Epoch 63/64\n",
      "\u001b[1m23/23\u001b[0m \u001b[32m━━━━━━━━━━━━━━━━━━━━\u001b[0m\u001b[37m\u001b[0m \u001b[1m6s\u001b[0m 242ms/step - accuracy: 0.9386 - f1_m: 0.9387 - loss: 0.2155 - mcc_metric: 0.8774 - recall_m: 0.9387 - val_accuracy: 0.7302 - val_f1_m: 0.7258 - val_loss: 1.0474 - val_mcc_metric: 0.4518 - val_recall_m: 0.7254\n",
      "Epoch 64/64\n",
      "\u001b[1m23/23\u001b[0m \u001b[32m━━━━━━━━━━━━━━━━━━━━\u001b[0m\u001b[37m\u001b[0m \u001b[1m6s\u001b[0m 244ms/step - accuracy: 0.9558 - f1_m: 0.9549 - loss: 0.1782 - mcc_metric: 0.9099 - recall_m: 0.9542 - val_accuracy: 0.7602 - val_f1_m: 0.7577 - val_loss: 1.1098 - val_mcc_metric: 0.5158 - val_recall_m: 0.7574\n"
     ]
    }
   ],
   "source": [
    "# Train the final model\n",
    "history = final_model.fit(X_train, y_train, validation_data=(X_test, y_test), epochs=64, batch_size=64, verbose=1)\n"
   ]
  },
  {
   "cell_type": "code",
   "execution_count": null,
   "metadata": {},
   "outputs": [],
   "source": []
  }
 ],
 "metadata": {
  "kernelspec": {
   "display_name": "Python 3",
   "language": "python",
   "name": "python3"
  },
  "language_info": {
   "codemirror_mode": {
    "name": "ipython",
    "version": 3
   },
   "file_extension": ".py",
   "mimetype": "text/x-python",
   "name": "python",
   "nbconvert_exporter": "python",
   "pygments_lexer": "ipython3",
   "version": "3.12.4"
  }
 },
 "nbformat": 4,
 "nbformat_minor": 4
}
