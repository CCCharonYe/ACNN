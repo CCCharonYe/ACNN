{
 "cells": [
  {
   "cell_type": "code",
   "execution_count": 1,
   "metadata": {
    "ExecuteTime": {
     "end_time": "2024-04-15T01:30:45.669714Z",
     "start_time": "2024-04-15T01:30:45.640843Z"
    }
   },
   "outputs": [],
   "source": [
    "import matplotlib\n",
    "import matplotlib.pyplot as plt\n",
    "import numpy as np\n",
    "import pandas as pd\n",
    "import tensorflow as tf\n",
    "from keras.optimizers import Adam\n",
    "from keras.regularizers import l2\n",
    "from imblearn.over_sampling import RandomOverSampler,SMOTE\n",
    "from sklearn.model_selection import train_test_split\n",
    "from keras.utils import to_categorical\n",
    "from keras import regularizers\n",
    "from tensorflow.python.keras import backend as K\n",
    "from keras.models import Model\n",
    "from keras.models import Sequential\n",
    "from keras.layers import Dense\n",
    "from keras.layers import Dropout\n",
    "from keras.layers import Flatten\n",
    "from keras.layers import Reshape\n",
    "from keras.layers import MultiHeadAttention\n",
    "from keras.layers import Input\n",
    "from keras.layers import Concatenate,GlobalAveragePooling1D\n",
    "from keras.layers import Masking, LSTM, TimeDistributed\n",
    "from keras.layers import Conv1D\n",
    "from keras.layers import MaxPooling1D\n",
    "import smote_variants as sv"
   ]
  },
  {
   "cell_type": "code",
   "execution_count": 2,
   "metadata": {},
   "outputs": [],
   "source": [
    "data1 = pd.read_csv(\"dataset/xerces12.csv\")\n",
    "(row, cell) = data1.values.shape\n",
    "data2=data1.values\n",
    "X=np.array(data2).astype(float)  \n",
    "#X =  X.CURE_SMOTE()"
   ]
  },
  {
   "cell_type": "code",
   "execution_count": 3,
   "metadata": {},
   "outputs": [],
   "source": [
    "y=X[:,cell-1]\n",
    "X=X[:,0:cell-1]\n",
    "X_res, y_res = X, y\n",
    "X_res.shape,y_res.shape\n",
    "X_res.shape\n",
    "X_res=X_res.reshape(row,cell-1,1)\n",
    "X_train, y_train = X_res, y_res"
   ]
  },
  {
   "cell_type": "code",
   "execution_count": 4,
   "metadata": {},
   "outputs": [],
   "source": [
    "data1 = pd.read_csv(\"dataset/xerces13.csv\")\n",
    "(row1, cell1) = data1.values.shape\n",
    "data1.values.shape\n",
    "data2=data1.values\n",
    "X=np.array(data2).astype(float)  \n",
    "#X =  X.CURE_SMOTE()"
   ]
  },
  {
   "cell_type": "code",
   "execution_count": 5,
   "metadata": {},
   "outputs": [],
   "source": [
    "y=X[:,cell-1]\n",
    "X=X[:,0:cell-1]\n",
    "X_res, y_res = X, y\n",
    "X_res.shape,y_res.shape\n",
    "X_res.shape\n",
    "X_res=X_res.reshape(row1,cell-1,1)\n",
    "X_test, y_test = X_res, y_res"
   ]
  },
  {
   "cell_type": "code",
   "execution_count": 6,
   "metadata": {
    "scrolled": true
   },
   "outputs": [
    {
     "data": {
      "text/plain": [
       "((731, 20, 1), (445, 20, 1), (731, 2), (445, 2))"
      ]
     },
     "execution_count": 6,
     "metadata": {},
     "output_type": "execute_result"
    }
   ],
   "source": [
    "# 转换标签为独热编码\n",
    "y_train = to_categorical(y_train)\n",
    "y_test = to_categorical(y_test)\n",
    "X_train.shape, X_test.shape, y_train.shape, y_test.shape"
   ]
  },
  {
   "cell_type": "code",
   "execution_count": 7,
   "metadata": {},
   "outputs": [],
   "source": [
    "def recall_m(y_true, y_pred):\n",
    "        true_positives = K.sum(K.round(K.clip(y_true * y_pred, 0, 1)))\n",
    "        possible_positives = K.sum(K.round(K.clip(y_true, 0, 1)))\n",
    "        recall = true_positives / (possible_positives + K.epsilon())\n",
    "        return recall\n",
    "\n",
    "def precision_m(y_true, y_pred):\n",
    "        true_positives = K.sum(K.round(K.clip(y_true * y_pred, 0, 1)))\n",
    "        predicted_positives = K.sum(K.round(K.clip(y_pred, 0, 1)))\n",
    "        precision = true_positives / (predicted_positives + K.epsilon())\n",
    "        return precision\n",
    "\n",
    "def f1_m(y_true, y_pred):\n",
    "    precision = precision_m(y_true, y_pred)\n",
    "    recall = recall_m(y_true, y_pred)\n",
    "    return 2*((precision*recall)/(precision+recall+K.epsilon()))\n",
    "threshold = 0.5  \n",
    "\n",
    "def mcc_metric(y_true, y_pred):\n",
    "    predicted = tf.cast(tf.greater(y_pred, threshold), tf.float32)\n",
    "    true_pos = tf.math.count_nonzero(predicted * y_true)\n",
    "    true_neg = tf.math.count_nonzero((predicted - 1) * (y_true - 1))\n",
    "    false_pos = tf.math.count_nonzero(predicted * (y_true - 1))\n",
    "    false_neg = tf.math.count_nonzero((predicted - 1) * y_true)\n",
    "    x = tf.cast((true_pos + false_pos) * (true_pos + false_neg) \n",
    "        * (true_neg + false_pos) * (true_neg + false_neg), tf.float32)\n",
    "    return tf.cast((true_pos * true_neg) - (false_pos * false_neg), tf.float32) / tf.sqrt(x)\n"
   ]
  },
  {
   "cell_type": "code",
   "execution_count": 8,
   "metadata": {},
   "outputs": [],
   "source": [
    "num_classes=2\n",
    "from keras import regularizers\n",
    "def baseline_model():\n",
    "    # create model\n",
    "    model = Sequential()\n",
    "    model.add(Conv1D(filters=12, kernel_size=4 , input_shape=(cell-1,1),activation= 'relu', kernel_regularizer=regularizers.l2(0.001) ))\n",
    "    model.add(MaxPooling1D(pool_size=2))\n",
    "    #model.add(Dropout(0.2))\n",
    "    model.add(Flatten())\n",
    "    model.add(Dense(21, activation= 'relu', kernel_regularizer=regularizers.l2(0.001)))\n",
    "    model.add(Dense(num_classes, activation= 'sigmoid', kernel_regularizer=regularizers.l2(0.001) ))\n",
    "    # Compile model\n",
    "    model.compile(loss= 'binary_crossentropy' , optimizer= 'adam' , metrics=['accuracy' ,f1_m,recall_m,mcc_metric])\n",
    "    return model"
   ]
  },
  {
   "cell_type": "code",
   "execution_count": 9,
   "metadata": {},
   "outputs": [],
   "source": [
    "\n",
    "X_train, X_test, y_train, y_test = train_test_split(X_res, y_res, test_size=0.2)\n",
    "y_train = to_categorical(y_train)\n",
    "y_test = to_categorical(y_test)\n"
   ]
  },
  {
   "cell_type": "code",
   "execution_count": 10,
   "metadata": {},
   "outputs": [
    {
     "name": "stdout",
     "output_type": "stream",
     "text": [
      "Epoch 1/50\n"
     ]
    },
    {
     "name": "stderr",
     "output_type": "stream",
     "text": [
      "G:\\anaconda3\\Lib\\site-packages\\keras\\src\\layers\\convolutional\\base_conv.py:107: UserWarning: Do not pass an `input_shape`/`input_dim` argument to a layer. When using Sequential models, prefer using an `Input(shape)` object as the first layer in the model instead.\n",
      "  super().__init__(activity_regularizer=activity_regularizer, **kwargs)\n"
     ]
    },
    {
     "name": "stdout",
     "output_type": "stream",
     "text": [
      "\u001b[1m8/8\u001b[0m \u001b[32m━━━━━━━━━━━━━━━━━━━━\u001b[0m\u001b[37m\u001b[0m \u001b[1m3s\u001b[0m 69ms/step - accuracy: 0.2074 - f1_m: 0.3131 - loss: 29.2113 - mcc_metric: -0.5039 - recall_m: 0.3408 - val_accuracy: 0.1124 - val_f1_m: 0.2728 - val_loss: 10.7995 - val_mcc_metric: -0.6388 - val_recall_m: 0.3054\n",
      "Epoch 2/50\n",
      "\u001b[1m8/8\u001b[0m \u001b[32m━━━━━━━━━━━━━━━━━━━━\u001b[0m\u001b[37m\u001b[0m \u001b[1m0s\u001b[0m 7ms/step - accuracy: 0.2354 - f1_m: 0.3972 - loss: 17.4296 - mcc_metric: -0.4014 - recall_m: 0.4583 - val_accuracy: 0.1685 - val_f1_m: 0.4022 - val_loss: 6.2206 - val_mcc_metric: -0.3863 - val_recall_m: 0.4608\n",
      "Epoch 3/50\n",
      "\u001b[1m8/8\u001b[0m \u001b[32m━━━━━━━━━━━━━━━━━━━━\u001b[0m\u001b[37m\u001b[0m \u001b[1m0s\u001b[0m 7ms/step - accuracy: 0.3303 - f1_m: 0.5109 - loss: 6.3061 - mcc_metric: -0.1701 - recall_m: 0.6064 - val_accuracy: 0.7079 - val_f1_m: 0.6795 - val_loss: 6.8328 - val_mcc_metric: 0.2572 - val_recall_m: 0.8074\n",
      "Epoch 4/50\n",
      "\u001b[1m8/8\u001b[0m \u001b[32m━━━━━━━━━━━━━━━━━━━━\u001b[0m\u001b[37m\u001b[0m \u001b[1m0s\u001b[0m 6ms/step - accuracy: 0.7622 - f1_m: 0.6821 - loss: 5.8627 - mcc_metric: 0.2816 - recall_m: 0.7870 - val_accuracy: 0.8202 - val_f1_m: 0.7498 - val_loss: 6.9032 - val_mcc_metric: 0.4858 - val_recall_m: 0.7674\n",
      "Epoch 5/50\n",
      "\u001b[1m8/8\u001b[0m \u001b[32m━━━━━━━━━━━━━━━━━━━━\u001b[0m\u001b[37m\u001b[0m \u001b[1m0s\u001b[0m 7ms/step - accuracy: 0.8057 - f1_m: 0.7250 - loss: 3.5977 - mcc_metric: 0.4529 - recall_m: 0.7253 - val_accuracy: 0.8427 - val_f1_m: 0.6950 - val_loss: 4.0089 - val_mcc_metric: 0.5131 - val_recall_m: 0.5849\n",
      "Epoch 6/50\n",
      "\u001b[1m8/8\u001b[0m \u001b[32m━━━━━━━━━━━━━━━━━━━━\u001b[0m\u001b[37m\u001b[0m \u001b[1m0s\u001b[0m 6ms/step - accuracy: 0.8121 - f1_m: 0.7126 - loss: 2.1393 - mcc_metric: 0.5531 - recall_m: 0.6019 - val_accuracy: 0.7978 - val_f1_m: 0.7361 - val_loss: 1.6428 - val_mcc_metric: 0.5544 - val_recall_m: 0.6462\n",
      "Epoch 7/50\n",
      "\u001b[1m8/8\u001b[0m \u001b[32m━━━━━━━━━━━━━━━━━━━━\u001b[0m\u001b[37m\u001b[0m \u001b[1m0s\u001b[0m 6ms/step - accuracy: 0.7262 - f1_m: 0.6542 - loss: 1.3454 - mcc_metric: 0.4183 - recall_m: 0.5704 - val_accuracy: 0.8764 - val_f1_m: 0.8693 - val_loss: 1.2050 - val_mcc_metric: 0.7336 - val_recall_m: 0.8815\n",
      "Epoch 8/50\n",
      "\u001b[1m8/8\u001b[0m \u001b[32m━━━━━━━━━━━━━━━━━━━━\u001b[0m\u001b[37m\u001b[0m \u001b[1m0s\u001b[0m 6ms/step - accuracy: 0.8493 - f1_m: 0.8337 - loss: 1.6112 - mcc_metric: 0.6609 - recall_m: 0.8497 - val_accuracy: 0.8764 - val_f1_m: 0.8815 - val_loss: 4.3225 - val_mcc_metric: 0.7631 - val_recall_m: 0.8815\n",
      "Epoch 9/50\n",
      "\u001b[1m8/8\u001b[0m \u001b[32m━━━━━━━━━━━━━━━━━━━━\u001b[0m\u001b[37m\u001b[0m \u001b[1m0s\u001b[0m 6ms/step - accuracy: 0.8365 - f1_m: 0.8321 - loss: 1.5484 - mcc_metric: 0.6612 - recall_m: 0.8394 - val_accuracy: 0.8539 - val_f1_m: 0.8635 - val_loss: 1.4244 - val_mcc_metric: 0.7159 - val_recall_m: 0.9172\n",
      "Epoch 10/50\n",
      "\u001b[1m8/8\u001b[0m \u001b[32m━━━━━━━━━━━━━━━━━━━━\u001b[0m\u001b[37m\u001b[0m \u001b[1m0s\u001b[0m 6ms/step - accuracy: 0.7507 - f1_m: 0.7764 - loss: 1.5012 - mcc_metric: 0.5305 - recall_m: 0.8299 - val_accuracy: 0.8764 - val_f1_m: 0.8379 - val_loss: 1.0194 - val_mcc_metric: 0.6680 - val_recall_m: 0.8744\n",
      "Epoch 11/50\n",
      "\u001b[1m8/8\u001b[0m \u001b[32m━━━━━━━━━━━━━━━━━━━━\u001b[0m\u001b[37m\u001b[0m \u001b[1m0s\u001b[0m 6ms/step - accuracy: 0.8027 - f1_m: 0.8166 - loss: 1.1466 - mcc_metric: 0.6191 - recall_m: 0.8513 - val_accuracy: 0.8764 - val_f1_m: 0.8687 - val_loss: 2.0236 - val_mcc_metric: 0.7405 - val_recall_m: 0.8587\n",
      "Epoch 12/50\n",
      "\u001b[1m8/8\u001b[0m \u001b[32m━━━━━━━━━━━━━━━━━━━━\u001b[0m\u001b[37m\u001b[0m \u001b[1m0s\u001b[0m 6ms/step - accuracy: 0.8298 - f1_m: 0.8195 - loss: 1.4100 - mcc_metric: 0.6433 - recall_m: 0.8135 - val_accuracy: 0.9101 - val_f1_m: 0.9036 - val_loss: 0.8101 - val_mcc_metric: 0.8028 - val_recall_m: 0.9144\n",
      "Epoch 13/50\n",
      "\u001b[1m8/8\u001b[0m \u001b[32m━━━━━━━━━━━━━━━━━━━━\u001b[0m\u001b[37m\u001b[0m \u001b[1m0s\u001b[0m 6ms/step - accuracy: 0.7963 - f1_m: 0.7868 - loss: 1.3178 - mcc_metric: 0.5591 - recall_m: 0.8152 - val_accuracy: 0.8989 - val_f1_m: 0.9127 - val_loss: 0.7220 - val_mcc_metric: 0.8190 - val_recall_m: 0.9400\n",
      "Epoch 14/50\n",
      "\u001b[1m8/8\u001b[0m \u001b[32m━━━━━━━━━━━━━━━━━━━━\u001b[0m\u001b[37m\u001b[0m \u001b[1m0s\u001b[0m 6ms/step - accuracy: 0.8128 - f1_m: 0.8205 - loss: 1.0012 - mcc_metric: 0.6367 - recall_m: 0.8303 - val_accuracy: 0.8764 - val_f1_m: 0.8918 - val_loss: 1.5734 - val_mcc_metric: 0.7861 - val_recall_m: 0.8815\n",
      "Epoch 15/50\n",
      "\u001b[1m8/8\u001b[0m \u001b[32m━━━━━━━━━━━━━━━━━━━━\u001b[0m\u001b[37m\u001b[0m \u001b[1m0s\u001b[0m 6ms/step - accuracy: 0.8698 - f1_m: 0.8660 - loss: 0.7492 - mcc_metric: 0.7279 - recall_m: 0.8742 - val_accuracy: 0.8876 - val_f1_m: 0.8902 - val_loss: 0.6745 - val_mcc_metric: 0.7788 - val_recall_m: 0.8944\n",
      "Epoch 16/50\n",
      "\u001b[1m8/8\u001b[0m \u001b[32m━━━━━━━━━━━━━━━━━━━━\u001b[0m\u001b[37m\u001b[0m \u001b[1m0s\u001b[0m 6ms/step - accuracy: 0.8069 - f1_m: 0.8094 - loss: 0.8170 - mcc_metric: 0.6204 - recall_m: 0.8076 - val_accuracy: 0.8876 - val_f1_m: 0.8979 - val_loss: 1.3066 - val_mcc_metric: 0.7994 - val_recall_m: 0.8815\n",
      "Epoch 17/50\n",
      "\u001b[1m8/8\u001b[0m \u001b[32m━━━━━━━━━━━━━━━━━━━━\u001b[0m\u001b[37m\u001b[0m \u001b[1m0s\u001b[0m 6ms/step - accuracy: 0.8135 - f1_m: 0.8216 - loss: 0.7752 - mcc_metric: 0.6464 - recall_m: 0.8192 - val_accuracy: 0.8876 - val_f1_m: 0.8885 - val_loss: 0.5730 - val_mcc_metric: 0.7788 - val_recall_m: 0.8844\n",
      "Epoch 18/50\n",
      "\u001b[1m8/8\u001b[0m \u001b[32m━━━━━━━━━━━━━━━━━━━━\u001b[0m\u001b[37m\u001b[0m \u001b[1m0s\u001b[0m 7ms/step - accuracy: 0.8106 - f1_m: 0.7952 - loss: 0.8545 - mcc_metric: 0.5976 - recall_m: 0.7828 - val_accuracy: 0.8764 - val_f1_m: 0.8875 - val_loss: 1.6563 - val_mcc_metric: 0.7760 - val_recall_m: 0.8815\n",
      "Epoch 19/50\n",
      "\u001b[1m8/8\u001b[0m \u001b[32m━━━━━━━━━━━━━━━━━━━━\u001b[0m\u001b[37m\u001b[0m \u001b[1m0s\u001b[0m 5ms/step - accuracy: 0.8162 - f1_m: 0.8194 - loss: 0.8723 - mcc_metric: 0.6421 - recall_m: 0.8125 - val_accuracy: 0.8876 - val_f1_m: 0.8729 - val_loss: 0.5865 - val_mcc_metric: 0.7582 - val_recall_m: 0.8387\n",
      "Epoch 20/50\n",
      "\u001b[1m8/8\u001b[0m \u001b[32m━━━━━━━━━━━━━━━━━━━━\u001b[0m\u001b[37m\u001b[0m \u001b[1m0s\u001b[0m 5ms/step - accuracy: 0.7925 - f1_m: 0.7882 - loss: 0.6654 - mcc_metric: 0.5920 - recall_m: 0.7645 - val_accuracy: 0.8989 - val_f1_m: 0.8875 - val_loss: 0.9281 - val_mcc_metric: 0.7760 - val_recall_m: 0.8815\n",
      "Epoch 21/50\n",
      "\u001b[1m8/8\u001b[0m \u001b[32m━━━━━━━━━━━━━━━━━━━━\u001b[0m\u001b[37m\u001b[0m \u001b[1m0s\u001b[0m 6ms/step - accuracy: 0.8299 - f1_m: 0.8317 - loss: 0.5588 - mcc_metric: 0.6640 - recall_m: 0.8321 - val_accuracy: 0.8652 - val_f1_m: 0.8712 - val_loss: 0.5677 - val_mcc_metric: 0.7515 - val_recall_m: 0.8487\n",
      "Epoch 22/50\n",
      "\u001b[1m8/8\u001b[0m \u001b[32m━━━━━━━━━━━━━━━━━━━━\u001b[0m\u001b[37m\u001b[0m \u001b[1m0s\u001b[0m 6ms/step - accuracy: 0.7951 - f1_m: 0.7849 - loss: 0.5929 - mcc_metric: 0.5726 - recall_m: 0.7819 - val_accuracy: 0.8989 - val_f1_m: 0.8937 - val_loss: 0.7880 - val_mcc_metric: 0.7893 - val_recall_m: 0.8815\n",
      "Epoch 23/50\n",
      "\u001b[1m8/8\u001b[0m \u001b[32m━━━━━━━━━━━━━━━━━━━━\u001b[0m\u001b[37m\u001b[0m \u001b[1m0s\u001b[0m 6ms/step - accuracy: 0.8137 - f1_m: 0.8097 - loss: 0.5835 - mcc_metric: 0.6142 - recall_m: 0.8210 - val_accuracy: 0.9101 - val_f1_m: 0.9105 - val_loss: 0.5993 - val_mcc_metric: 0.8217 - val_recall_m: 0.9044\n",
      "Epoch 24/50\n",
      "\u001b[1m8/8\u001b[0m \u001b[32m━━━━━━━━━━━━━━━━━━━━\u001b[0m\u001b[37m\u001b[0m \u001b[1m0s\u001b[0m 6ms/step - accuracy: 0.8520 - f1_m: 0.8347 - loss: 0.5900 - mcc_metric: 0.6654 - recall_m: 0.8481 - val_accuracy: 0.8764 - val_f1_m: 0.8921 - val_loss: 0.4472 - val_mcc_metric: 0.7896 - val_recall_m: 0.8715\n",
      "Epoch 25/50\n",
      "\u001b[1m8/8\u001b[0m \u001b[32m━━━━━━━━━━━━━━━━━━━━\u001b[0m\u001b[37m\u001b[0m \u001b[1m0s\u001b[0m 6ms/step - accuracy: 0.8075 - f1_m: 0.8085 - loss: 0.6959 - mcc_metric: 0.6224 - recall_m: 0.7957 - val_accuracy: 0.9101 - val_f1_m: 0.9095 - val_loss: 0.8332 - val_mcc_metric: 0.8256 - val_recall_m: 0.8844\n",
      "Epoch 26/50\n",
      "\u001b[1m8/8\u001b[0m \u001b[32m━━━━━━━━━━━━━━━━━━━━\u001b[0m\u001b[37m\u001b[0m \u001b[1m0s\u001b[0m 6ms/step - accuracy: 0.8166 - f1_m: 0.8150 - loss: 0.6219 - mcc_metric: 0.6463 - recall_m: 0.7876 - val_accuracy: 0.8764 - val_f1_m: 0.8772 - val_loss: 0.4649 - val_mcc_metric: 0.7689 - val_recall_m: 0.8387\n",
      "Epoch 27/50\n",
      "\u001b[1m8/8\u001b[0m \u001b[32m━━━━━━━━━━━━━━━━━━━━\u001b[0m\u001b[37m\u001b[0m \u001b[1m0s\u001b[0m 6ms/step - accuracy: 0.7883 - f1_m: 0.7937 - loss: 0.5860 - mcc_metric: 0.6091 - recall_m: 0.7582 - val_accuracy: 0.8876 - val_f1_m: 0.8837 - val_loss: 0.5981 - val_mcc_metric: 0.7693 - val_recall_m: 0.8715\n",
      "Epoch 28/50\n",
      "\u001b[1m8/8\u001b[0m \u001b[32m━━━━━━━━━━━━━━━━━━━━\u001b[0m\u001b[37m\u001b[0m \u001b[1m0s\u001b[0m 7ms/step - accuracy: 0.8077 - f1_m: 0.8113 - loss: 0.5110 - mcc_metric: 0.6288 - recall_m: 0.8002 - val_accuracy: 0.8989 - val_f1_m: 0.8891 - val_loss: 0.7665 - val_mcc_metric: 0.7839 - val_recall_m: 0.8687\n",
      "Epoch 29/50\n",
      "\u001b[1m8/8\u001b[0m \u001b[32m━━━━━━━━━━━━━━━━━━━━\u001b[0m\u001b[37m\u001b[0m \u001b[1m0s\u001b[0m 5ms/step - accuracy: 0.8214 - f1_m: 0.8073 - loss: 0.5138 - mcc_metric: 0.6234 - recall_m: 0.7910 - val_accuracy: 0.8539 - val_f1_m: 0.8675 - val_loss: 0.5791 - val_mcc_metric: 0.7360 - val_recall_m: 0.8615\n",
      "Epoch 30/50\n",
      "\u001b[1m8/8\u001b[0m \u001b[32m━━━━━━━━━━━━━━━━━━━━\u001b[0m\u001b[37m\u001b[0m \u001b[1m0s\u001b[0m 6ms/step - accuracy: 0.8301 - f1_m: 0.8200 - loss: 0.4428 - mcc_metric: 0.6472 - recall_m: 0.8068 - val_accuracy: 0.9101 - val_f1_m: 0.8859 - val_loss: 0.7307 - val_mcc_metric: 0.7763 - val_recall_m: 0.8715\n",
      "Epoch 31/50\n",
      "\u001b[1m8/8\u001b[0m \u001b[32m━━━━━━━━━━━━━━━━━━━━\u001b[0m\u001b[37m\u001b[0m \u001b[1m0s\u001b[0m 6ms/step - accuracy: 0.8460 - f1_m: 0.8577 - loss: 0.4676 - mcc_metric: 0.7170 - recall_m: 0.8518 - val_accuracy: 0.8539 - val_f1_m: 0.8350 - val_loss: 0.5535 - val_mcc_metric: 0.6666 - val_recall_m: 0.8459\n",
      "Epoch 32/50\n",
      "\u001b[1m8/8\u001b[0m \u001b[32m━━━━━━━━━━━━━━━━━━━━\u001b[0m\u001b[37m\u001b[0m \u001b[1m0s\u001b[0m 6ms/step - accuracy: 0.8353 - f1_m: 0.8273 - loss: 0.4965 - mcc_metric: 0.6571 - recall_m: 0.8207 - val_accuracy: 0.8876 - val_f1_m: 0.9005 - val_loss: 0.5657 - val_mcc_metric: 0.8017 - val_recall_m: 0.8944\n",
      "Epoch 33/50\n",
      "\u001b[1m8/8\u001b[0m \u001b[32m━━━━━━━━━━━━━━━━━━━━\u001b[0m\u001b[37m\u001b[0m \u001b[1m0s\u001b[0m 6ms/step - accuracy: 0.8344 - f1_m: 0.8272 - loss: 0.4610 - mcc_metric: 0.6605 - recall_m: 0.8156 - val_accuracy: 0.9101 - val_f1_m: 0.8979 - val_loss: 0.6307 - val_mcc_metric: 0.7994 - val_recall_m: 0.8815\n",
      "Epoch 34/50\n",
      "\u001b[1m8/8\u001b[0m \u001b[32m━━━━━━━━━━━━━━━━━━━━\u001b[0m\u001b[37m\u001b[0m \u001b[1m0s\u001b[0m 6ms/step - accuracy: 0.8280 - f1_m: 0.8236 - loss: 0.5236 - mcc_metric: 0.6453 - recall_m: 0.8285 - val_accuracy: 0.9101 - val_f1_m: 0.9037 - val_loss: 0.7555 - val_mcc_metric: 0.8093 - val_recall_m: 0.8915\n",
      "Epoch 35/50\n",
      "\u001b[1m8/8\u001b[0m \u001b[32m━━━━━━━━━━━━━━━━━━━━\u001b[0m\u001b[37m\u001b[0m \u001b[1m0s\u001b[0m 6ms/step - accuracy: 0.8446 - f1_m: 0.8261 - loss: 0.4858 - mcc_metric: 0.6455 - recall_m: 0.8457 - val_accuracy: 0.8652 - val_f1_m: 0.8543 - val_loss: 0.4820 - val_mcc_metric: 0.6966 - val_recall_m: 0.9144\n",
      "Epoch 36/50\n",
      "\u001b[1m8/8\u001b[0m \u001b[32m━━━━━━━━━━━━━━━━━━━━\u001b[0m\u001b[37m\u001b[0m \u001b[1m0s\u001b[0m 7ms/step - accuracy: 0.8370 - f1_m: 0.8350 - loss: 0.4569 - mcc_metric: 0.6596 - recall_m: 0.8703 - val_accuracy: 0.8989 - val_f1_m: 0.8986 - val_loss: 0.6222 - val_mcc_metric: 0.7988 - val_recall_m: 0.8944\n",
      "Epoch 37/50\n",
      "\u001b[1m8/8\u001b[0m \u001b[32m━━━━━━━━━━━━━━━━━━━━\u001b[0m\u001b[37m\u001b[0m \u001b[1m0s\u001b[0m 6ms/step - accuracy: 0.8522 - f1_m: 0.8446 - loss: 0.3905 - mcc_metric: 0.6927 - recall_m: 0.8418 - val_accuracy: 0.8652 - val_f1_m: 0.8825 - val_loss: 0.4382 - val_mcc_metric: 0.7690 - val_recall_m: 0.8744\n",
      "Epoch 38/50\n",
      "\u001b[1m8/8\u001b[0m \u001b[32m━━━━━━━━━━━━━━━━━━━━\u001b[0m\u001b[37m\u001b[0m \u001b[1m0s\u001b[0m 6ms/step - accuracy: 0.8185 - f1_m: 0.8184 - loss: 0.4808 - mcc_metric: 0.6471 - recall_m: 0.7990 - val_accuracy: 0.8989 - val_f1_m: 0.9091 - val_loss: 0.5189 - val_mcc_metric: 0.8220 - val_recall_m: 0.8944\n",
      "Epoch 39/50\n",
      "\u001b[1m8/8\u001b[0m \u001b[32m━━━━━━━━━━━━━━━━━━━━\u001b[0m\u001b[37m\u001b[0m \u001b[1m0s\u001b[0m 6ms/step - accuracy: 0.8256 - f1_m: 0.8096 - loss: 0.4172 - mcc_metric: 0.6321 - recall_m: 0.7870 - val_accuracy: 0.8989 - val_f1_m: 0.9068 - val_loss: 0.4128 - val_mcc_metric: 0.8118 - val_recall_m: 0.9172\n",
      "Epoch 40/50\n",
      "\u001b[1m8/8\u001b[0m \u001b[32m━━━━━━━━━━━━━━━━━━━━\u001b[0m\u001b[37m\u001b[0m \u001b[1m0s\u001b[0m 7ms/step - accuracy: 0.8442 - f1_m: 0.8357 - loss: 0.3996 - mcc_metric: 0.6709 - recall_m: 0.8368 - val_accuracy: 0.8989 - val_f1_m: 0.9119 - val_loss: 0.4304 - val_mcc_metric: 0.8220 - val_recall_m: 0.9144\n",
      "Epoch 41/50\n",
      "\u001b[1m8/8\u001b[0m \u001b[32m━━━━━━━━━━━━━━━━━━━━\u001b[0m\u001b[37m\u001b[0m \u001b[1m0s\u001b[0m 6ms/step - accuracy: 0.8671 - f1_m: 0.8616 - loss: 0.3808 - mcc_metric: 0.7263 - recall_m: 0.8529 - val_accuracy: 0.8989 - val_f1_m: 0.8918 - val_loss: 0.8235 - val_mcc_metric: 0.7861 - val_recall_m: 0.8815\n",
      "Epoch 42/50\n",
      "\u001b[1m8/8\u001b[0m \u001b[32m━━━━━━━━━━━━━━━━━━━━\u001b[0m\u001b[37m\u001b[0m \u001b[1m0s\u001b[0m 5ms/step - accuracy: 0.8657 - f1_m: 0.8678 - loss: 0.4232 - mcc_metric: 0.7402 - recall_m: 0.8544 - val_accuracy: 0.9101 - val_f1_m: 0.9241 - val_loss: 0.4060 - val_mcc_metric: 0.8450 - val_recall_m: 0.9372\n",
      "Epoch 43/50\n",
      "\u001b[1m8/8\u001b[0m \u001b[32m━━━━━━━━━━━━━━━━━━━━\u001b[0m\u001b[37m\u001b[0m \u001b[1m0s\u001b[0m 5ms/step - accuracy: 0.8149 - f1_m: 0.8288 - loss: 0.4423 - mcc_metric: 0.6518 - recall_m: 0.8447 - val_accuracy: 0.8989 - val_f1_m: 0.9132 - val_loss: 0.4683 - val_mcc_metric: 0.8228 - val_recall_m: 0.9244\n",
      "Epoch 44/50\n",
      "\u001b[1m8/8\u001b[0m \u001b[32m━━━━━━━━━━━━━━━━━━━━\u001b[0m\u001b[37m\u001b[0m \u001b[1m0s\u001b[0m 7ms/step - accuracy: 0.8715 - f1_m: 0.8552 - loss: 0.3939 - mcc_metric: 0.7069 - recall_m: 0.8665 - val_accuracy: 0.8764 - val_f1_m: 0.8918 - val_loss: 1.2820 - val_mcc_metric: 0.7861 - val_recall_m: 0.8815\n",
      "Epoch 45/50\n",
      "\u001b[1m8/8\u001b[0m \u001b[32m━━━━━━━━━━━━━━━━━━━━\u001b[0m\u001b[37m\u001b[0m \u001b[1m0s\u001b[0m 6ms/step - accuracy: 0.8667 - f1_m: 0.8682 - loss: 0.5586 - mcc_metric: 0.7396 - recall_m: 0.8560 - val_accuracy: 0.8652 - val_f1_m: 0.8466 - val_loss: 0.5222 - val_mcc_metric: 0.6869 - val_recall_m: 0.8659\n",
      "Epoch 46/50\n",
      "\u001b[1m8/8\u001b[0m \u001b[32m━━━━━━━━━━━━━━━━━━━━\u001b[0m\u001b[37m\u001b[0m \u001b[1m0s\u001b[0m 6ms/step - accuracy: 0.8150 - f1_m: 0.8163 - loss: 0.5638 - mcc_metric: 0.6334 - recall_m: 0.8152 - val_accuracy: 0.9101 - val_f1_m: 0.9276 - val_loss: 0.5894 - val_mcc_metric: 0.8524 - val_recall_m: 0.9472\n",
      "Epoch 47/50\n",
      "\u001b[1m8/8\u001b[0m \u001b[32m━━━━━━━━━━━━━━━━━━━━\u001b[0m\u001b[37m\u001b[0m \u001b[1m0s\u001b[0m 6ms/step - accuracy: 0.8785 - f1_m: 0.8741 - loss: 0.3593 - mcc_metric: 0.7469 - recall_m: 0.8766 - val_accuracy: 0.8989 - val_f1_m: 0.9155 - val_loss: 0.6716 - val_mcc_metric: 0.8290 - val_recall_m: 0.9244\n",
      "Epoch 48/50\n",
      "\u001b[1m8/8\u001b[0m \u001b[32m━━━━━━━━━━━━━━━━━━━━\u001b[0m\u001b[37m\u001b[0m \u001b[1m0s\u001b[0m 8ms/step - accuracy: 0.8594 - f1_m: 0.8564 - loss: 0.3989 - mcc_metric: 0.7149 - recall_m: 0.8510 - val_accuracy: 0.8539 - val_f1_m: 0.8209 - val_loss: 0.6759 - val_mcc_metric: 0.6379 - val_recall_m: 0.8303\n",
      "Epoch 49/50\n",
      "\u001b[1m8/8\u001b[0m \u001b[32m━━━━━━━━━━━━━━━━━━━━\u001b[0m\u001b[37m\u001b[0m \u001b[1m0s\u001b[0m 6ms/step - accuracy: 0.7866 - f1_m: 0.7682 - loss: 0.7254 - mcc_metric: 0.5417 - recall_m: 0.7612 - val_accuracy: 0.8764 - val_f1_m: 0.8815 - val_loss: 2.1003 - val_mcc_metric: 0.7631 - val_recall_m: 0.8815\n",
      "Epoch 50/50\n",
      "\u001b[1m8/8\u001b[0m \u001b[32m━━━━━━━━━━━━━━━━━━━━\u001b[0m\u001b[37m\u001b[0m \u001b[1m0s\u001b[0m 6ms/step - accuracy: 0.8495 - f1_m: 0.8411 - loss: 0.7192 - mcc_metric: 0.6843 - recall_m: 0.8398 - val_accuracy: 0.8539 - val_f1_m: 0.8413 - val_loss: 0.5486 - val_mcc_metric: 0.6746 - val_recall_m: 0.8659\n",
      "CNN Error: 13.96%\n"
     ]
    }
   ],
   "source": [
    "# build the model\n",
    "model = baseline_model()\n",
    "# Fit the model\n",
    "history = model.fit(X_train, y_train, validation_data=(X_test, y_test), epochs=50, batch_size=50,verbose=1)\n",
    "# Final evaluation of the model\n",
    "scores = model.evaluate(X_test, y_test, verbose=0)\n",
    "print(\"CNN Error: %.2f%%\" % (100-scores[3]*100))\n",
    "\n"
   ]
  },
  {
   "cell_type": "code",
   "execution_count": 13,
   "metadata": {},
   "outputs": [
    {
     "name": "stdout",
     "output_type": "stream",
     "text": [
      " Loss               Accuracy            F1 score             Recall              Mcc         \n",
      "[0.5486233830451965, 0.8539325594902039, 0.8361876606941223, 0.8604166507720947, 0.6614089012145996]\n"
     ]
    }
   ],
   "source": [
    "print(\" Loss               Accuracy            F1 score             Recall              Mcc         \")\n",
    "print(scores)\n"
   ]
  },
  {
   "cell_type": "code",
   "execution_count": null,
   "metadata": {},
   "outputs": [],
   "source": []
  }
 ],
 "metadata": {
  "kernelspec": {
   "display_name": "Python 3",
   "language": "python",
   "name": "python3"
  },
  "language_info": {
   "codemirror_mode": {
    "name": "ipython",
    "version": 3
   },
   "file_extension": ".py",
   "mimetype": "text/x-python",
   "name": "python",
   "nbconvert_exporter": "python",
   "pygments_lexer": "ipython3",
   "version": "3.12.4"
  }
 },
 "nbformat": 4,
 "nbformat_minor": 4
}
