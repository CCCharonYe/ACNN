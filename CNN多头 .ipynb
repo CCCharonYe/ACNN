{
 "cells": [
  {
   "cell_type": "code",
   "execution_count": 1,
   "metadata": {
    "ExecuteTime": {
     "end_time": "2024-04-15T01:30:45.669714Z",
     "start_time": "2024-04-15T01:30:45.640843Z"
    }
   },
   "outputs": [],
   "source": [
    "import matplotlib\n",
    "import matplotlib.pyplot as plt\n",
    "import numpy as np\n",
    "import pandas as pd\n",
    "import tensorflow as tf\n",
    "from keras.optimizers import Adam\n",
    "from keras.regularizers import l2\n",
    "from imblearn.over_sampling import RandomOverSampler,SMOTE\n",
    "from sklearn.model_selection import train_test_split\n",
    "from keras.utils import to_categorical\n",
    "from keras import regularizers\n",
    "from tensorflow.python.keras import backend as K\n",
    "from keras.models import Model\n",
    "from keras.models import Sequential\n",
    "from keras.layers import Dense\n",
    "from keras.layers import Dropout\n",
    "from keras.layers import Flatten\n",
    "from keras.layers import Reshape\n",
    "from keras.layers import MultiHeadAttention\n",
    "from keras.layers import Input\n",
    "from keras.layers import Concatenate,GlobalAveragePooling1D\n",
    "from keras.layers import Masking, LSTM, TimeDistributed\n",
    "from keras.layers import Conv1D\n",
    "from keras.layers import MaxPooling1D\n",
    "import smote_variants as sv"
   ]
  },
  {
   "cell_type": "code",
   "execution_count": 2,
   "metadata": {},
   "outputs": [],
   "source": [
    "data1 = pd.read_csv(\"dataset/AfterDeletejedit40.csv\")\n",
    "(row, cell) = data1.values.shape\n",
    "data2=data1.values\n",
    "X=np.array(data2).astype(float)  \n",
    "#X =  X.CURE_SMOTE()"
   ]
  },
  {
   "cell_type": "code",
   "execution_count": 3,
   "metadata": {},
   "outputs": [],
   "source": [
    "y=X[:,cell-1]\n",
    "X=X[:,0:cell-1]\n",
    "X_res, y_res = X, y\n",
    "X_res.shape,y_res.shape\n",
    "X_res.shape\n",
    "X_res=X_res.reshape(row,cell-1,1)\n",
    "X_train, y_train = X_res, y_res"
   ]
  },
  {
   "cell_type": "code",
   "execution_count": 4,
   "metadata": {},
   "outputs": [],
   "source": [
    "data1 = pd.read_csv(\"dataset/AfterDeletejedit41.csv\")\n",
    "(row1, cell1) = data1.values.shape\n",
    "data1.values.shape\n",
    "data2=data1.values\n",
    "X=np.array(data2).astype(float)  \n",
    "#X =  X.CURE_SMOTE()"
   ]
  },
  {
   "cell_type": "code",
   "execution_count": 5,
   "metadata": {},
   "outputs": [],
   "source": [
    "y=X[:,cell-1]\n",
    "X=X[:,0:cell-1]\n",
    "X_res, y_res = X, y\n",
    "X_res.shape,y_res.shape\n",
    "X_res.shape\n",
    "X_res=X_res.reshape(row1,cell-1,1)\n",
    "X_test, y_test = X_res, y_res"
   ]
  },
  {
   "cell_type": "code",
   "execution_count": 6,
   "metadata": {},
   "outputs": [
    {
     "data": {
      "text/plain": [
       "((419, 20, 1), (283, 20, 1), (419, 2), (283, 2))"
      ]
     },
     "execution_count": 6,
     "metadata": {},
     "output_type": "execute_result"
    }
   ],
   "source": [
    "# 转换标签为独热编码\n",
    "y_train = to_categorical(y_train)\n",
    "y_test = to_categorical(y_test)\n",
    "X_train.shape, X_test.shape, y_train.shape, y_test.shape"
   ]
  },
  {
   "cell_type": "code",
   "execution_count": 7,
   "metadata": {},
   "outputs": [],
   "source": [
    "def recall_m(y_true, y_pred):\n",
    "        true_positives = K.sum(K.round(K.clip(y_true * y_pred, 0, 1)))\n",
    "        possible_positives = K.sum(K.round(K.clip(y_true, 0, 1)))\n",
    "        recall = true_positives / (possible_positives + K.epsilon())\n",
    "        return recall\n",
    "\n",
    "def precision_m(y_true, y_pred):\n",
    "        true_positives = K.sum(K.round(K.clip(y_true * y_pred, 0, 1)))\n",
    "        predicted_positives = K.sum(K.round(K.clip(y_pred, 0, 1)))\n",
    "        precision = true_positives / (predicted_positives + K.epsilon())\n",
    "        return precision\n",
    "\n",
    "def f1_m(y_true, y_pred):\n",
    "    precision = precision_m(y_true, y_pred)\n",
    "    recall = recall_m(y_true, y_pred)\n",
    "    return 2*((precision*recall)/(precision+recall+K.epsilon()))\n",
    "threshold = 0.5  \n",
    "\n",
    "def mcc_metric(y_true, y_pred):\n",
    "    predicted = tf.cast(tf.greater(y_pred, threshold), tf.float32)\n",
    "    true_pos = tf.math.count_nonzero(predicted * y_true)\n",
    "    true_neg = tf.math.count_nonzero((predicted - 1) * (y_true - 1))\n",
    "    false_pos = tf.math.count_nonzero(predicted * (y_true - 1))\n",
    "    false_neg = tf.math.count_nonzero((predicted - 1) * y_true)\n",
    "    x = tf.cast((true_pos + false_pos) * (true_pos + false_neg) \n",
    "        * (true_neg + false_pos) * (true_neg + false_neg), tf.float32)\n",
    "    return tf.cast((true_pos * true_neg) - (false_pos * false_neg), tf.float32) / tf.sqrt(x)\n"
   ]
  },
  {
   "cell_type": "code",
   "execution_count": 8,
   "metadata": {},
   "outputs": [],
   "source": [
    "num_classes = 2\n",
    "\n",
    "def baseline_model():\n",
    "    # Define input layer\n",
    "    inputs = Input(shape=(cell-1, 1))\n",
    "    \n",
    "    # Convolutional layer\n",
    "    conv = Conv1D(filters=12, kernel_size=4, activation='relu', kernel_regularizer='l2')(inputs)\n",
    "    \n",
    "    # Max pooling layer\n",
    "    pool = MaxPooling1D(pool_size=2)(conv)\n",
    "    \n",
    "    # Multi-head attention layer\n",
    "    multi_attention = MultiHeadAttention(num_heads=2, key_dim=2)(pool, pool)  # Applying multi-head attention to the pooled features\n",
    "    \n",
    "    # Flatten layer\n",
    "    flatten = Flatten()(multi_attention)\n",
    "    \n",
    "    # Fully connected layer\n",
    "    fc = Dense(21, activation='relu', kernel_regularizer='l2')(flatten)\n",
    "    \n",
    "    # Output layer\n",
    "    outputs = Dense(num_classes, activation='sigmoid', kernel_regularizer='l2')(fc)\n",
    "    \n",
    "    # Creating model\n",
    "    model = Model(inputs=inputs, outputs=outputs)\n",
    "    \n",
    "    # Compile model\n",
    "    model.compile(loss='binary_crossentropy', optimizer='adam', metrics=['accuracy', f1_m, recall_m, mcc_metric])\n",
    "    \n",
    "    return model\n"
   ]
  },
  {
   "cell_type": "code",
   "execution_count": 9,
   "metadata": {},
   "outputs": [],
   "source": [
    "\n",
    "X_train, X_test, y_train, y_test = train_test_split(X_res, y_res, test_size=0.2)\n",
    "y_train = to_categorical(y_train)\n",
    "y_test = to_categorical(y_test)\n"
   ]
  },
  {
   "cell_type": "code",
   "execution_count": 10,
   "metadata": {},
   "outputs": [
    {
     "name": "stdout",
     "output_type": "stream",
     "text": [
      "Epoch 1/16\n",
      "\u001b[1m12/12\u001b[0m \u001b[32m━━━━━━━━━━━━━━━━━━━━\u001b[0m\u001b[37m\u001b[0m \u001b[1m4s\u001b[0m 43ms/step - accuracy: 0.7888 - f1_m: 0.5968 - loss: 8.9986 - mcc_metric: 0.3520 - recall_m: 0.5023 - val_accuracy: 0.7719 - val_f1_m: 0.6824 - val_loss: 1.5573 - val_mcc_metric: 0.4022 - val_recall_m: 0.6461\n",
      "Epoch 2/16\n",
      "\u001b[1m12/12\u001b[0m \u001b[32m━━━━━━━━━━━━━━━━━━━━\u001b[0m\u001b[37m\u001b[0m \u001b[1m0s\u001b[0m 6ms/step - accuracy: 0.7943 - f1_m: 0.7548 - loss: 2.0259 - mcc_metric: 0.5149 - recall_m: 0.7603 - val_accuracy: 0.8421 - val_f1_m: 0.7911 - val_loss: 1.1863 - val_mcc_metric: 0.5740 - val_recall_m: 0.8049\n",
      "Epoch 3/16\n",
      "\u001b[1m12/12\u001b[0m \u001b[32m━━━━━━━━━━━━━━━━━━━━\u001b[0m\u001b[37m\u001b[0m \u001b[1m0s\u001b[0m 5ms/step - accuracy: 0.8100 - f1_m: 0.7717 - loss: 2.1828 - mcc_metric: 0.5289 - recall_m: 0.8067 - val_accuracy: 0.8070 - val_f1_m: 0.7542 - val_loss: 1.5639 - val_mcc_metric: 0.5853 - val_recall_m: 0.6765\n",
      "Epoch 4/16\n",
      "\u001b[1m12/12\u001b[0m \u001b[32m━━━━━━━━━━━━━━━━━━━━\u001b[0m\u001b[37m\u001b[0m \u001b[1m0s\u001b[0m 5ms/step - accuracy: 0.8617 - f1_m: 0.8185 - loss: 1.8328 - mcc_metric: 0.6616 - recall_m: 0.7843 - val_accuracy: 0.8596 - val_f1_m: 0.8383 - val_loss: 1.1135 - val_mcc_metric: 0.6635 - val_recall_m: 0.8745\n",
      "Epoch 5/16\n",
      "\u001b[1m12/12\u001b[0m \u001b[32m━━━━━━━━━━━━━━━━━━━━\u001b[0m\u001b[37m\u001b[0m \u001b[1m0s\u001b[0m 5ms/step - accuracy: 0.8119 - f1_m: 0.7812 - loss: 1.7263 - mcc_metric: 0.5471 - recall_m: 0.8265 - val_accuracy: 0.8070 - val_f1_m: 0.8167 - val_loss: 1.0871 - val_mcc_metric: 0.6444 - val_recall_m: 0.8020\n",
      "Epoch 6/16\n",
      "\u001b[1m12/12\u001b[0m \u001b[32m━━━━━━━━━━━━━━━━━━━━\u001b[0m\u001b[37m\u001b[0m \u001b[1m0s\u001b[0m 5ms/step - accuracy: 0.8554 - f1_m: 0.8439 - loss: 1.2651 - mcc_metric: 0.6875 - recall_m: 0.8539 - val_accuracy: 0.7719 - val_f1_m: 0.7921 - val_loss: 1.0973 - val_mcc_metric: 0.5699 - val_recall_m: 0.8186\n",
      "Epoch 7/16\n",
      "\u001b[1m12/12\u001b[0m \u001b[32m━━━━━━━━━━━━━━━━━━━━\u001b[0m\u001b[37m\u001b[0m \u001b[1m0s\u001b[0m 5ms/step - accuracy: 0.8226 - f1_m: 0.8208 - loss: 1.2997 - mcc_metric: 0.6303 - recall_m: 0.8545 - val_accuracy: 0.8421 - val_f1_m: 0.7864 - val_loss: 1.0217 - val_mcc_metric: 0.6231 - val_recall_m: 0.7186\n",
      "Epoch 8/16\n",
      "\u001b[1m12/12\u001b[0m \u001b[32m━━━━━━━━━━━━━━━━━━━━\u001b[0m\u001b[37m\u001b[0m \u001b[1m0s\u001b[0m 5ms/step - accuracy: 0.8164 - f1_m: 0.8085 - loss: 1.0867 - mcc_metric: 0.6241 - recall_m: 0.8006 - val_accuracy: 0.8246 - val_f1_m: 0.8026 - val_loss: 0.9416 - val_mcc_metric: 0.6351 - val_recall_m: 0.7549\n",
      "Epoch 9/16\n",
      "\u001b[1m12/12\u001b[0m \u001b[32m━━━━━━━━━━━━━━━━━━━━\u001b[0m\u001b[37m\u001b[0m \u001b[1m0s\u001b[0m 5ms/step - accuracy: 0.8329 - f1_m: 0.8363 - loss: 1.0792 - mcc_metric: 0.6682 - recall_m: 0.8481 - val_accuracy: 0.7719 - val_f1_m: 0.7929 - val_loss: 0.9807 - val_mcc_metric: 0.6134 - val_recall_m: 0.7520\n",
      "Epoch 10/16\n",
      "\u001b[1m12/12\u001b[0m \u001b[32m━━━━━━━━━━━━━━━━━━━━\u001b[0m\u001b[37m\u001b[0m \u001b[1m0s\u001b[0m 5ms/step - accuracy: 0.8158 - f1_m: 0.8186 - loss: 1.0895 - mcc_metric: 0.6439 - recall_m: 0.8129 - val_accuracy: 0.7719 - val_f1_m: 0.7799 - val_loss: 1.1737 - val_mcc_metric: 0.5782 - val_recall_m: 0.7520\n",
      "Epoch 11/16\n",
      "\u001b[1m12/12\u001b[0m \u001b[32m━━━━━━━━━━━━━━━━━━━━\u001b[0m\u001b[37m\u001b[0m \u001b[1m0s\u001b[0m 5ms/step - accuracy: 0.8350 - f1_m: 0.8350 - loss: 1.0587 - mcc_metric: 0.6691 - recall_m: 0.8360 - val_accuracy: 0.8246 - val_f1_m: 0.8168 - val_loss: 0.8942 - val_mcc_metric: 0.6479 - val_recall_m: 0.7882\n",
      "Epoch 12/16\n",
      "\u001b[1m12/12\u001b[0m \u001b[32m━━━━━━━━━━━━━━━━━━━━\u001b[0m\u001b[37m\u001b[0m \u001b[1m0s\u001b[0m 5ms/step - accuracy: 0.8103 - f1_m: 0.8036 - loss: 0.9761 - mcc_metric: 0.6158 - recall_m: 0.7848 - val_accuracy: 0.8246 - val_f1_m: 0.7726 - val_loss: 0.9572 - val_mcc_metric: 0.5381 - val_recall_m: 0.7853\n",
      "Epoch 13/16\n",
      "\u001b[1m12/12\u001b[0m \u001b[32m━━━━━━━━━━━━━━━━━━━━\u001b[0m\u001b[37m\u001b[0m \u001b[1m0s\u001b[0m 6ms/step - accuracy: 0.8194 - f1_m: 0.8169 - loss: 1.0350 - mcc_metric: 0.6256 - recall_m: 0.8477 - val_accuracy: 0.7544 - val_f1_m: 0.7661 - val_loss: 1.1827 - val_mcc_metric: 0.5156 - val_recall_m: 0.7853\n",
      "Epoch 14/16\n",
      "\u001b[1m12/12\u001b[0m \u001b[32m━━━━━━━━━━━━━━━━━━━━\u001b[0m\u001b[37m\u001b[0m \u001b[1m0s\u001b[0m 5ms/step - accuracy: 0.8171 - f1_m: 0.8032 - loss: 0.9968 - mcc_metric: 0.5986 - recall_m: 0.8222 - val_accuracy: 0.8070 - val_f1_m: 0.8019 - val_loss: 0.8893 - val_mcc_metric: 0.6103 - val_recall_m: 0.7882\n",
      "Epoch 15/16\n",
      "\u001b[1m12/12\u001b[0m \u001b[32m━━━━━━━━━━━━━━━━━━━━\u001b[0m\u001b[37m\u001b[0m \u001b[1m0s\u001b[0m 5ms/step - accuracy: 0.8379 - f1_m: 0.8305 - loss: 0.9378 - mcc_metric: 0.6633 - recall_m: 0.8297 - val_accuracy: 0.8246 - val_f1_m: 0.7786 - val_loss: 0.9737 - val_mcc_metric: 0.5750 - val_recall_m: 0.7520\n",
      "Epoch 16/16\n",
      "\u001b[1m12/12\u001b[0m \u001b[32m━━━━━━━━━━━━━━━━━━━━\u001b[0m\u001b[37m\u001b[0m \u001b[1m0s\u001b[0m 5ms/step - accuracy: 0.8555 - f1_m: 0.7558 - loss: 1.0999 - mcc_metric: 0.6097 - recall_m: 0.6649 - val_accuracy: 0.8070 - val_f1_m: 0.8230 - val_loss: 0.8177 - val_mcc_metric: 0.6365 - val_recall_m: 0.8441\n",
      "CNN Error: 15.81%\n"
     ]
    }
   ],
   "source": [
    "# build the model\n",
    "model = baseline_model()\n",
    "# Fit the model\n",
    "history = model.fit(X_train, y_train, validation_data=(X_test, y_test), epochs=16, batch_size=20,verbose=1)\n",
    "# Final evaluation of the model\n",
    "scores = model.evaluate(X_test, y_test, verbose=0)\n",
    "print(\"CNN Error: %.2f%%\" % (100-scores[3]*100))\n"
   ]
  },
  {
   "cell_type": "code",
   "execution_count": 13,
   "metadata": {},
   "outputs": [
    {
     "name": "stdout",
     "output_type": "stream",
     "text": [
      " Loss               Accuracy            F1 score             Recall              Mcc         \n",
      "[0.8176923990249634, 0.8070175647735596, 0.8192306756973267, 0.8418749570846558, 0.6292499899864197]\n"
     ]
    }
   ],
   "source": [
    "print(\" Loss               Accuracy            F1 score             Recall              Mcc         \")\n",
    "print(scores)\n"
   ]
  },
  {
   "cell_type": "code",
   "execution_count": null,
   "metadata": {},
   "outputs": [],
   "source": []
  }
 ],
 "metadata": {
  "kernelspec": {
   "display_name": "Python 3",
   "language": "python",
   "name": "python3"
  },
  "language_info": {
   "codemirror_mode": {
    "name": "ipython",
    "version": 3
   },
   "file_extension": ".py",
   "mimetype": "text/x-python",
   "name": "python",
   "nbconvert_exporter": "python",
   "pygments_lexer": "ipython3",
   "version": "3.12.4"
  }
 },
 "nbformat": 4,
 "nbformat_minor": 4
}
